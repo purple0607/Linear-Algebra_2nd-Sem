{
  "nbformat": 4,
  "nbformat_minor": 0,
  "metadata": {
    "colab": {
      "name": "Assignment5.ipynb",
      "provenance": [],
      "collapsed_sections": [],
      "include_colab_link": true
    },
    "kernelspec": {
      "name": "python3",
      "display_name": "Python 3"
    },
    "language_info": {
      "name": "python"
    }
  },
  "cells": [
    {
      "cell_type": "markdown",
      "metadata": {
        "id": "view-in-github",
        "colab_type": "text"
      },
      "source": [
        "<a href=\"https://colab.research.google.com/github/purple0607/Linear-Algebra_2nd-Sem/blob/main/Assignment5.ipynb\" target=\"_parent\"><img src=\"https://colab.research.google.com/assets/colab-badge.svg\" alt=\"Open In Colab\"/></a>"
      ]
    },
    {
      "cell_type": "markdown",
      "source": [
        "# Linear Algebra for ChE\n",
        "## Laboratory 3 : Matrix Operations\n",
        "\n",
        "\n",
        "\n"
      ],
      "metadata": {
        "id": "_n9lXl02CY8s"
      }
    },
    {
      "cell_type": "markdown",
      "source": [
        "### Objectives\n",
        "In the previous laboratory activity, the students have learned and applied the basic principles, and techniques of using Python in creating and representing matrices. However, this laboratory activity focuses on the application of other matrix operations in Python such as the transposition, dot product, determinant, and inverse matrix operations. Through this activity, the students will be able to learn the application of various matrix operations in programming together with its basic operations and techniques. Upon learning its applications, the students will be able to apply their knowledge in translating matrix operations and properties using Python."
      ],
      "metadata": {
        "id": "6zGE6IpHfrwU"
      }
    },
    {
      "cell_type": "markdown",
      "source": [
        "## Discussion"
      ],
      "metadata": {
        "id": "RkNOnt4A8n9d"
      }
    },
    {
      "cell_type": "code",
      "source": [
        "import numpy as np\n",
        "import matplotlib.pyplot as plt\n",
        "%matplotlib inline"
      ],
      "metadata": {
        "id": "rfScOsEn8wak"
      },
      "execution_count": null,
      "outputs": []
    },
    {
      "cell_type": "markdown",
      "source": [
        "- Numerical Python or \"numpy\" in short, supports a broad range of mathematical operations on arrays. It extends Python with sophisticated data formats that ensure fast array and matrix computations, as well as a vast library of elevated numerical methods that work on these matrices and arrays [1].\n",
        "- Matplotlib.pyplot is a set of algorithms that enable matplotlib to operate similarly to MATLAB. Each pyplot function modifies a figure in a certain way [2].\n"
      ],
      "metadata": {
        "id": "SE45pvipf4hT"
      }
    },
    {
      "cell_type": "markdown",
      "source": [
        "## Transposition"
      ],
      "metadata": {
        "id": "oT3-cBSU8rgU"
      }
    },
    {
      "cell_type": "markdown",
      "source": [
        "This is known to transpose a matrix wherein the values in the row and column have interchange or switch positions through the codes \"np.transpose\" and \".T\". [4]"
      ],
      "metadata": {
        "id": "lq0Efu8cgS_6"
      }
    },
    {
      "cell_type": "markdown",
      "source": [
        "$$P = \\begin{bmatrix} -3 & 9 & 6\\\\0 & -7 & -4 \\\\ -2 & 4 & 8\\end{bmatrix} $$\n",
        "\n",
        "\n",
        "\n"
      ],
      "metadata": {
        "id": "pvHtjus79gRE"
      }
    },
    {
      "cell_type": "markdown",
      "source": [
        "$$ P^T = \\begin{bmatrix} -3 & 0 & -2\\\\9 & -7 &4 \\\\ 6 & -4 & 8\\end{bmatrix}$$"
      ],
      "metadata": {
        "id": "MqZDnEFc9hK9"
      }
    },
    {
      "cell_type": "code",
      "source": [
        "P = np.array([\n",
        "    [-3 ,9, 6],\n",
        "    [0, -7, -4],\n",
        "    [-2, 4, 8]\n",
        "])\n",
        "P"
      ],
      "metadata": {
        "colab": {
          "base_uri": "https://localhost:8080/"
        },
        "id": "SlXSgQy39k6l",
        "outputId": "2b2a7914-83dd-4666-d7df-20b652cb377a"
      },
      "execution_count": null,
      "outputs": [
        {
          "output_type": "execute_result",
          "data": {
            "text/plain": [
              "array([[-3,  9,  6],\n",
              "       [ 0, -7, -4],\n",
              "       [-2,  4,  8]])"
            ]
          },
          "metadata": {},
          "execution_count": 11
        }
      ]
    },
    {
      "cell_type": "code",
      "source": [
        "PT1 = np.transpose(P)\n",
        "PT1"
      ],
      "metadata": {
        "colab": {
          "base_uri": "https://localhost:8080/"
        },
        "id": "GuX3ANzh9qGT",
        "outputId": "670988b0-0a1e-4732-c6a2-642d8b78a27a"
      },
      "execution_count": null,
      "outputs": [
        {
          "output_type": "execute_result",
          "data": {
            "text/plain": [
              "array([[-3,  0, -2],\n",
              "       [ 9, -7,  4],\n",
              "       [ 6, -4,  8]])"
            ]
          },
          "metadata": {},
          "execution_count": 12
        }
      ]
    },
    {
      "cell_type": "code",
      "source": [
        "PT2 = P.T\n",
        "PT2"
      ],
      "metadata": {
        "colab": {
          "base_uri": "https://localhost:8080/"
        },
        "id": "YuHdxRYD9wvr",
        "outputId": "b1441d10-1110-4425-c29b-b0c55f9046ac"
      },
      "execution_count": null,
      "outputs": [
        {
          "output_type": "execute_result",
          "data": {
            "text/plain": [
              "array([[-3,  0, -2],\n",
              "       [ 9, -7,  4],\n",
              "       [ 6, -4,  8]])"
            ]
          },
          "metadata": {},
          "execution_count": 13
        }
      ]
    },
    {
      "cell_type": "code",
      "source": [
        "np.array_equiv(PT1, PT2)"
      ],
      "metadata": {
        "colab": {
          "base_uri": "https://localhost:8080/"
        },
        "id": "qCVE0L5J9ynf",
        "outputId": "10c3bf5f-7dd6-49ed-ddd7-ddb25f3ce17c"
      },
      "execution_count": null,
      "outputs": [
        {
          "output_type": "execute_result",
          "data": {
            "text/plain": [
              "True"
            ]
          },
          "metadata": {},
          "execution_count": 14
        }
      ]
    },
    {
      "cell_type": "code",
      "source": [
        "R = np.array([\n",
        "    [9,11,-7,6,8],\n",
        "    [-21,4,0,-3,9],\n",
        "    [16,0,-4,5,2],\n",
        "    [1,0,22,7,8]\n",
        "])\n",
        "R.shape"
      ],
      "metadata": {
        "colab": {
          "base_uri": "https://localhost:8080/"
        },
        "id": "0KKxRMod90tk",
        "outputId": "c9949c69-3097-441d-eeeb-e4c0ec5d9fc3"
      },
      "execution_count": null,
      "outputs": [
        {
          "output_type": "execute_result",
          "data": {
            "text/plain": [
              "(4, 5)"
            ]
          },
          "metadata": {},
          "execution_count": 15
        }
      ]
    },
    {
      "cell_type": "code",
      "source": [
        "np.transpose(R).shape"
      ],
      "metadata": {
        "colab": {
          "base_uri": "https://localhost:8080/"
        },
        "id": "xQnsgV70-pK8",
        "outputId": "3afa0f3b-875c-4195-dcf1-bd8e959daf62"
      },
      "execution_count": null,
      "outputs": [
        {
          "output_type": "execute_result",
          "data": {
            "text/plain": [
              "(5, 4)"
            ]
          },
          "metadata": {},
          "execution_count": 16
        }
      ]
    },
    {
      "cell_type": "code",
      "source": [
        "R.T.shape"
      ],
      "metadata": {
        "colab": {
          "base_uri": "https://localhost:8080/"
        },
        "id": "Xj6KPgWi-rFr",
        "outputId": "ef04ce0d-1320-4bd8-dd83-3ae9cf8e2bdf"
      },
      "execution_count": null,
      "outputs": [
        {
          "output_type": "execute_result",
          "data": {
            "text/plain": [
              "(5, 4)"
            ]
          },
          "metadata": {},
          "execution_count": 17
        }
      ]
    },
    {
      "cell_type": "code",
      "source": [
        "K = np.array([\n",
        "    [4,-8,7],\n",
        "    [-10,9,16],\n",
        "    [12, 0,-1],\n",
        "    [5,-13,8],\n",
        "    [7,13,-5],\n",
        "])\n",
        "K.shape"
      ],
      "metadata": {
        "colab": {
          "base_uri": "https://localhost:8080/"
        },
        "id": "QUuMFFLT-uxO",
        "outputId": "fa769051-0a9a-4df9-f458-a806be5e0f7c"
      },
      "execution_count": null,
      "outputs": [
        {
          "output_type": "execute_result",
          "data": {
            "text/plain": [
              "(5, 3)"
            ]
          },
          "metadata": {},
          "execution_count": 18
        }
      ]
    },
    {
      "cell_type": "code",
      "source": [
        "np.transpose(K).shape"
      ],
      "metadata": {
        "colab": {
          "base_uri": "https://localhost:8080/"
        },
        "id": "eJaM5Oxk_tmb",
        "outputId": "6ce199cd-c690-4644-92c9-8564a9274331"
      },
      "execution_count": null,
      "outputs": [
        {
          "output_type": "execute_result",
          "data": {
            "text/plain": [
              "(3, 5)"
            ]
          },
          "metadata": {},
          "execution_count": 25
        }
      ]
    },
    {
      "cell_type": "code",
      "source": [
        "K.T.shape"
      ],
      "metadata": {
        "colab": {
          "base_uri": "https://localhost:8080/"
        },
        "id": "QUom3mFb57j7",
        "outputId": "7de1d089-97a3-48f4-bc71-02f3866b2aab"
      },
      "execution_count": null,
      "outputs": [
        {
          "output_type": "execute_result",
          "data": {
            "text/plain": [
              "(3, 5)"
            ]
          },
          "metadata": {},
          "execution_count": 26
        }
      ]
    },
    {
      "cell_type": "code",
      "source": [
        "KT = K.T\n",
        "KT"
      ],
      "metadata": {
        "colab": {
          "base_uri": "https://localhost:8080/"
        },
        "id": "mqpZV3pG6aXr",
        "outputId": "e2a14d0c-4a4e-48bb-a9f8-266a71e1dbe5"
      },
      "execution_count": null,
      "outputs": [
        {
          "output_type": "execute_result",
          "data": {
            "text/plain": [
              "array([[  4, -10,  12,   5,   7],\n",
              "       [ -8,   9,   0, -13,  13],\n",
              "       [  7,  16,  -1,   8,  -5]])"
            ]
          },
          "metadata": {},
          "execution_count": 28
        }
      ]
    },
    {
      "cell_type": "markdown",
      "source": [
        "### Dot Product / Inner Product"
      ],
      "metadata": {
        "id": "6_Y2ZWQ1AZCv"
      }
    },
    {
      "cell_type": "markdown",
      "source": [
        "In this operation, the product of the two matrices is displayed using three different codes: np.dot(), np.matmul() and @ operator. The matrix dot product is more complicated than vector dot products due to the fact that there are rules to follow in the matrix dot product. [3]"
      ],
      "metadata": {
        "id": "aNmAHnF8giTi"
      }
    },
    {
      "cell_type": "markdown",
      "source": [
        "So if we have two matrices $X$ and $Y$:\n",
        "$$X = \\begin{bmatrix}x_{(0,0)}&x_{(0,1)}\\\\ x_{(1,0)}&x_{(1,1)}\\end{bmatrix}, Y = \\begin{bmatrix}y_{(0,0)}&y_{(0,1)}\\\\ y_{(1,0)}&y_{(1,1)}\\end{bmatrix}$$\n",
        "\n",
        "The dot product will then be computed as:\n",
        "$$X \\cdot Y= \\begin{bmatrix} x_{(0,0)}*y_{(0,0)} + x_{(0,1)}*y_{(1,0)} & x_{(0,0)}*y_{(0,1)} + x_{(0,1)}*y_{(1,1)} \\\\  x_{(1,0)}*y_{(0,0)} + x_{(1,1)}*y_{(1,0)} & x_{(1,0)}*y_{(0,1)} + x_{(1,1)}*y_{(1,1)}\n",
        "\\end{bmatrix}$$\n",
        "\n",
        "So if we assign values to $X$ and $Y$:\n",
        "$$X = \\begin{bmatrix}1&2\\\\ 0&1\\end{bmatrix}, Y = \\begin{bmatrix}-1&0\\\\ 2&2\\end{bmatrix}$$\n",
        "\n",
        "$$X \\cdot Y= \\begin{bmatrix} 1*-1 + 2*2 & 1*0 + 2*2 \\\\  0*-1 + 1*2 & 0*0 + 1*2 \\end{bmatrix} = \\begin{bmatrix} 3 & 4 \\\\2 & 2 \\end{bmatrix}$$"
      ],
      "metadata": {
        "id": "bgJQto4PhVRp"
      }
    },
    {
      "cell_type": "code",
      "source": [
        "U = np.array([\n",
        "    [3,-22,9],\n",
        "    [14,8,-7],\n",
        "    [-2,16,25],\n",
        "])\n",
        "V = np.array([\n",
        "    [5,10,1],\n",
        "    [8,8,0],\n",
        "    [12,33,6]\n",
        "])"
      ],
      "metadata": {
        "id": "lgo1nR2IAaqD"
      },
      "execution_count": null,
      "outputs": []
    },
    {
      "cell_type": "code",
      "source": [
        "np.array_equiv(U,V)"
      ],
      "metadata": {
        "colab": {
          "base_uri": "https://localhost:8080/"
        },
        "id": "7b1bKFHY7JRm",
        "outputId": "5270bd60-c78c-4a52-9ffd-11826a152f37"
      },
      "execution_count": null,
      "outputs": [
        {
          "output_type": "execute_result",
          "data": {
            "text/plain": [
              "False"
            ]
          },
          "metadata": {},
          "execution_count": 31
        }
      ]
    },
    {
      "cell_type": "code",
      "source": [
        "np.dot(U,V)"
      ],
      "metadata": {
        "colab": {
          "base_uri": "https://localhost:8080/"
        },
        "id": "7p8H3SZeAebD",
        "outputId": "1dae1eb1-0aca-4607-894c-24aebb42bc26"
      },
      "execution_count": null,
      "outputs": [
        {
          "output_type": "execute_result",
          "data": {
            "text/plain": [
              "array([[-53, 151,  57],\n",
              "       [ 50, -27, -28],\n",
              "       [418, 933, 148]])"
            ]
          },
          "metadata": {},
          "execution_count": 32
        }
      ]
    },
    {
      "cell_type": "code",
      "source": [
        "U.dot(V)"
      ],
      "metadata": {
        "colab": {
          "base_uri": "https://localhost:8080/"
        },
        "id": "BmDviy2xAgrs",
        "outputId": "2928488e-4747-4ab3-ff23-e90a546e40ee"
      },
      "execution_count": null,
      "outputs": [
        {
          "output_type": "execute_result",
          "data": {
            "text/plain": [
              "array([[-53, 151,  57],\n",
              "       [ 50, -27, -28],\n",
              "       [418, 933, 148]])"
            ]
          },
          "metadata": {},
          "execution_count": 33
        }
      ]
    },
    {
      "cell_type": "code",
      "source": [
        "U @ V"
      ],
      "metadata": {
        "colab": {
          "base_uri": "https://localhost:8080/"
        },
        "id": "0JE9jHn5Aiu8",
        "outputId": "8fe048b0-29b6-4215-e563-2db1523c2562"
      },
      "execution_count": null,
      "outputs": [
        {
          "output_type": "execute_result",
          "data": {
            "text/plain": [
              "array([[-53, 151,  57],\n",
              "       [ 50, -27, -28],\n",
              "       [418, 933, 148]])"
            ]
          },
          "metadata": {},
          "execution_count": 34
        }
      ]
    },
    {
      "cell_type": "code",
      "source": [
        "np.matmul(U,V)"
      ],
      "metadata": {
        "colab": {
          "base_uri": "https://localhost:8080/"
        },
        "id": "DY095S5yAlLb",
        "outputId": "6f755f6d-b33e-48ac-8a2b-e1b16179d7b2"
      },
      "execution_count": null,
      "outputs": [
        {
          "output_type": "execute_result",
          "data": {
            "text/plain": [
              "array([[-53, 151,  57],\n",
              "       [ 50, -27, -28],\n",
              "       [418, 933, 148]])"
            ]
          },
          "metadata": {},
          "execution_count": 35
        }
      ]
    },
    {
      "cell_type": "code",
      "source": [
        "B = np.array([\n",
        "    [3,-11,24],\n",
        "    [50,13, 9]\n",
        "])\n",
        "C = np.array([\n",
        "    [-15,0],\n",
        "    [2,32],\n",
        "    [9,7]\n",
        "])"
      ],
      "metadata": {
        "id": "IbUTw7A_BC-6"
      },
      "execution_count": null,
      "outputs": []
    },
    {
      "cell_type": "code",
      "source": [
        "np.dot(B,C)"
      ],
      "metadata": {
        "colab": {
          "base_uri": "https://localhost:8080/"
        },
        "id": "6etPmfcsBlOb",
        "outputId": "b529446b-c5a9-4659-b4de-6536f50cc602"
      },
      "execution_count": null,
      "outputs": [
        {
          "output_type": "execute_result",
          "data": {
            "text/plain": [
              "array([[ 149, -184],\n",
              "       [-643,  479]])"
            ]
          },
          "metadata": {},
          "execution_count": 37
        }
      ]
    },
    {
      "cell_type": "code",
      "source": [
        "B.dot(C)"
      ],
      "metadata": {
        "colab": {
          "base_uri": "https://localhost:8080/"
        },
        "id": "lTjNS-YIBrJT",
        "outputId": "ad8a4f69-c608-49f2-ac9c-170f3e5d84a2"
      },
      "execution_count": null,
      "outputs": [
        {
          "output_type": "execute_result",
          "data": {
            "text/plain": [
              "array([[ 149, -184],\n",
              "       [-643,  479]])"
            ]
          },
          "metadata": {},
          "execution_count": 38
        }
      ]
    },
    {
      "cell_type": "code",
      "source": [
        "B @ C"
      ],
      "metadata": {
        "colab": {
          "base_uri": "https://localhost:8080/"
        },
        "id": "5Qay-ujDBwDC",
        "outputId": "77d1d037-4ee8-42e6-d890-234aa552c497"
      },
      "execution_count": null,
      "outputs": [
        {
          "output_type": "execute_result",
          "data": {
            "text/plain": [
              "array([[ 149, -184],\n",
              "       [-643,  479]])"
            ]
          },
          "metadata": {},
          "execution_count": 39
        }
      ]
    },
    {
      "cell_type": "code",
      "source": [
        "np.matmul(B,C)"
      ],
      "metadata": {
        "colab": {
          "base_uri": "https://localhost:8080/"
        },
        "id": "EY8FJnOyBzsK",
        "outputId": "eb27e76a-2311-439e-fb2b-0e1324029232"
      },
      "execution_count": null,
      "outputs": [
        {
          "output_type": "execute_result",
          "data": {
            "text/plain": [
              "array([[ 149, -184],\n",
              "       [-643,  479]])"
            ]
          },
          "metadata": {},
          "execution_count": 41
        }
      ]
    },
    {
      "cell_type": "markdown",
      "source": [
        "\n",
        "### Rule 1: The inner dimensions of the two matrices in question must be the same. \n",
        "\n",
        "This pertains to the limitation of multiplying matrices, wherein the number of columns in the first matrix equals the number of rows in the second matrix. To further understand, the product of matrix $H$ and matrix $I$ can be shown since the shape of matrix $H$ is $(4,5)$ and matrix $I$ has a shape of $(5,3)$.\n",
        "\n",
        "$$G = \\begin{bmatrix}4&14&7\\\\11&-5&8\\\\9&7&13\\end{bmatrix}, H = \\begin{bmatrix}0&2&0&9&-8\\\\7&8&-8&1&0\\\\19&-32&11&-10&-1\\\\4&-13&0&2&13\\end{bmatrix}, I = \\begin{bmatrix}3&7&3\\\\4&4&4\\\\19&11&14\\\\-13&1&2\\\\8&0&1\\end{bmatrix}, J = \\begin{bmatrix}1&6&9\\\\-17&10&3\\\\5&-14&8\\\\3&2&0\\end{bmatrix}$$\n",
        "\n",
        "So in this case $G$ has a shape of $(3,3)$, $H$ has a shape of $(4,5)$, $I$ has a shape of $(5,3)$ and $J$ has a shape of $(4,3)$. So the only matrix pairs that is eligible to perform dot product is matrices $I \\cdot G$, or $H \\cdot I$.  "
      ],
      "metadata": {
        "id": "Wi3ogmZ0C-NB"
      }
    },
    {
      "cell_type": "code",
      "source": [
        "G = np.array([\n",
        "    [4, 14, 7],\n",
        "    [11, -5, 8],\n",
        "    [9, 7, 13]\n",
        "])\n",
        "H = np.array([\n",
        "    [0,2,0,9,-8],\n",
        "    [7,8,-8,1,0],\n",
        "    [19,-32,11,-10,-1],\n",
        "    [4,-13,0,2,13],\n",
        "])\n",
        "I = np.array([\n",
        "    [3,7,3],\n",
        "    [4,4,4],\n",
        "    [19,11,14],\n",
        "    [-13,1,2],\n",
        "    [8,0,1],\n",
        "])\n",
        "J = np.array([\n",
        "    [1,6,9],\n",
        "    [-17,10,3],\n",
        "    [5,-14,8],\n",
        "    [3,2,0]\n",
        "])\n",
        "print(G.shape)\n",
        "print(H.shape)\n",
        "print(I.shape)\n",
        "print(J.shape)"
      ],
      "metadata": {
        "colab": {
          "base_uri": "https://localhost:8080/"
        },
        "id": "-f4awMDQGqZp",
        "outputId": "bf717edd-3543-4e07-b672-812f991130f9"
      },
      "execution_count": null,
      "outputs": [
        {
          "output_type": "stream",
          "name": "stdout",
          "text": [
            "(3, 3)\n",
            "(4, 5)\n",
            "(5, 3)\n",
            "(4, 3)\n"
          ]
        }
      ]
    },
    {
      "cell_type": "code",
      "source": [
        "H @ I"
      ],
      "metadata": {
        "colab": {
          "base_uri": "https://localhost:8080/"
        },
        "id": "W01k65RcIXMo",
        "outputId": "0c77f6b4-641b-4290-9445-cf2858b1cfec"
      },
      "execution_count": null,
      "outputs": [
        {
          "output_type": "execute_result",
          "data": {
            "text/plain": [
              "array([[-173,   17,   18],\n",
              "       [-112,   -6,  -57],\n",
              "       [ 260,  116,   62],\n",
              "       [  38,  -22,  -23]])"
            ]
          },
          "metadata": {},
          "execution_count": 44
        }
      ]
    },
    {
      "cell_type": "code",
      "source": [
        "I @ G"
      ],
      "metadata": {
        "colab": {
          "base_uri": "https://localhost:8080/"
        },
        "id": "Jus0q_atIbio",
        "outputId": "24dd59a4-02d1-44fe-a96a-5f89ae064b4c"
      },
      "execution_count": null,
      "outputs": [
        {
          "output_type": "execute_result",
          "data": {
            "text/plain": [
              "array([[ 116,   28,  116],\n",
              "       [  96,   64,  112],\n",
              "       [ 323,  309,  403],\n",
              "       [ -23, -173,  -57],\n",
              "       [  41,  119,   69]])"
            ]
          },
          "metadata": {},
          "execution_count": 45
        }
      ]
    },
    {
      "cell_type": "code",
      "source": [
        "J @ G"
      ],
      "metadata": {
        "colab": {
          "base_uri": "https://localhost:8080/"
        },
        "id": "VDmxdbGYCR-t",
        "outputId": "6897e73f-da39-4c8c-ba81-61e1a9573f2c"
      },
      "execution_count": null,
      "outputs": [
        {
          "output_type": "execute_result",
          "data": {
            "text/plain": [
              "array([[ 151,   47,  172],\n",
              "       [  69, -267,    0],\n",
              "       [ -62,  196,   27],\n",
              "       [  34,   32,   37]])"
            ]
          },
          "metadata": {},
          "execution_count": 51
        }
      ]
    },
    {
      "cell_type": "code",
      "source": [
        "I @ G.T"
      ],
      "metadata": {
        "colab": {
          "base_uri": "https://localhost:8080/"
        },
        "id": "oo_91RwuIjhB",
        "outputId": "0e331725-5da2-46d6-b6b3-01c73f068c1d"
      },
      "execution_count": null,
      "outputs": [
        {
          "output_type": "execute_result",
          "data": {
            "text/plain": [
              "array([[ 131,   22,  115],\n",
              "       [ 100,   56,  116],\n",
              "       [ 328,  266,  430],\n",
              "       [ -24, -132,  -84],\n",
              "       [  39,   96,   85]])"
            ]
          },
          "metadata": {},
          "execution_count": 47
        }
      ]
    },
    {
      "cell_type": "code",
      "source": [
        "J @ I.T"
      ],
      "metadata": {
        "colab": {
          "base_uri": "https://localhost:8080/"
        },
        "id": "c2Ur6HFgCbgg",
        "outputId": "74edbcb9-c330-4cb4-d5dd-0573a6728ff5"
      },
      "execution_count": null,
      "outputs": [
        {
          "output_type": "execute_result",
          "data": {
            "text/plain": [
              "array([[  72,   64,  211,   11,   17],\n",
              "       [  28,  -16, -171,  237, -133],\n",
              "       [ -59,   -4,   53,  -63,   48],\n",
              "       [  23,   20,   79,  -37,   24]])"
            ]
          },
          "metadata": {},
          "execution_count": 53
        }
      ]
    },
    {
      "cell_type": "code",
      "source": [
        "D = np.array([\n",
        "    [3,-4,6,1,9]\n",
        "])\n",
        "A = np.array([\n",
        "    [-2,7,0,5,-8]\n",
        "])\n",
        "print(D.shape)\n",
        "print(A.shape)"
      ],
      "metadata": {
        "id": "ufpK6u6ZIqux",
        "colab": {
          "base_uri": "https://localhost:8080/"
        },
        "outputId": "fad4e05a-ad52-4426-bc99-174a5e47d918"
      },
      "execution_count": null,
      "outputs": [
        {
          "output_type": "stream",
          "name": "stdout",
          "text": [
            "(1, 5)\n",
            "(1, 5)\n"
          ]
        }
      ]
    },
    {
      "cell_type": "code",
      "source": [
        "A @ D.T"
      ],
      "metadata": {
        "colab": {
          "base_uri": "https://localhost:8080/"
        },
        "id": "OK9T6ic1Dn_C",
        "outputId": "ae8b3407-738e-49ab-fb4b-07fe69aea8d3"
      },
      "execution_count": null,
      "outputs": [
        {
          "output_type": "execute_result",
          "data": {
            "text/plain": [
              "array([[-101]])"
            ]
          },
          "metadata": {},
          "execution_count": 57
        }
      ]
    },
    {
      "cell_type": "code",
      "source": [
        "D.T @ A"
      ],
      "metadata": {
        "colab": {
          "base_uri": "https://localhost:8080/"
        },
        "id": "AkW2JQWODh9G",
        "outputId": "7603d252-deb0-4eb1-e63f-e77f22545b3e"
      },
      "execution_count": null,
      "outputs": [
        {
          "output_type": "execute_result",
          "data": {
            "text/plain": [
              "array([[ -6,  21,   0,  15, -24],\n",
              "       [  8, -28,   0, -20,  32],\n",
              "       [-12,  42,   0,  30, -48],\n",
              "       [ -2,   7,   0,   5,  -8],\n",
              "       [-18,  63,   0,  45, -72]])"
            ]
          },
          "metadata": {},
          "execution_count": 56
        }
      ]
    },
    {
      "cell_type": "code",
      "source": [
        "A.T @ D"
      ],
      "metadata": {
        "colab": {
          "base_uri": "https://localhost:8080/"
        },
        "id": "gb5xUNSs_u-G",
        "outputId": "507b2641-e19a-4b6e-bfb8-ae7828167d1f"
      },
      "execution_count": null,
      "outputs": [
        {
          "output_type": "execute_result",
          "data": {
            "text/plain": [
              "array([[ -6,   8, -12,  -2, -18],\n",
              "       [ 21, -28,  42,   7,  63],\n",
              "       [  0,   0,   0,   0,   0],\n",
              "       [ 15, -20,  30,   5,  45],\n",
              "       [-24,  32, -48,  -8, -72]])"
            ]
          },
          "metadata": {},
          "execution_count": 55
        }
      ]
    },
    {
      "cell_type": "markdown",
      "source": [
        "### Rule 2: Dot Product has special properties\n",
        "\n",
        "It was known that during the formulation of solutions in Dot Product, there are various distinct properties supposed to be recognized and taken into account.\n",
        " 1. $G \\cdot H \\neq H \\cdot G$\n",
        " 2. $G \\cdot (H \\cdot I) = (G \\cdot H) \\cdot I$\n",
        " 3. $G\\cdot(H+I) = G\\cdot H + G\\cdot I$\n",
        " 4. $(H+I)\\cdot G = H\\cdot G + I\\cdot G$\n",
        " 5. $G\\cdot I = G$\n",
        " 6. $G\\cdot \\emptyset = \\emptyset$ "
      ],
      "metadata": {
        "id": "Om7Yj5j9C_NB"
      }
    },
    {
      "cell_type": "code",
      "source": [
        "G = np.array([\n",
        "    [4,1,14,7,8],\n",
        "    [11,23,-5,8,-9],\n",
        "    [18,-9,7,13,0],\n",
        "    [5,-6,0,1,2],\n",
        "    [4,-13,1,2,4]\n",
        "])\n",
        "H = np.array([\n",
        "    [0,2,0,9,3],\n",
        "    [7,8,-8,1,0],\n",
        "    [19,-32,11,-10,1],\n",
        "    [18,0,-1,3,-11],\n",
        "    [7,0,1,-3,4]\n",
        "])\n",
        "I = np.array([\n",
        "    [-2,3,7,3,4],\n",
        "    [1,4,4,4,0],\n",
        "    [0,19,11,14,-3],\n",
        "    [-13,1,2,4,0],\n",
        "    [1,0,-5,7,-6],\n",
        "])"
      ],
      "metadata": {
        "id": "AN4Jy0C-Fcvw"
      },
      "execution_count": 76,
      "outputs": []
    },
    {
      "cell_type": "code",
      "source": [
        "np.array_equal(G@H, H@G)"
      ],
      "metadata": {
        "colab": {
          "base_uri": "https://localhost:8080/"
        },
        "id": "W24pFS_dEP6m",
        "outputId": "28dcd992-e2c7-44af-f0b1-9cd32468040a"
      },
      "execution_count": null,
      "outputs": [
        {
          "output_type": "execute_result",
          "data": {
            "text/plain": [
              "False"
            ]
          },
          "metadata": {},
          "execution_count": 80
        }
      ]
    },
    {
      "cell_type": "code",
      "source": [
        "np.array_equal(G@(H@I),(G@H)@I)"
      ],
      "metadata": {
        "colab": {
          "base_uri": "https://localhost:8080/"
        },
        "id": "G0b-quyEFzWA",
        "outputId": "616d590b-4784-40a2-8fa8-216ba96bd580"
      },
      "execution_count": null,
      "outputs": [
        {
          "output_type": "execute_result",
          "data": {
            "text/plain": [
              "True"
            ]
          },
          "metadata": {},
          "execution_count": 81
        }
      ]
    },
    {
      "cell_type": "code",
      "source": [
        "X = H + I\n",
        "X"
      ],
      "metadata": {
        "colab": {
          "base_uri": "https://localhost:8080/"
        },
        "id": "_J-8EoqzH2BA",
        "outputId": "e4d11f97-9610-477f-a00f-8b3f975163ee"
      },
      "execution_count": null,
      "outputs": [
        {
          "output_type": "execute_result",
          "data": {
            "text/plain": [
              "array([[ -2,   5,   7,  12,   7],\n",
              "       [  8,  12,  -4,   5,   0],\n",
              "       [ 19, -13,  22,   4,  -2],\n",
              "       [  5,   1,   1,   7, -11],\n",
              "       [  8,   0,  -4,   4,  -2]])"
            ]
          },
          "metadata": {},
          "execution_count": 84
        }
      ]
    },
    {
      "cell_type": "code",
      "source": [
        "Y = (G@H) + (G@I)\n",
        "Y"
      ],
      "metadata": {
        "colab": {
          "base_uri": "https://localhost:8080/"
        },
        "id": "_tBX5CZnMhq1",
        "outputId": "89a39774-939a-4eea-f449-ca7ea22284b7"
      },
      "execution_count": null,
      "outputs": [
        {
          "output_type": "execute_result",
          "data": {
            "text/plain": [
              "array([[ 365, -143,  307,  190,  -93],\n",
              "       [  35,  404,  -81,  247,   17],\n",
              "       [  90,  -96,  329,  290,  -31],\n",
              "       [ -37,  -46,   52,   45,   20],\n",
              "       [ -51, -147,   88,   17,   -4]])"
            ]
          },
          "metadata": {},
          "execution_count": 85
        }
      ]
    },
    {
      "cell_type": "code",
      "source": [
        "np.array_equal(G@X,Y)"
      ],
      "metadata": {
        "colab": {
          "base_uri": "https://localhost:8080/"
        },
        "id": "PQPGMA8MMmZM",
        "outputId": "a5711197-0cdd-4674-83db-925299df9718"
      },
      "execution_count": null,
      "outputs": [
        {
          "output_type": "execute_result",
          "data": {
            "text/plain": [
              "True"
            ]
          },
          "metadata": {},
          "execution_count": 86
        }
      ]
    },
    {
      "cell_type": "code",
      "source": [
        "O = H + I\n",
        "O"
      ],
      "metadata": {
        "colab": {
          "base_uri": "https://localhost:8080/"
        },
        "id": "O6VabIspM4A3",
        "outputId": "3e2df6e6-b3a2-442d-8952-5e48e43e9ee9"
      },
      "execution_count": null,
      "outputs": [
        {
          "output_type": "execute_result",
          "data": {
            "text/plain": [
              "array([[ -2,   5,   7,  12,   7],\n",
              "       [  8,  12,  -4,   5,   0],\n",
              "       [ 19, -13,  22,   4,  -2],\n",
              "       [  5,   1,   1,   7, -11],\n",
              "       [  8,   0,  -4,   4,  -2]])"
            ]
          },
          "metadata": {},
          "execution_count": 87
        }
      ]
    },
    {
      "cell_type": "code",
      "source": [
        "P = (H@G) + (I@G)\n",
        "P"
      ],
      "metadata": {
        "colab": {
          "base_uri": "https://localhost:8080/"
        },
        "id": "GGLFV83vNMLU",
        "outputId": "33108bdd-5f57-41d2-d94b-148180162920"
      },
      "execution_count": null,
      "outputs": [
        {
          "output_type": "execute_result",
          "data": {
            "text/plain": [
              "array([[ 261, -113,    3,  143,   -9],\n",
              "       [ 117,  290,   24,  105,  -34],\n",
              "       [ 341, -476,  483,  315,  269],\n",
              "       [  40,  120,   61,   41,    1],\n",
              "       [ -28,   46,   82,    4,   64]])"
            ]
          },
          "metadata": {},
          "execution_count": 88
        }
      ]
    },
    {
      "cell_type": "code",
      "source": [
        "np.array_equal(O@G, P)"
      ],
      "metadata": {
        "colab": {
          "base_uri": "https://localhost:8080/"
        },
        "id": "S6sc7wO5NV_L",
        "outputId": "cd2bdfbf-5550-47ee-c7c0-deec929466c1"
      },
      "execution_count": null,
      "outputs": [
        {
          "output_type": "execute_result",
          "data": {
            "text/plain": [
              "True"
            ]
          },
          "metadata": {},
          "execution_count": 89
        }
      ]
    },
    {
      "cell_type": "code",
      "source": [
        "Q = np.eye(5)\n",
        "Q"
      ],
      "metadata": {
        "colab": {
          "base_uri": "https://localhost:8080/"
        },
        "id": "ssq7bINuNq8V",
        "outputId": "e23b2214-8663-4d99-b0b2-14078d16bfca"
      },
      "execution_count": null,
      "outputs": [
        {
          "output_type": "execute_result",
          "data": {
            "text/plain": [
              "array([[1., 0., 0., 0., 0.],\n",
              "       [0., 1., 0., 0., 0.],\n",
              "       [0., 0., 1., 0., 0.],\n",
              "       [0., 0., 0., 1., 0.],\n",
              "       [0., 0., 0., 0., 1.]])"
            ]
          },
          "metadata": {},
          "execution_count": 97
        }
      ]
    },
    {
      "cell_type": "code",
      "source": [
        "np.array_equal(G@Q, G)"
      ],
      "metadata": {
        "colab": {
          "base_uri": "https://localhost:8080/"
        },
        "id": "qXKi_-QKOP9U",
        "outputId": "1bbd5a28-7838-474b-928e-a311205dfafc"
      },
      "execution_count": null,
      "outputs": [
        {
          "output_type": "execute_result",
          "data": {
            "text/plain": [
              "True"
            ]
          },
          "metadata": {},
          "execution_count": 98
        }
      ]
    },
    {
      "cell_type": "code",
      "source": [
        "E = G.dot(np.zeros(G.shape))\n",
        "E"
      ],
      "metadata": {
        "colab": {
          "base_uri": "https://localhost:8080/"
        },
        "id": "dAuR_O9RG_z4",
        "outputId": "a8fa70c3-849f-4481-c770-85990f342bdc"
      },
      "execution_count": null,
      "outputs": [
        {
          "output_type": "execute_result",
          "data": {
            "text/plain": [
              "array([[0., 0., 0., 0., 0.],\n",
              "       [0., 0., 0., 0., 0.],\n",
              "       [0., 0., 0., 0., 0.],\n",
              "       [0., 0., 0., 0., 0.],\n",
              "       [0., 0., 0., 0., 0.]])"
            ]
          },
          "metadata": {},
          "execution_count": 100
        }
      ]
    },
    {
      "cell_type": "code",
      "source": [
        "F = np.zeros(G.shape)\n",
        "F"
      ],
      "metadata": {
        "colab": {
          "base_uri": "https://localhost:8080/"
        },
        "id": "EQgncgR8P6xO",
        "outputId": "c0aa487e-ccb9-4bf4-9cca-23ade282730f"
      },
      "execution_count": null,
      "outputs": [
        {
          "output_type": "execute_result",
          "data": {
            "text/plain": [
              "array([[0., 0., 0., 0., 0.],\n",
              "       [0., 0., 0., 0., 0.],\n",
              "       [0., 0., 0., 0., 0.],\n",
              "       [0., 0., 0., 0., 0.],\n",
              "       [0., 0., 0., 0., 0.]])"
            ]
          },
          "metadata": {},
          "execution_count": 104
        }
      ]
    },
    {
      "cell_type": "code",
      "source": [
        "np.array_equal(E,F)"
      ],
      "metadata": {
        "colab": {
          "base_uri": "https://localhost:8080/"
        },
        "id": "JWdZWKwtPSjt",
        "outputId": "e92492ac-607c-49d7-a3fb-9ff3bbf737e8"
      },
      "execution_count": null,
      "outputs": [
        {
          "output_type": "execute_result",
          "data": {
            "text/plain": [
              "True"
            ]
          },
          "metadata": {},
          "execution_count": 105
        }
      ]
    },
    {
      "cell_type": "code",
      "source": [
        "z_mat = np.zeros(G.shape)\n",
        "z_mat"
      ],
      "metadata": {
        "colab": {
          "base_uri": "https://localhost:8080/"
        },
        "id": "lNBmqbyDHByo",
        "outputId": "44a94fe5-d529-45cc-e66c-e485e262bfa2"
      },
      "execution_count": null,
      "outputs": [
        {
          "output_type": "execute_result",
          "data": {
            "text/plain": [
              "array([[0., 0., 0., 0., 0.],\n",
              "       [0., 0., 0., 0., 0.],\n",
              "       [0., 0., 0., 0., 0.],\n",
              "       [0., 0., 0., 0., 0.],\n",
              "       [0., 0., 0., 0., 0.]])"
            ]
          },
          "metadata": {},
          "execution_count": 107
        }
      ]
    },
    {
      "cell_type": "code",
      "source": [
        "a_dot_z = G.dot(np.zeros(G.shape))\n",
        "a_dot_z"
      ],
      "metadata": {
        "colab": {
          "base_uri": "https://localhost:8080/"
        },
        "id": "dTrR8AiPHD1g",
        "outputId": "d45afb2b-29f0-4dce-ff80-ddc83ea4e85a"
      },
      "execution_count": null,
      "outputs": [
        {
          "output_type": "execute_result",
          "data": {
            "text/plain": [
              "array([[0., 0., 0., 0., 0.],\n",
              "       [0., 0., 0., 0., 0.],\n",
              "       [0., 0., 0., 0., 0.],\n",
              "       [0., 0., 0., 0., 0.],\n",
              "       [0., 0., 0., 0., 0.]])"
            ]
          },
          "metadata": {},
          "execution_count": 108
        }
      ]
    },
    {
      "cell_type": "code",
      "source": [
        "np.array_equal(a_dot_z,z_mat)"
      ],
      "metadata": {
        "colab": {
          "base_uri": "https://localhost:8080/"
        },
        "id": "8Fi2WvumHF8Z",
        "outputId": "3e063f4b-a015-4de1-9e2f-fb1ee84fb4a3"
      },
      "execution_count": null,
      "outputs": [
        {
          "output_type": "execute_result",
          "data": {
            "text/plain": [
              "True"
            ]
          },
          "metadata": {},
          "execution_count": 109
        }
      ]
    },
    {
      "cell_type": "code",
      "source": [
        "null_mat = np.empty(A.shape, dtype=float)\n",
        "null = np.array(null_mat,dtype=float)\n",
        "print(null)\n",
        "np.allclose(a_dot_z,null)"
      ],
      "metadata": {
        "colab": {
          "base_uri": "https://localhost:8080/"
        },
        "id": "isUrEzMbHH64",
        "outputId": "721368c9-d5ad-4481-f097-733339390cd5"
      },
      "execution_count": null,
      "outputs": [
        {
          "output_type": "stream",
          "name": "stdout",
          "text": [
            "[[1. 1. 1. 1. 1.]]\n"
          ]
        },
        {
          "output_type": "execute_result",
          "data": {
            "text/plain": [
              "False"
            ]
          },
          "metadata": {},
          "execution_count": 110
        }
      ]
    },
    {
      "cell_type": "markdown",
      "source": [
        "## Determinant"
      ],
      "metadata": {
        "id": "J_Qm8COSDCrp"
      }
    },
    {
      "cell_type": "markdown",
      "source": [
        "The determinant of some matrix $A$ is denoted as $det(A)$ or $|A|$. So let's say $A$ is represented as:\n",
        "$$A = \\begin{bmatrix}a_{(0,0)}&a_{(0,1)}\\\\a_{(1,0)}&a_{(1,1)}\\end{bmatrix}$$\n",
        "We can compute for the determinant as:\n",
        "$$|A| = a_{(0,0)}*a_{(1,1)} - a_{(1,0)}*a_{(0,1)}$$\n",
        "So if we have $A$ as:\n",
        "$$A = \\begin{bmatrix}1&4\\\\0&3\\end{bmatrix}, |A| = 3$$\n",
        "\n",
        "In getting the determinant of a matrix, the code used is \"np.linalg.det()\", especially when the matrix has a shape of more than $(2,2)$. It is only applicable in square matrices. [5]"
      ],
      "metadata": {
        "id": "0yxxts0oDFQS"
      }
    },
    {
      "cell_type": "code",
      "source": [
        "J = np.array([\n",
        "    [3,6],\n",
        "    [9,0]\n",
        "])\n",
        "np.linalg.det(J)"
      ],
      "metadata": {
        "colab": {
          "base_uri": "https://localhost:8080/"
        },
        "id": "H3ATeKhMDMLZ",
        "outputId": "2bb7147b-6743-4545-cf8a-88da1c40483b"
      },
      "execution_count": null,
      "outputs": [
        {
          "output_type": "execute_result",
          "data": {
            "text/plain": [
              "-54.00000000000001"
            ]
          },
          "metadata": {},
          "execution_count": 50
        }
      ]
    },
    {
      "cell_type": "code",
      "source": [
        "K = np.array([\n",
        "    [13,6,9,12],\n",
        "    [9,0,5,4],\n",
        "    [1,2,23,4],\n",
        "    [0,6,11,18]\n",
        "])\n",
        "np.linalg.det(K)"
      ],
      "metadata": {
        "colab": {
          "base_uri": "https://localhost:8080/"
        },
        "id": "ZvS0FtyPLtxg",
        "outputId": "5caaabc0-34c0-4a90-a74f-b2ea624d2cb1"
      },
      "execution_count": null,
      "outputs": [
        {
          "output_type": "execute_result",
          "data": {
            "text/plain": [
              "-13160.000000000005"
            ]
          },
          "metadata": {},
          "execution_count": 53
        }
      ]
    },
    {
      "cell_type": "code",
      "source": [
        "C = np.array([\n",
        "    [11,-20,8,10,0],\n",
        "    [19,1,7,51,-8],\n",
        "    [9,7,21,18,9],\n",
        "    [1,4,5,0,-1],\n",
        "    [26,14,-9,0,1]\n",
        "])\n",
        "np.linalg.det(C)"
      ],
      "metadata": {
        "colab": {
          "base_uri": "https://localhost:8080/"
        },
        "id": "6vX5DvhwRAlV",
        "outputId": "bbf7476c-114c-4ad6-e7b8-0ff29b5ab051"
      },
      "execution_count": null,
      "outputs": [
        {
          "output_type": "execute_result",
          "data": {
            "text/plain": [
              "-3143529.9999999963"
            ]
          },
          "metadata": {},
          "execution_count": 112
        }
      ]
    },
    {
      "cell_type": "markdown",
      "source": [
        "## Inverse"
      ],
      "metadata": {
        "id": "z93c7YCUK9Eg"
      }
    },
    {
      "cell_type": "markdown",
      "source": [
        "This matrix operation involves steps when doing or solving it manually, but it can be easily done with python programming. The code for the inverse of a matrix is \"np.linalg.inv()\" and it can also use for matrices with a higher dimension. The expected outcome of the inverse of a matrix is an identity matrix when multiplied by the original matrix. [6]"
      ],
      "metadata": {
        "id": "r12cvopOdTgS"
      }
    },
    {
      "cell_type": "code",
      "source": [
        "L = np.array([\n",
        "    [8,9,14],\n",
        "    [4,9,11],\n",
        "    [0,3,22]\n",
        "])\n",
        "\n",
        "np.array(L @ np.linalg.inv(L), dtype=int)"
      ],
      "metadata": {
        "colab": {
          "base_uri": "https://localhost:8080/"
        },
        "id": "_dEJHN0XMHRG",
        "outputId": "ae77b2a1-008c-4a56-d004-28706e4b8f9c"
      },
      "execution_count": null,
      "outputs": [
        {
          "output_type": "execute_result",
          "data": {
            "text/plain": [
              "array([[1, 0, 0],\n",
              "       [0, 1, 0],\n",
              "       [0, 0, 1]])"
            ]
          },
          "metadata": {},
          "execution_count": 2
        }
      ]
    },
    {
      "cell_type": "code",
      "source": [
        "M = np.array([\n",
        "    [91,5,33,8],\n",
        "    [6,88,-3,41],\n",
        "    [50,-39,72,22],\n",
        "    [1,18,3,55]\n",
        "])\n",
        "M_inv = np.linalg.inv(M)\n",
        "np.array(M @ M_inv,dtype=int)"
      ],
      "metadata": {
        "colab": {
          "base_uri": "https://localhost:8080/"
        },
        "id": "DFEi3lwBU6Y9",
        "outputId": "a2a8eab2-8169-40ce-dcd5-e8e5b9551538"
      },
      "execution_count": null,
      "outputs": [
        {
          "output_type": "execute_result",
          "data": {
            "text/plain": [
              "array([[1, 0, 0, 0],\n",
              "       [0, 1, 0, 0],\n",
              "       [0, 0, 1, 0],\n",
              "       [0, 0, 0, 0]])"
            ]
          },
          "metadata": {},
          "execution_count": 5
        }
      ]
    },
    {
      "cell_type": "code",
      "source": [
        "M = np.array([\n",
        "    [91,5,33,8],\n",
        "    [6,88,-3,41],\n",
        "    [50,-39,72,22],\n",
        "    [1,18,3,55]\n",
        "])\n",
        "N = np.linalg.inv(M)\n",
        "N"
      ],
      "metadata": {
        "colab": {
          "base_uri": "https://localhost:8080/"
        },
        "id": "wZCAhffbOlGm",
        "outputId": "4f4ec4d0-b818-404a-d761-b9c0f5d1b726"
      },
      "execution_count": null,
      "outputs": [
        {
          "output_type": "execute_result",
          "data": {
            "text/plain": [
              "array([[ 0.01536602, -0.00510243, -0.0074448 ,  0.00454649],\n",
              "       [-0.00192666,  0.01469164,  0.00197274, -0.01146081],\n",
              "       [-0.01202212,  0.01316151,  0.02062715, -0.01631349],\n",
              "       [ 0.00100691, -0.0054333 , -0.00163538,  0.02273979]])"
            ]
          },
          "metadata": {},
          "execution_count": 5
        }
      ]
    },
    {
      "cell_type": "code",
      "source": [
        "M @ N"
      ],
      "metadata": {
        "colab": {
          "base_uri": "https://localhost:8080/"
        },
        "id": "EE58-SoPSGht",
        "outputId": "33fbdc29-3f22-48b4-9fd9-e6444bf1d67b"
      },
      "execution_count": null,
      "outputs": [
        {
          "output_type": "execute_result",
          "data": {
            "text/plain": [
              "array([[ 1.00000000e+00, -3.46944695e-17, -4.68375339e-17,\n",
              "        -2.77555756e-17],\n",
              "       [-3.94649591e-17,  1.00000000e+00,  3.79470760e-17,\n",
              "        -1.97758476e-16],\n",
              "       [-8.67361738e-19,  5.72458747e-17,  1.00000000e+00,\n",
              "        -7.63278329e-17],\n",
              "       [-1.60461922e-17,  1.82145965e-17,  2.45029691e-17,\n",
              "         1.00000000e+00]])"
            ]
          },
          "metadata": {},
          "execution_count": 4
        }
      ]
    },
    {
      "cell_type": "code",
      "source": [
        "S = np.array([\n",
        "    [7,13,-19,28,1,42,0,5],\n",
        "    [2,78,1,32,0,0,-4,1],\n",
        "    [17,2,-2,3,-44,18,25,9],\n",
        "    [1,-15,22,-8,10,11,34,3],\n",
        "    [-9,-14,16,7,13,20,35,21],\n",
        "    [0,3,0,2,1,0,19,0],\n",
        "    [-8,3,25,37,0,15,2,4],\n",
        "    [29,8,7,6,-2,-16,27,9],\n",
        "])\n",
        "S_inv = np.linalg.inv(S)\n",
        "np.array(S @ S_inv,dtype=int)"
      ],
      "metadata": {
        "id": "iVjR0D14SXx-",
        "colab": {
          "base_uri": "https://localhost:8080/"
        },
        "outputId": "a565f8d3-5130-4492-ee29-dc4b9d911d66"
      },
      "execution_count": null,
      "outputs": [
        {
          "output_type": "execute_result",
          "data": {
            "text/plain": [
              "array([[1, 0, 0, 0, 0, 0, 0, 0],\n",
              "       [0, 1, 0, 0, 0, 0, 0, 0],\n",
              "       [0, 0, 1, 0, 0, 0, 0, 0],\n",
              "       [0, 0, 0, 0, 0, 0, 0, 0],\n",
              "       [0, 0, 0, 0, 1, 0, 0, 0],\n",
              "       [0, 0, 0, 0, 0, 1, 0, 0],\n",
              "       [0, 0, 0, 0, 0, 0, 0, 0],\n",
              "       [0, 0, 0, 0, 0, 0, 0, 1]])"
            ]
          },
          "metadata": {},
          "execution_count": 10
        }
      ]
    },
    {
      "cell_type": "code",
      "source": [
        "squad = np.array([\n",
        "    [1.25, 1.5, 0.3],\n",
        "    [0.77, 0.9, 0.9],\n",
        "    [0.75, 0.25, 2.0]\n",
        "])\n",
        "weights = np.array([\n",
        "    [0.3, 0.3, 0.4]\n",
        "])\n",
        "p_grade = squad @ weights.T\n",
        "p_grade"
      ],
      "metadata": {
        "colab": {
          "base_uri": "https://localhost:8080/"
        },
        "id": "6ysP07JSQM_u",
        "outputId": "e5b3f46d-8d1b-4ca2-92a3-1a071fda8fbf"
      },
      "execution_count": null,
      "outputs": [
        {
          "output_type": "execute_result",
          "data": {
            "text/plain": [
              "array([[0.945],\n",
              "       [0.861],\n",
              "       [1.1  ]])"
            ]
          },
          "metadata": {},
          "execution_count": 75
        }
      ]
    },
    {
      "cell_type": "markdown",
      "source": [
        "#Activity\n",
        "###Task 1\n",
        "Prove and implement the remaining 6 matrix multiplication properties. You may create your own matrices in which their shapes should not be lower than $(3,3)$. In your methodology, create individual flowcharts for each property and discuss the property you would then present your proofs or validity of your implementation in the results section by comparing your result to present functions from NumPy."
      ],
      "metadata": {
        "id": "PTvPuU_XS86-"
      }
    },
    {
      "cell_type": "code",
      "source": [
        "G = np.array([\n",
        "    [4,1,14,7,8],\n",
        "    [11,23,-5,8,-9],\n",
        "    [18,-9,7,13,0],\n",
        "    [5,-6,0,1,2],\n",
        "    [4,-13,1,2,4]\n",
        "])\n",
        "H = np.array([\n",
        "    [0,2,0,9,3],\n",
        "    [7,8,-8,1,0],\n",
        "    [19,-32,11,-10,1],\n",
        "    [18,0,-1,3,-11],\n",
        "    [7,0,1,-3,4]\n",
        "])\n",
        "I = np.array([\n",
        "    [-2,3,7,3,4],\n",
        "    [1,4,4,4,0],\n",
        "    [0,19,11,14,-3],\n",
        "    [-13,1,2,4,0],\n",
        "    [1,0,-5,7,-6],\n",
        "])"
      ],
      "metadata": {
        "id": "mk8xiVIb5BxI"
      },
      "execution_count": null,
      "outputs": []
    },
    {
      "cell_type": "code",
      "source": [
        "#Test for Commutative Property of Multiplication\n",
        "A = G @ H\n",
        "B = H @ G\n",
        "print(f'G•H:\\n{A} \\n\\nH•G:\\n{B}\\n')\n",
        "print(\"--------------------------------------\")\n",
        "print(f'Commutative Property:{np.array_equal(A,B)}')"
      ],
      "metadata": {
        "colab": {
          "base_uri": "https://localhost:8080/"
        },
        "id": "xo0KLKaMhgCO",
        "outputId": "80b07c45-f415-4c5c-b6b3-f79bb29cc99f"
      },
      "execution_count": null,
      "outputs": [
        {
          "output_type": "stream",
          "name": "stdout",
          "text": [
            "G•H:\n",
            "[[ 455 -432  147 -106  -19]\n",
            " [ 147  366 -256  223  -96]\n",
            " [ 304 -260  136  122  -82]\n",
            " [ -10  -38   49   36   12]\n",
            " [  -8 -128  117    7    7]] \n",
            "\n",
            "H•G:\n",
            "[[  79  -47   -7   31   12]\n",
            " [ -23  257    2   10  -14]\n",
            " [-124 -769  504   12  424]\n",
            " [  25  152  234   94  106]\n",
            " [  47  -36  109   67   66]]\n",
            "\n",
            "--------------------------------------\n",
            "Commutative Property:False\n"
          ]
        }
      ]
    },
    {
      "cell_type": "code",
      "source": [
        "#Test for Associative Property of Multiplication\n",
        "C = H @ I\n",
        "D = G @ H\n",
        "E = G @ C\n",
        "F = D @ I\n",
        "print(f'H•I:\\n{C} \\n\\nG•H:\\n{D}\\n')\n",
        "print(f'G•(H•I):\\n{E} \\n\\n(G•H)•I:\\n{F}\\n')\n",
        "print(\"--------------------------------------\")\n",
        "print(f'Associative Property:{np.array_equal(E,F)}')"
      ],
      "metadata": {
        "colab": {
          "base_uri": "https://localhost:8080/"
        },
        "id": "cu-AGpOUkTZt",
        "outputId": "66dd2a24-7eb0-4005-887a-bfb310ac7ce8"
      },
      "execution_count": null,
      "outputs": [
        {
          "output_type": "stream",
          "name": "stdout",
          "text": [
            "H•I:\n",
            "[[-112   17   11   65  -18]\n",
            " [ -19  -98   -5  -55   52]\n",
            " [  61  128  101   50   37]\n",
            " [ -86   38  176  -25  141]\n",
            " [  29   37   34   51    1]] \n",
            "\n",
            "G•H:\n",
            "[[ 455 -432  147 -106  -19]\n",
            " [ 147  366 -256  223  -96]\n",
            " [ 304 -260  136  122  -82]\n",
            " [ -10  -38   49   36   12]\n",
            " [  -8 -128  117    7    7]]\n",
            "\n",
            "G•(H•I):\n",
            "[[   17  2324  2957  1138  1493]\n",
            " [-2923 -2736   603 -1459  1932]\n",
            " [-2536  2578  3238  1690  1300]\n",
            " [ -474   785   329   732  -259]\n",
            " [ -196  1694   698  1179  -425]] \n",
            "\n",
            "(G•H)•I:\n",
            "[[   17  2324  2957  1138  1493]\n",
            " [-2923 -2736   603 -1459  1932]\n",
            " [-2536  2578  3238  1690  1300]\n",
            " [ -474   785   329   732  -259]\n",
            " [ -196  1694   698  1179  -425]]\n",
            "\n",
            "--------------------------------------\n",
            "Associative Property:True\n"
          ]
        }
      ]
    },
    {
      "cell_type": "code",
      "source": [
        "#Test for Left-Side Distributive Property of Multiplication\n",
        "J = H + I\n",
        "K = G @ H\n",
        "L = G @ I\n",
        "M = G @ J\n",
        "N = K + L\n",
        "print(f'H+I:\\n{J} \\n\\nG•H:\\n{K}\\n \\n\\nG•I:\\n{L}\\n')\n",
        "print(f'G•(H+I):\\n{M} \\n\\nG•H+G•I:\\n{N}\\n')\n",
        "print(\"--------------------------------------\")\n",
        "print(f'Left Distributive Property:{np.array_equal(M,N)}')"
      ],
      "metadata": {
        "id": "tTjG7sATmJ2x",
        "colab": {
          "base_uri": "https://localhost:8080/"
        },
        "outputId": "428ad492-0fbb-4392-9848-1fc1e903bd57"
      },
      "execution_count": null,
      "outputs": [
        {
          "output_type": "stream",
          "name": "stdout",
          "text": [
            "H+I:\n",
            "[[ -2   5   7  12   7]\n",
            " [  8  12  -4   5   0]\n",
            " [ 19 -13  22   4  -2]\n",
            " [  5   1   1   7 -11]\n",
            " [  8   0  -4   4  -2]] \n",
            "\n",
            "G•H:\n",
            "[[ 455 -432  147 -106  -19]\n",
            " [ 147  366 -256  223  -96]\n",
            " [ 304 -260  136  122  -82]\n",
            " [ -10  -38   49   36   12]\n",
            " [  -8 -128  117    7    7]]\n",
            " \n",
            "\n",
            "G•I:\n",
            "[[ -90  289  160  296  -74]\n",
            " [-112   38  175   24  113]\n",
            " [-214  164  193  168   51]\n",
            " [ -27   -8    3    9    8]\n",
            " [ -43  -19  -29   10  -11]]\n",
            "\n",
            "G•(H+I):\n",
            "[[ 365 -143  307  190  -93]\n",
            " [  35  404  -81  247   17]\n",
            " [  90  -96  329  290  -31]\n",
            " [ -37  -46   52   45   20]\n",
            " [ -51 -147   88   17   -4]] \n",
            "\n",
            "G•H+G•I:\n",
            "[[ 365 -143  307  190  -93]\n",
            " [  35  404  -81  247   17]\n",
            " [  90  -96  329  290  -31]\n",
            " [ -37  -46   52   45   20]\n",
            " [ -51 -147   88   17   -4]]\n",
            "\n",
            "--------------------------------------\n",
            "Left Distributive Property:True\n"
          ]
        }
      ]
    },
    {
      "cell_type": "code",
      "source": [
        "#Test for Right-Side Distributive Property of Multiplication\n",
        "O = H + I\n",
        "P = H @ G\n",
        "Q = I @ G\n",
        "R = O @ G\n",
        "S = P + Q\n",
        "print(f'H+I:\\n{O} \\n\\nH•G:\\n{P}\\n \\n\\nI•G:\\n{Q}\\n')\n",
        "print(f'(H+I)•G:\\n{R} \\n\\nH•G+I•G:\\n{S}\\n')\n",
        "print(\"--------------------------------------\")\n",
        "print(f'Right Distributive Property:{np.array_equal(R,S)}')"
      ],
      "metadata": {
        "colab": {
          "base_uri": "https://localhost:8080/"
        },
        "id": "r3qz1_I6pqor",
        "outputId": "132df9b6-10b8-4049-c84d-7690317c5dba"
      },
      "execution_count": null,
      "outputs": [
        {
          "output_type": "stream",
          "name": "stdout",
          "text": [
            "H+I:\n",
            "[[ -2   5   7  12   7]\n",
            " [  8  12  -4   5   0]\n",
            " [ 19 -13  22   4  -2]\n",
            " [  5   1   1   7 -11]\n",
            " [  8   0  -4   4  -2]] \n",
            "\n",
            "H•G:\n",
            "[[  79  -47   -7   31   12]\n",
            " [ -23  257    2   10  -14]\n",
            " [-124 -769  504   12  424]\n",
            " [  25  152  234   94  106]\n",
            " [  47  -36  109   67   66]]\n",
            " \n",
            "\n",
            "I•G:\n",
            "[[ 182  -66   10  112  -21]\n",
            " [ 140   33   22   95  -20]\n",
            " [ 465  293  -21  303 -155]\n",
            " [  15  -32 -173  -53 -105]\n",
            " [ -75   82  -27  -63   -2]]\n",
            "\n",
            "(H+I)•G:\n",
            "[[ 261 -113    3  143   -9]\n",
            " [ 117  290   24  105  -34]\n",
            " [ 341 -476  483  315  269]\n",
            " [  40  120   61   41    1]\n",
            " [ -28   46   82    4   64]] \n",
            "\n",
            "H•G+I•G:\n",
            "[[ 261 -113    3  143   -9]\n",
            " [ 117  290   24  105  -34]\n",
            " [ 341 -476  483  315  269]\n",
            " [  40  120   61   41    1]\n",
            " [ -28   46   82    4   64]]\n",
            "\n",
            "--------------------------------------\n",
            "Right Distributive Property:True\n"
          ]
        }
      ]
    },
    {
      "cell_type": "code",
      "source": [
        "#Test for Multiplicative Identity Property\n",
        "T = np.eye(5)\n",
        "U = G @ T\n",
        "V = G\n",
        "print(f'G:\\n{V} \\n\\nG•I:\\n{U}\\n')\n",
        "print(\"--------------------------------------\")\n",
        "print(f'Multiplicative Identity Property:{np.array_equal(U,V)}')"
      ],
      "metadata": {
        "colab": {
          "base_uri": "https://localhost:8080/"
        },
        "id": "PdREGXGPrk4q",
        "outputId": "0e172b3c-c4e5-4477-ac85-f8674634bdc1"
      },
      "execution_count": null,
      "outputs": [
        {
          "output_type": "stream",
          "name": "stdout",
          "text": [
            "G:\n",
            "[[  4   1  14   7   8]\n",
            " [ 11  23  -5   8  -9]\n",
            " [ 18  -9   7  13   0]\n",
            " [  5  -6   0   1   2]\n",
            " [  4 -13   1   2   4]] \n",
            "\n",
            "G•I:\n",
            "[[  4.   1.  14.   7.   8.]\n",
            " [ 11.  23.  -5.   8.  -9.]\n",
            " [ 18.  -9.   7.  13.   0.]\n",
            " [  5.  -6.   0.   1.   2.]\n",
            " [  4. -13.   1.   2.   4.]]\n",
            "\n",
            "--------------------------------------\n",
            "Multiplicative Identity Property:True\n"
          ]
        }
      ]
    },
    {
      "cell_type": "code",
      "source": [
        "#Test for Multiplicative Property of Zero\n",
        "W = G\n",
        "X = np.zeros(G.shape)\n",
        "Y = W @ X\n",
        "print(f'G:\\n{W}\\n\\nG•0:\\n{Y}\\n')\n",
        "print(\"--------------------------------------\")\n",
        "print(f'Multiplicative Property of Zero:{np.array_equal(Y,X)}')"
      ],
      "metadata": {
        "colab": {
          "base_uri": "https://localhost:8080/"
        },
        "id": "vV3ThWagtJ-M",
        "outputId": "0eedb3ba-4e1a-4e8c-b55f-e19b2322aab2"
      },
      "execution_count": null,
      "outputs": [
        {
          "output_type": "stream",
          "name": "stdout",
          "text": [
            "G:\n",
            "[[  4   1  14   7   8]\n",
            " [ 11  23  -5   8  -9]\n",
            " [ 18  -9   7  13   0]\n",
            " [  5  -6   0   1   2]\n",
            " [  4 -13   1   2   4]]\n",
            "\n",
            "G•0:\n",
            "[[0. 0. 0. 0. 0.]\n",
            " [0. 0. 0. 0. 0.]\n",
            " [0. 0. 0. 0. 0.]\n",
            " [0. 0. 0. 0. 0.]\n",
            " [0. 0. 0. 0. 0.]]\n",
            "\n",
            "--------------------------------------\n",
            "Multiplicative Property of Zero:True\n"
          ]
        }
      ]
    },
    {
      "cell_type": "markdown",
      "source": [
        "## Conclusion"
      ],
      "metadata": {
        "id": "togroUrEaYHg"
      }
    },
    {
      "cell_type": "markdown",
      "source": [
        "\n",
        "Through using Google Colab again, the students were able to expand their knowledge and skills about the fundamental matrix operations. Applying those matrix operations in Python programming has further improved their understanding of the different operations and their importance in Linear Algebra. In addition, the matrix operations discussed were transposition, dot product/inner product that has two rules, determinant and inverse. Different codes were presented, and each of them has shown its unique functions in Python programming as well as translating matrix equations and operations. Moreover, other introduced codes displayed the same results to show that there are different ways of presenting the matrix operations. The shape of the matrices is also determined, and there are six properties proven in this laboratory report.\n",
        "\n",
        "On top of that, the application of these matrix operations in Python has helped the students assess their capabilities in solving manually, for it can serve as a checking tool for the acquired answers. It may be known that students can do these matrix operations manually, but with higher dimensions, Python programming is a huge help for solving it. Hence, in this laboratory report, Python programming had played a significant role wherein it simply displayed the results of the matrix operations easily and immediately.\n",
        "\n",
        "With regards to the real-life application of matrices, it is undeniable that there are a myriad of things that we have right now that apply concepts and principles of matrices. Matrices have many significant applications that have a great impact on the modern world.  The impact of matrices and their applications in the mathematical world is widespread because they serve as a foundation for many theories and practices. Various problems relating to science and technology could be solved through the application of matrices because matrices could be utilized to provide rapid approximations to more complex calculations. Matrices also play a vital role in scientific methods and research as they are utilized in plotting graphs, data analysis, and statistics. In relation to the field of health care, these scientific methods and researches are critical to the advancement and eradication of issues in the healthcare systems. It is undeniable that the healthcare industry handles a lot of systematic analysis and data wherein matrices could be a very useful tool to obtain a desirable solution.\n",
        "\n"
      ],
      "metadata": {
        "id": "KPgQaOe_aZBD"
      }
    }
  ]
}