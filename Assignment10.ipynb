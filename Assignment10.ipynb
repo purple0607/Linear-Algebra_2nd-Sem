{
  "nbformat": 4,
  "nbformat_minor": 0,
  "metadata": {
    "colab": {
      "name": "Assignment10.ipynb",
      "provenance": [],
      "collapsed_sections": [],
      "authorship_tag": "ABX9TyNLniWNMgW2hwcEan8EPe7R",
      "include_colab_link": true
    },
    "kernelspec": {
      "name": "python3",
      "display_name": "Python 3"
    },
    "language_info": {
      "name": "python"
    }
  },
  "cells": [
    {
      "cell_type": "markdown",
      "metadata": {
        "id": "view-in-github",
        "colab_type": "text"
      },
      "source": [
        "<a href=\"https://colab.research.google.com/github/purple0607/Linear-Algebra_2nd-Sem/blob/main/Assignment10.ipynb\" target=\"_parent\"><img src=\"https://colab.research.google.com/assets/colab-badge.svg\" alt=\"Open In Colab\"/></a>"
      ]
    },
    {
      "cell_type": "markdown",
      "source": [
        "  # Linear Algebra for ChE\n",
        "## Laboratory 5 : Linear Combination and Vector Spaces"
      ],
      "metadata": {
        "id": "pympN0cdStUM"
      }
    },
    {
      "cell_type": "markdown",
      "source": [
        "### Objectives\n",
        "In the previous laboratory activity, the students have learned about the basic principles and techniques of the application of Python programming in vectors. Using Python in understanding vectors is somehow similar when it comes to performing matrices, especially in terms of operations. However, in this laboratory activity, it focuses on using Python programming to represent and visualize linear combinations as well as vector spaces. Using Python to represent vectors is somehow similar to representing matrices. Furthermore, this laboratory activity will mainly focus on learning to represent linear combinations in a 2-D plane, visualize spans using vector fields in Python, and conduct vector field operations using scientific programming."
      ],
      "metadata": {
        "id": "XA14KPwTS6sb"
      }
    },
    {
      "cell_type": "markdown",
      "source": [
        "## Discussion"
      ],
      "metadata": {
        "id": "GxRattCaTBlL"
      }
    },
    {
      "cell_type": "code",
      "source": [
        "import numpy as np\n",
        "import matplotlib.pyplot as plt\n",
        "%matplotlib inline"
      ],
      "metadata": {
        "id": "M1khS55hTGTl"
      },
      "execution_count": null,
      "outputs": []
    },
    {
      "cell_type": "markdown",
      "source": [
        "## Linear Combination"
      ],
      "metadata": {
        "id": "CXNmr1vjTEPL"
      }
    },
    {
      "cell_type": "markdown",
      "source": [
        "Linear Combination is a process or a method of combining a linear scaling and the adding of vectors with its constituents. Applying it to two or more vectors, it is where a vector formed by operating a multiplication within the vectors of distinct direction by scalar quantities [12]."
      ],
      "metadata": {
        "id": "LuuyLYdATb6Y"
      }
    },
    {
      "cell_type": "markdown",
      "source": [
        "We will try to visualize the vectors and their linear combinations by plotting a sample of real number values for the scalars for the vectors. Let's first try the vectors below:"
      ],
      "metadata": {
        "id": "Dqneh25ATMgr"
      }
    },
    {
      "cell_type": "markdown",
      "source": [
        "$$A = \\begin{bmatrix} 3\\\\4 \\\\\\end{bmatrix} , P = \\begin{bmatrix} 16\\\\28 \\\\\\end{bmatrix} $$"
      ],
      "metadata": {
        "id": "VF-uGqZ8Tgfp"
      }
    },
    {
      "cell_type": "code",
      "source": [
        "vectorA =  np.array([3,4])\n",
        "vectorP =  np.array([16,28])\n",
        "vectorA"
      ],
      "metadata": {
        "id": "czUaXoAfTmOA",
        "colab": {
          "base_uri": "https://localhost:8080/"
        },
        "outputId": "be48c244-896e-4858-8197-2f97240c858f"
      },
      "execution_count": null,
      "outputs": [
        {
          "output_type": "execute_result",
          "data": {
            "text/plain": [
              "array([3, 4])"
            ]
          },
          "metadata": {},
          "execution_count": 4
        }
      ]
    },
    {
      "cell_type": "code",
      "source": [
        "vectorA =  np.array([3,4])\n",
        "vectorP =  np.array([16,28])\n",
        "vectorP"
      ],
      "metadata": {
        "colab": {
          "base_uri": "https://localhost:8080/"
        },
        "id": "eG9PBhRjZUnj",
        "outputId": "51dba23e-cc0a-451b-a8bd-909d78a76461"
      },
      "execution_count": null,
      "outputs": [
        {
          "output_type": "execute_result",
          "data": {
            "text/plain": [
              "array([16, 28])"
            ]
          },
          "metadata": {},
          "execution_count": 5
        }
      ]
    },
    {
      "cell_type": "markdown",
      "source": [
        "#### Span of single vectors"
      ],
      "metadata": {
        "id": "CCBHIG1VTjUY"
      }
    },
    {
      "cell_type": "markdown",
      "source": [
        "Vectors are significantly linked to coordinates, which are pairs of numbers. At the same time, span is a collection of the resulting vectors which display the two vectors' linear combination. The span for these vectors will be the whole plane. If two vectors are aligned, or one vector is a scaled version of another, the span is simply the line from which the two vectors meet. When we conceive vectors as arrows, a span can be difficult to comprehend/visualize. We can, on the other hand, consider them as points. [13] A span of single vectors was said to be shown by a line span, and Figure X depicts how it is done. The codes used were also displayed below, and vectors M and G were separated to be clearly understood."
      ],
      "metadata": {
        "id": "jjFv13HgH_bV"
      }
    },
    {
      "cell_type": "markdown",
      "source": [
        "As discussed in the lecture, the span of individual vectors can be represented by a line span. Let's take vector $A$ as an example."
      ],
      "metadata": {
        "id": "rSnkHRwzTzvn"
      }
    },
    {
      "cell_type": "markdown",
      "source": [
        "$$A = c\\cdot \\begin{bmatrix} 3\\\\4 \\\\\\end{bmatrix} $$"
      ],
      "metadata": {
        "id": "lNVtwKpIT0pU"
      }
    },
    {
      "cell_type": "code",
      "source": [
        "c = np.arange(0,15,0.155)\n",
        "\n",
        "plt.scatter(c*vectorA[0],c*vectorA[1], color='pink')\n",
        "\n",
        "plt.xlim(-15,15)\n",
        "plt.ylim(-15,15)\n",
        "plt.axhline(y=0, color='green')\n",
        "plt.axvline(x=0, color='green')\n",
        "plt.grid()\n",
        "plt.show()"
      ],
      "metadata": {
        "colab": {
          "base_uri": "https://localhost:8080/",
          "height": 269
        },
        "id": "sJu5YY5qHO_v",
        "outputId": "fb5fd14f-e9d9-4acf-9b6e-d0b43063acb6"
      },
      "execution_count": null,
      "outputs": [
        {
          "output_type": "display_data",
          "data": {
            "text/plain": [
              "<Figure size 432x288 with 1 Axes>"
            ],
            "image/png": "[encoded data removed]"
          },
          "metadata": {
            "needs_background": "light"
          }
        }
      ]
    },
    {
      "cell_type": "code",
      "source": [
        "c = np.arange(-15,15,0.155)\n",
        "\n",
        "plt.scatter(c*vectorA[0],c*vectorA[1], color='pink')\n",
        "\n",
        "plt.xlim(-15,15)\n",
        "plt.ylim(-15,15)\n",
        "plt.axhline(y=0, color='green')\n",
        "plt.axvline(x=0, color='green')\n",
        "plt.grid()\n",
        "plt.show()"
      ],
      "metadata": {
        "id": "sB6FRCEiTwEw",
        "colab": {
          "base_uri": "https://localhost:8080/",
          "height": 269
        },
        "outputId": "7705e18f-29bf-4148-c456-6a2943e0a3a8"
      },
      "execution_count": null,
      "outputs": [
        {
          "output_type": "display_data",
          "data": {
            "text/plain": [
              "<Figure size 432x288 with 1 Axes>"
            ],
            "image/png": "[encoded data removed]"
          },
          "metadata": {
            "needs_background": "light"
          }
        }
      ]
    },
    {
      "cell_type": "markdown",
      "source": [
        "$$P = c\\cdot \\begin{bmatrix} 16\\\\28 \\\\\\end{bmatrix} $$"
      ],
      "metadata": {
        "id": "QV9d0QXPUcJ-"
      }
    },
    {
      "cell_type": "code",
      "source": [
        "c = np.arange(-45,45,0.75)\n",
        "\n",
        "plt.scatter(c*vectorP[0],c*vectorP[1])\n",
        "\n",
        "plt.xlim(-45,45)\n",
        "plt.ylim(-45,45)\n",
        "plt.axhline(y=0, color='skyblue')\n",
        "plt.axvline(x=0, color='skyblue')\n",
        "plt.grid()\n",
        "plt.show()"
      ],
      "metadata": {
        "id": "CiLqneOJUZSf",
        "colab": {
          "base_uri": "https://localhost:8080/",
          "height": 265
        },
        "outputId": "b2943fbe-9499-4d82-863f-aa688e118ad9"
      },
      "execution_count": null,
      "outputs": [
        {
          "output_type": "display_data",
          "data": {
            "text/plain": [
              "<Figure size 432x288 with 1 Axes>"
            ],
            "image/png": "[encoded data removed]"
          },
          "metadata": {
            "needs_background": "light"
          }
        }
      ]
    },
    {
      "cell_type": "code",
      "source": [
        "c = np.arange(-45,0,0.75)\n",
        "\n",
        "plt.scatter(c*vectorP[0],c*vectorP[1])\n",
        "\n",
        "plt.xlim(-45,45)\n",
        "plt.ylim(-45,45)\n",
        "plt.axhline(y=0, color='skyblue')\n",
        "plt.axvline(x=0, color='skyblue')\n",
        "plt.grid()\n",
        "plt.show()"
      ],
      "metadata": {
        "colab": {
          "base_uri": "https://localhost:8080/",
          "height": 265
        },
        "id": "G8FLf9AUHU9s",
        "outputId": "9cdda99c-1446-4189-84dd-ddca713cc7cb"
      },
      "execution_count": null,
      "outputs": [
        {
          "output_type": "display_data",
          "data": {
            "text/plain": [
              "<Figure size 432x288 with 1 Axes>"
            ],
            "image/png": "[encoded data removed]"
          },
          "metadata": {
            "needs_background": "light"
          }
        }
      ]
    },
    {
      "cell_type": "markdown",
      "source": [
        "### Span of a linear combination of vectors"
      ],
      "metadata": {
        "id": "MrHypA0q0SgW"
      }
    },
    {
      "cell_type": "markdown",
      "source": [
        "In mathematics, a linear combination is a representation created by multiplying by a constant each term, and then the results are added. [14] In this method, not one vector but two or more vectors are utilized. The code \"np.arange\" is employed to set the range of the scalar quantity to be multiplied by the values in the two vectors. The function of \"np.meshgrid\" is to create a vector of all the combinations of the resultant, and it calls out the values indicated in \"c1\" and \"c2\" as \"R\"; thus, adding two vectors results in vector R, which is the resultant vector. Additionally, \"spanRx\" implies the span of Rx (resultant of x), which is the \"c1\" and \"c2\" such that the variables for the x-component and y-component of a vector are from the \"spanRx\" and \"spanRy.\" Another function used was \"plt.scatter\" wherein it scatters the points and will display the combination of the two vectors, but the points are separated. However, in spanning a linear combination of vectors, the example code, which is \"plt.scatter(spanRx,spanRy, s=5, alpha=0.75),\" is utilized to scatter the values of \"spanRx\" and \"spanRy.\" In plotting, the values can be changed by altering the range. Below is the example of spanning a linear combination of vectors."
      ],
      "metadata": {
        "id": "WRfX4xlBIEgM"
      }
    },
    {
      "cell_type": "markdown",
      "source": [
        "So what if we are to plot the span of a linear combination of vectors? We can visualize as a plane on the 2-dimensional coordinate system. Let's take the span of the linear combination below:"
      ],
      "metadata": {
        "id": "85sQXhHx0TU4"
      }
    },
    {
      "cell_type": "markdown",
      "source": [
        "$$Y = \\begin{Bmatrix} c_1 \\cdot\\begin{bmatrix} 10\\\\9 \\\\\\end{bmatrix}, \n",
        "c_2 \\cdot \\begin{bmatrix} -22\\\\-3 \\\\\\end{bmatrix}\\end{Bmatrix} $$"
      ],
      "metadata": {
        "id": "ZgxqRA2_0Vlf"
      }
    },
    {
      "cell_type": "code",
      "source": [
        "vectorG = np.array([10,9])\n",
        "vectorP = np.array([-22,-3])\n",
        "\n",
        "O = np.arange(-30,30,3)\n",
        "\n",
        "c1, c2 = np.meshgrid(O,O)\n",
        "\n",
        "vectorO = vectorG + vectorP\n",
        "spanRx = c1*vectorG[0] + c2*vectorP[0]\n",
        "spanRy = c1*vectorG[1] + c2*vectorP[1]\n",
        "plt.scatter(spanRx,spanRy, s=9, alpha=0.80, color='skyblue')\n",
        "\n",
        "plt.axhline(y=0, color='gray')\n",
        "plt.axvline(x=0, color='fuchsia')\n",
        "plt.grid()\n",
        "plt.show()"
      ],
      "metadata": {
        "id": "NbDFOsR00QII",
        "colab": {
          "base_uri": "https://localhost:8080/",
          "height": 265
        },
        "outputId": "2bfe1965-2d55-45d9-a717-ade46289f69f"
      },
      "execution_count": null,
      "outputs": [
        {
          "output_type": "display_data",
          "data": {
            "text/plain": [
              "<Figure size 432x288 with 1 Axes>"
            ],
            "image/png": "[encoded data removed]"
          },
          "metadata": {
            "needs_background": "light"
          }
        }
      ]
    },
    {
      "cell_type": "code",
      "source": [
        "vectorG = np.array([10,9])\n",
        "vectorP = np.array([-22,-3])\n",
        "\n",
        "O = np.arange(-10,10,1)\n",
        "\n",
        "c1, c2 = np.meshgrid(O,O)\n",
        "\n",
        "print(np.meshgrid(O,O))"
      ],
      "metadata": {
        "colab": {
          "base_uri": "https://localhost:8080/"
        },
        "id": "bCZ5fsLRKMSd",
        "outputId": "84ad7be1-07c7-4df9-8a52-f7556ace8246"
      },
      "execution_count": null,
      "outputs": [
        {
          "output_type": "stream",
          "name": "stdout",
          "text": [
            "[array([[-10,  -9,  -8,  -7,  -6,  -5,  -4,  -3,  -2,  -1,   0,   1,   2,\n",
            "          3,   4,   5,   6,   7,   8,   9],\n",
            "       [-10,  -9,  -8,  -7,  -6,  -5,  -4,  -3,  -2,  -1,   0,   1,   2,\n",
            "          3,   4,   5,   6,   7,   8,   9],\n",
            "       [-10,  -9,  -8,  -7,  -6,  -5,  -4,  -3,  -2,  -1,   0,   1,   2,\n",
            "          3,   4,   5,   6,   7,   8,   9],\n",
            "       [-10,  -9,  -8,  -7,  -6,  -5,  -4,  -3,  -2,  -1,   0,   1,   2,\n",
            "          3,   4,   5,   6,   7,   8,   9],\n",
            "       [-10,  -9,  -8,  -7,  -6,  -5,  -4,  -3,  -2,  -1,   0,   1,   2,\n",
            "          3,   4,   5,   6,   7,   8,   9],\n",
            "       [-10,  -9,  -8,  -7,  -6,  -5,  -4,  -3,  -2,  -1,   0,   1,   2,\n",
            "          3,   4,   5,   6,   7,   8,   9],\n",
            "       [-10,  -9,  -8,  -7,  -6,  -5,  -4,  -3,  -2,  -1,   0,   1,   2,\n",
            "          3,   4,   5,   6,   7,   8,   9],\n",
            "       [-10,  -9,  -8,  -7,  -6,  -5,  -4,  -3,  -2,  -1,   0,   1,   2,\n",
            "          3,   4,   5,   6,   7,   8,   9],\n",
            "       [-10,  -9,  -8,  -7,  -6,  -5,  -4,  -3,  -2,  -1,   0,   1,   2,\n",
            "          3,   4,   5,   6,   7,   8,   9],\n",
            "       [-10,  -9,  -8,  -7,  -6,  -5,  -4,  -3,  -2,  -1,   0,   1,   2,\n",
            "          3,   4,   5,   6,   7,   8,   9],\n",
            "       [-10,  -9,  -8,  -7,  -6,  -5,  -4,  -3,  -2,  -1,   0,   1,   2,\n",
            "          3,   4,   5,   6,   7,   8,   9],\n",
            "       [-10,  -9,  -8,  -7,  -6,  -5,  -4,  -3,  -2,  -1,   0,   1,   2,\n",
            "          3,   4,   5,   6,   7,   8,   9],\n",
            "       [-10,  -9,  -8,  -7,  -6,  -5,  -4,  -3,  -2,  -1,   0,   1,   2,\n",
            "          3,   4,   5,   6,   7,   8,   9],\n",
            "       [-10,  -9,  -8,  -7,  -6,  -5,  -4,  -3,  -2,  -1,   0,   1,   2,\n",
            "          3,   4,   5,   6,   7,   8,   9],\n",
            "       [-10,  -9,  -8,  -7,  -6,  -5,  -4,  -3,  -2,  -1,   0,   1,   2,\n",
            "          3,   4,   5,   6,   7,   8,   9],\n",
            "       [-10,  -9,  -8,  -7,  -6,  -5,  -4,  -3,  -2,  -1,   0,   1,   2,\n",
            "          3,   4,   5,   6,   7,   8,   9],\n",
            "       [-10,  -9,  -8,  -7,  -6,  -5,  -4,  -3,  -2,  -1,   0,   1,   2,\n",
            "          3,   4,   5,   6,   7,   8,   9],\n",
            "       [-10,  -9,  -8,  -7,  -6,  -5,  -4,  -3,  -2,  -1,   0,   1,   2,\n",
            "          3,   4,   5,   6,   7,   8,   9],\n",
            "       [-10,  -9,  -8,  -7,  -6,  -5,  -4,  -3,  -2,  -1,   0,   1,   2,\n",
            "          3,   4,   5,   6,   7,   8,   9],\n",
            "       [-10,  -9,  -8,  -7,  -6,  -5,  -4,  -3,  -2,  -1,   0,   1,   2,\n",
            "          3,   4,   5,   6,   7,   8,   9]]), array([[-10, -10, -10, -10, -10, -10, -10, -10, -10, -10, -10, -10, -10,\n",
            "        -10, -10, -10, -10, -10, -10, -10],\n",
            "       [ -9,  -9,  -9,  -9,  -9,  -9,  -9,  -9,  -9,  -9,  -9,  -9,  -9,\n",
            "         -9,  -9,  -9,  -9,  -9,  -9,  -9],\n",
            "       [ -8,  -8,  -8,  -8,  -8,  -8,  -8,  -8,  -8,  -8,  -8,  -8,  -8,\n",
            "         -8,  -8,  -8,  -8,  -8,  -8,  -8],\n",
            "       [ -7,  -7,  -7,  -7,  -7,  -7,  -7,  -7,  -7,  -7,  -7,  -7,  -7,\n",
            "         -7,  -7,  -7,  -7,  -7,  -7,  -7],\n",
            "       [ -6,  -6,  -6,  -6,  -6,  -6,  -6,  -6,  -6,  -6,  -6,  -6,  -6,\n",
            "         -6,  -6,  -6,  -6,  -6,  -6,  -6],\n",
            "       [ -5,  -5,  -5,  -5,  -5,  -5,  -5,  -5,  -5,  -5,  -5,  -5,  -5,\n",
            "         -5,  -5,  -5,  -5,  -5,  -5,  -5],\n",
            "       [ -4,  -4,  -4,  -4,  -4,  -4,  -4,  -4,  -4,  -4,  -4,  -4,  -4,\n",
            "         -4,  -4,  -4,  -4,  -4,  -4,  -4],\n",
            "       [ -3,  -3,  -3,  -3,  -3,  -3,  -3,  -3,  -3,  -3,  -3,  -3,  -3,\n",
            "         -3,  -3,  -3,  -3,  -3,  -3,  -3],\n",
            "       [ -2,  -2,  -2,  -2,  -2,  -2,  -2,  -2,  -2,  -2,  -2,  -2,  -2,\n",
            "         -2,  -2,  -2,  -2,  -2,  -2,  -2],\n",
            "       [ -1,  -1,  -1,  -1,  -1,  -1,  -1,  -1,  -1,  -1,  -1,  -1,  -1,\n",
            "         -1,  -1,  -1,  -1,  -1,  -1,  -1],\n",
            "       [  0,   0,   0,   0,   0,   0,   0,   0,   0,   0,   0,   0,   0,\n",
            "          0,   0,   0,   0,   0,   0,   0],\n",
            "       [  1,   1,   1,   1,   1,   1,   1,   1,   1,   1,   1,   1,   1,\n",
            "          1,   1,   1,   1,   1,   1,   1],\n",
            "       [  2,   2,   2,   2,   2,   2,   2,   2,   2,   2,   2,   2,   2,\n",
            "          2,   2,   2,   2,   2,   2,   2],\n",
            "       [  3,   3,   3,   3,   3,   3,   3,   3,   3,   3,   3,   3,   3,\n",
            "          3,   3,   3,   3,   3,   3,   3],\n",
            "       [  4,   4,   4,   4,   4,   4,   4,   4,   4,   4,   4,   4,   4,\n",
            "          4,   4,   4,   4,   4,   4,   4],\n",
            "       [  5,   5,   5,   5,   5,   5,   5,   5,   5,   5,   5,   5,   5,\n",
            "          5,   5,   5,   5,   5,   5,   5],\n",
            "       [  6,   6,   6,   6,   6,   6,   6,   6,   6,   6,   6,   6,   6,\n",
            "          6,   6,   6,   6,   6,   6,   6],\n",
            "       [  7,   7,   7,   7,   7,   7,   7,   7,   7,   7,   7,   7,   7,\n",
            "          7,   7,   7,   7,   7,   7,   7],\n",
            "       [  8,   8,   8,   8,   8,   8,   8,   8,   8,   8,   8,   8,   8,\n",
            "          8,   8,   8,   8,   8,   8,   8],\n",
            "       [  9,   9,   9,   9,   9,   9,   9,   9,   9,   9,   9,   9,   9,\n",
            "          9,   9,   9,   9,   9,   9,   9]])]\n"
          ]
        }
      ]
    },
    {
      "cell_type": "code",
      "source": [
        "vectorG = np.array([10,9])\n",
        "vectorP = np.array([-22,-3])\n",
        "\n",
        "O = np.arange(-30,30,3)\n",
        "\n",
        "c1, c2 = np.meshgrid(O,O)\n",
        "\n",
        "vectorO = vectorG + vectorP\n",
        "spanRx = c1*vectorG[0] + c2*vectorP[0]\n",
        "spanRy = c1*vectorG[1] + c2*vectorP[1]\n",
        "plt.scatter(O*vectorG[0],O*vectorG[1])\n",
        "##plt.scatter(spanRx,spanRy, s=9, alpha=0.80, color='orange')\n",
        "\n",
        "plt.axhline(y=0, color='lime')\n",
        "plt.axvline(x=0, color='fuchsia')\n",
        "plt.grid()\n",
        "plt.show()"
      ],
      "metadata": {
        "colab": {
          "base_uri": "https://localhost:8080/",
          "height": 265
        },
        "id": "Q5T45i14TRSs",
        "outputId": "02eb9593-b91e-40d8-e47a-bb01d032fa31"
      },
      "execution_count": null,
      "outputs": [
        {
          "output_type": "display_data",
          "data": {
            "text/plain": [
              "<Figure size 432x288 with 1 Axes>"
            ],
            "image/png": "[encoded data removed]"
          },
          "metadata": {
            "needs_background": "light"
          }
        }
      ]
    },
    {
      "cell_type": "code",
      "source": [
        "vectorG = np.array([10,9])\n",
        "vectorP = np.array([-22,-3])\n",
        "\n",
        "O = np.arange(-30,30,3)\n",
        "\n",
        "c1, c2 = np.meshgrid(O,O)\n",
        "\n",
        "vectorO = vectorG + vectorP\n",
        "spanRx = c1*vectorG[0] + c2*vectorP[0]\n",
        "spanRy = c1*vectorG[1] + c2*vectorP[1]\n",
        "plt.scatter(O*vectorG[0],O*vectorG[1])\n",
        "plt.scatter(O*vectorP[0],O*vectorP[1])\n",
        "##plt.scatter(spanRx,spanRy, s=9, alpha=0.80, color='orange')\n",
        "\n",
        "plt.axhline(y=0, color='lime')\n",
        "plt.axvline(x=0, color='fuchsia')\n",
        "plt.grid()\n",
        "plt.show()\n"
      ],
      "metadata": {
        "id": "OFntEh7E0cQv",
        "colab": {
          "base_uri": "https://localhost:8080/",
          "height": 265
        },
        "outputId": "c6788799-80b7-4b14-a4da-cc4f5e8bd50f"
      },
      "execution_count": null,
      "outputs": [
        {
          "output_type": "display_data",
          "data": {
            "text/plain": [
              "<Figure size 432x288 with 1 Axes>"
            ],
            "image/png": "[encoded data removed]"
          },
          "metadata": {
            "needs_background": "light"
          }
        }
      ]
    },
    {
      "cell_type": "code",
      "source": [
        "vectorG = np.array([10,9])\n",
        "vectorP = np.array([-22,-3])\n",
        "\n",
        "O = np.arange(-30,30,3)\n",
        "\n",
        "c1, c2 = np.meshgrid(O,O)\n",
        "\n",
        "vectorO = vectorG + vectorP\n",
        "spanRx = c1*vectorG[0] + c2*vectorP[0]\n",
        "spanRy = c1*vectorG[1] + c2*vectorP[1]\n",
        "##plt.scatter(O*vectorG[0],O*vectorG[1])\n",
        "##plt.scatter(O*vectorP[0],O*vectorP[1])\n",
        "plt.scatter(spanRx,spanRy, s=9, alpha=0.80, color='purple')\n",
        "\n",
        "plt.axhline(y=0, color='pink')\n",
        "plt.axvline(x=0, color='khaki')\n",
        "plt.grid()\n",
        "plt.show()"
      ],
      "metadata": {
        "colab": {
          "base_uri": "https://localhost:8080/",
          "height": 265
        },
        "id": "cKd-lzI2VzCk",
        "outputId": "76626b5b-cc1f-4e7e-b2c9-632314127341"
      },
      "execution_count": null,
      "outputs": [
        {
          "output_type": "display_data",
          "data": {
            "text/plain": [
              "<Figure size 432x288 with 1 Axes>"
            ],
            "image/png": "[encoded data removed]"
          },
          "metadata": {
            "needs_background": "light"
          }
        }
      ]
    },
    {
      "cell_type": "code",
      "source": [
        "vectorG = np.array([10,9])\n",
        "vectorP = np.array([-22,-3])\n",
        "\n",
        "O = np.arange(-30,30,3)\n",
        "\n",
        "c1, c2 = np.meshgrid(O,O)\n",
        "\n",
        "vectorO = vectorG + vectorP\n",
        "spanRx = c1*vectorG[0] + c2*vectorP[0]\n",
        "spanRy = c1*vectorG[1] + c2*vectorP[1]\n",
        "plt.scatter(O*vectorG[0],O*vectorG[1])\n",
        "plt.scatter(O*vectorP[0],O*vectorP[1])\n",
        "plt.scatter(spanRx,spanRy, s=9, alpha=0.80, color='skyblue')\n",
        "\n",
        "plt.axhline(y=0, color='lime')\n",
        "plt.axvline(x=0, color='orange')\n",
        "plt.grid()\n",
        "plt.show()"
      ],
      "metadata": {
        "colab": {
          "base_uri": "https://localhost:8080/",
          "height": 265
        },
        "id": "diwSadqsVv3d",
        "outputId": "97d8c4d9-d89b-49aa-a291-275e2fc5369f"
      },
      "execution_count": null,
      "outputs": [
        {
          "output_type": "display_data",
          "data": {
            "text/plain": [
              "<Figure size 432x288 with 1 Axes>"
            ],
            "image/png": "[encoded data removed]"
          },
          "metadata": {
            "needs_background": "light"
          }
        }
      ]
    },
    {
      "cell_type": "code",
      "source": [
        "vectorG = np.array([1,4])\n",
        "vectorP = np.array([-2,-8])\n",
        "\n",
        "O = np.arange(-25,25,8)\n",
        "\n",
        "c1, c2 = np.meshgrid(O,O)\n",
        "\n",
        "vectorO = vectorG + vectorP\n",
        "spanRx = c1*vectorG[0] + c2*vectorP[0]\n",
        "spanRy = c1*vectorG[1] + c2*vectorP[1]\n",
        "##plt.scatter(O*vectorG[0],O*vectorG[1])\n",
        "##plt.scatter(O*vectorP[0],O*vectorP[1])\n",
        "plt.scatter(spanRx,spanRy, s=9, alpha=0.80, color='red')\n",
        "\n",
        "plt.axhline(y=0, color='aqua')\n",
        "plt.axvline(x=0, color='orchid')\n",
        "plt.grid()\n",
        "plt.show()"
      ],
      "metadata": {
        "colab": {
          "base_uri": "https://localhost:8080/",
          "height": 265
        },
        "id": "POvZFyStW5CV",
        "outputId": "3ca8fa9a-f50c-4afb-f61a-48cae1d30669"
      },
      "execution_count": null,
      "outputs": [
        {
          "output_type": "display_data",
          "data": {
            "text/plain": [
              "<Figure size 432x288 with 1 Axes>"
            ],
            "image/png": "[encoded data removed]"
          },
          "metadata": {
            "needs_background": "light"
          }
        }
      ]
    },
    {
      "cell_type": "code",
      "source": [
        "vectorG = np.array([3,24])\n",
        "vectorP = np.array([2,24])\n",
        "\n",
        "O = np.arange(-25,25,8)\n",
        "\n",
        "c1, c2 = np.meshgrid(O,O)\n",
        "\n",
        "vectorO = vectorG + vectorP\n",
        "spanRx = c1*vectorG[0] + c2*vectorP[0]\n",
        "spanRy = c1*vectorG[1] + c2*vectorP[1]\n",
        "##plt.scatter(O*vectorG[0],O*vectorG[1])\n",
        "##plt.scatter(O*vectorP[0],O*vectorP[1])\n",
        "plt.scatter(spanRx,spanRy, s=9, alpha=0.80, color='red')\n",
        "\n",
        "plt.axhline(y=0, color='aqua')\n",
        "plt.axvline(x=0, color='orchid')\n",
        "plt.grid()\n",
        "plt.show()"
      ],
      "metadata": {
        "colab": {
          "base_uri": "https://localhost:8080/",
          "height": 265
        },
        "id": "1V4yg_NSa2Ht",
        "outputId": "e033b2c4-193c-477b-99a1-9047c303400b"
      },
      "execution_count": null,
      "outputs": [
        {
          "output_type": "display_data",
          "data": {
            "text/plain": [
              "<Figure size 432x288 with 1 Axes>"
            ],
            "image/png": "[encoded data removed]"
          },
          "metadata": {
            "needs_background": "light"
          }
        }
      ]
    },
    {
      "cell_type": "markdown",
      "source": [
        "Take note that if vectors are seen to be as a 2-dimensional span we can say it has a Rank of 2 or $\\mathbb{R}^2$. But if the span of the linear combination of vectors are seen to be like a line, they are said to be <b> linearly dependent </b> and they have a rank of 1 or $\\mathbb{R}^1$."
      ],
      "metadata": {
        "id": "jUHU52G30fY3"
      }
    },
    {
      "cell_type": "markdown",
      "source": [
        "# Activity"
      ],
      "metadata": {
        "id": "01i7kK2Q0gFQ"
      }
    },
    {
      "cell_type": "markdown",
      "source": [
        "### Task 1"
      ],
      "metadata": {
        "id": "HTCPp8LQ0j6H"
      }
    },
    {
      "cell_type": "markdown",
      "source": [
        "Try different linear combinations using different scalar values. In your methodology discuss the different functions that you have used, the  linear equation and vector form of the linear combination, and the flowchart for declaring and displaying linear combinations. Please make sure that your flowchart has only few words and not putting the entire code as it is bad practice. In your results, display and discuss the linear combination visualization you made. You should use the cells below for displaying the equation markdowns using LaTeX and your code."
      ],
      "metadata": {
        "id": "bIDrePmg0mbw"
      }
    },
    {
      "cell_type": "markdown",
      "source": [
        "$$Span\\ of\\ single\\ vectors$$\n",
        "\\\n",
        "$$A = 3\\hat{i} + 4\\hat{j}$$\n",
        "\\\n",
        "$$A=\\begin{bmatrix} 3\\\\4  \\end{bmatrix}$$\n",
        "\\\n",
        "$$A = c\\cdot \\begin{bmatrix} 3\\\\4 \\\\\\end{bmatrix} $$"
      ],
      "metadata": {
        "id": "5fRNMYry0otX"
      }
    },
    {
      "cell_type": "code",
      "source": [
        "c = np.arange(-15,15,0.155)\n",
        "\n",
        "plt.scatter(c*vectorA[0],c*vectorA[1], color='pink')\n",
        "\n",
        "plt.xlim(-15,15)\n",
        "plt.ylim(-15,15)\n",
        "plt.axhline(y=0, color='green')\n",
        "plt.axvline(x=0, color='purple')\n",
        "plt.grid()\n",
        "plt.show()"
      ],
      "metadata": {
        "colab": {
          "base_uri": "https://localhost:8080/",
          "height": 269
        },
        "id": "AP8qQRWIfW_W",
        "outputId": "02df3efc-69b4-4e42-dcb9-119cc986a293"
      },
      "execution_count": null,
      "outputs": [
        {
          "output_type": "display_data",
          "data": {
            "text/plain": [
              "<Figure size 432x288 with 1 Axes>"
            ],
            "image/png": "[encoded data removed]"
          },
          "metadata": {
            "needs_background": "light"
          }
        }
      ]
    },
    {
      "cell_type": "markdown",
      "source": [
        "$$Span\\ of\\ a\\ linear\\ combinations\\ of\\ vectors$$\n",
        "\\\n",
        "$$G = 10\\hat{x} + 9\\hat{y}\\\\\n",
        "P = -22\\hat{x} - 3\\hat{y}$$\n",
        "\\\n",
        "$$G=\\begin{bmatrix} 10\\\\9  \\end{bmatrix}$$\n",
        "\\\n",
        "$$P=\\begin{bmatrix} -22\\\\-3  \\end{bmatrix}$$\n",
        "\\\n",
        "$$Y = \\begin{Bmatrix} c_1 \\cdot\\begin{bmatrix} 10\\\\9 \\\\\\end{bmatrix}, \n",
        "c_2 \\cdot \\begin{bmatrix} -22\\\\-3 \\\\\\end{bmatrix}\\end{Bmatrix} $$"
      ],
      "metadata": {
        "id": "iImsXij80rBg"
      }
    },
    {
      "cell_type": "code",
      "source": [
        "vectorG = np.array([10,9])\n",
        "vectorP = np.array([-22,-3])\n",
        "\n",
        "O = np.arange(-30,30,3)\n",
        "\n",
        "c1, c2 = np.meshgrid(O,O)\n",
        "\n",
        "vectorO = vectorG + vectorP\n",
        "spanRx = c1*vectorG[0] + c2*vectorP[0]\n",
        "spanRy = c1*vectorG[1] + c2*vectorP[1]\n",
        "plt.scatter(spanRx,spanRy, s=9, alpha=0.80, color='skyblue')\n",
        "\n",
        "plt.axhline(y=0, color='maroon')\n",
        "plt.axvline(x=0, color='lime')\n",
        "plt.grid()\n",
        "plt.show()"
      ],
      "metadata": {
        "id": "x40m8PaW0yT_",
        "colab": {
          "base_uri": "https://localhost:8080/",
          "height": 265
        },
        "outputId": "e48c620c-7b3f-4bf6-9b1b-c9cad11452fb"
      },
      "execution_count": null,
      "outputs": [
        {
          "output_type": "display_data",
          "data": {
            "text/plain": [
              "<Figure size 432x288 with 1 Axes>"
            ],
            "image/png": "[encoded data removed]"
          },
          "metadata": {
            "needs_background": "light"
          }
        }
      ]
    },
    {
      "cell_type": "code",
      "source": [
        "vectorG = np.array([10,9])\n",
        "vectorP = np.array([-22,-3])\n",
        "\n",
        "O = np.arange(-30,30,3)\n",
        "\n",
        "c1, c2 = np.meshgrid(O,O)\n",
        "\n",
        "vectorO = vectorG + vectorP\n",
        "spanRx = c1*vectorG[0] + c2*vectorP[0]\n",
        "spanRy = c1*vectorG[1] + c2*vectorP[1]\n",
        "plt.scatter(O*vectorG[0],O*vectorG[1],color='cyan')\n",
        "plt.scatter(O*vectorP[0],O*vectorP[1],color='lime')\n",
        "plt.scatter(spanRx,spanRy, s=9, alpha=0.80, color='gray')\n",
        "\n",
        "plt.axhline(y=0, color='skyblue')\n",
        "plt.axvline(x=0, color='orange')\n",
        "plt.grid(color='pink')\n",
        "plt.show()"
      ],
      "metadata": {
        "colab": {
          "base_uri": "https://localhost:8080/",
          "height": 265
        },
        "id": "Nwo_6Ldtgqy3",
        "outputId": "649a14e5-a449-42db-8c53-953fe29410d9"
      },
      "execution_count": null,
      "outputs": [
        {
          "output_type": "display_data",
          "data": {
            "text/plain": [
              "<Figure size 432x288 with 1 Axes>"
            ],
            "image/png": "[encoded data removed]"
          },
          "metadata": {
            "needs_background": "light"
          }
        }
      ]
    },
    {
      "cell_type": "markdown",
      "source": [
        "## Conclusion guide"
      ],
      "metadata": {
        "id": "WkdsbTai0s6f"
      }
    },
    {
      "cell_type": "markdown",
      "source": [
        "For your conclusion synthesize the concept and application of the laboratory. Briefly discuss what you have learn and achieved in this activity. At the end of your conclusion try to answer the question : \"How can you apply the concept of linear combination in engineering or real-life situations?\"."
      ],
      "metadata": {
        "id": "W2hJPszn0z9P"
      }
    },
    {
      "cell_type": "markdown",
      "source": [
        "In this laboratory activity, the students have learned more techniques about the application of Python programming in vectors, specifically in terms of linear combination and vector spaces. Upon the completion of this activity, the students learned and applied the objectives of this activity which are representing linear combinations in a 2D cartesian plane, visualizing spans using vector fields, and conducting various vector field operations and functions using scientific programming. The activity mainly focused on the spanning of a single vector and the spanning of linear combinations of vectors. From the word itself, the spanning of a single vector involves only one vector. A span of single vectors was said to be shown by a line span. Meanwhile, a linear combination of vectors was defined as one vector equivalent to the total scalar multiples of other vectors. In addition, the students have comprehended that spanning a linear combination of vectors involves necessary codes for them to achieve it. Thus, plotting the values depends on the parameters to be chosen. \n",
        "\n",
        "Different examples and scenarios were displayed in this activity to further comprehend the applications of the spanning of vectors and linear combinations. Furthermore, with the activity done by the students, they have realized its benefits in the field of engineering and real-life situations. Applying the concept of linear combination to engineering can be advantageous in instructional design and can help solve problems or questions related to geometry and other computer-related works. It can also be applied in computing for grades, earnings, speed, and distance. These are some of its significance in real-life situations, but there are still many applications of the idea of linear combination in people's everyday lives.\n",
        "\n",
        "In totality, the students have further improved their proficiency in python programming with the use of the platform Google Colab. The different commands and new functions were recognized and acquainted with their usage in the activity, especially in doing the given tasks. Moreover, everything that has been discussed in this laboratory report will help the researchers to establish a good foundation regarding the application of spanning vectors and linear combinations which they can use for future purposes. On the final point, the students have gained more knowledge and desire to apply everything they have learned in a real-life situation and field of work.\n"
      ],
      "metadata": {
        "id": "fPwnUPpzIPkO"
      }
    }
  ]
}