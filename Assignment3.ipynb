{
  "nbformat": 4,
  "nbformat_minor": 0,
  "metadata": {
    "colab": {
      "name": "Assignment3.ipynb",
      "provenance": [],
      "collapsed_sections": [],
      "authorship_tag": "ABX9TyPiSEVHM/kp1FFB3r9+pRbC",
      "include_colab_link": true
    },
    "kernelspec": {
      "name": "python3",
      "display_name": "Python 3"
    },
    "language_info": {
      "name": "python"
    }
  },
  "cells": [
    {
      "cell_type": "markdown",
      "metadata": {
        "id": "view-in-github",
        "colab_type": "text"
      },
      "source": [
        "<a href=\"https://colab.research.google.com/github/purple0607/Linear-Algebra_2nd-Sem/blob/main/Assignment3.ipynb\" target=\"_parent\"><img src=\"https://colab.research.google.com/assets/colab-badge.svg\" alt=\"Open In Colab\"/></a>"
      ]
    },
    {
      "cell_type": "markdown",
      "source": [
        "# Linear Algebra for ChE\n",
        "## Laboratory 2 : Matrices"
      ],
      "metadata": {
        "id": "nbpXfZIhxspR"
      }
    },
    {
      "cell_type": "markdown",
      "source": [
        "\n",
        "In the previous laboratory activity, the students have learned and applied the basic concepts, principles, and techniques of Python fundamentals. However, this laboratory activity focuses on the application of matrices in Python in relation to the linear system of equations. Through this activity, the students will be able to learn the application of matrices in programming together with its basic operations and techniques. Upon learning its applications, the students will be able to apply their knowledge in translating matrix equations and operations using Python."
      ],
      "metadata": {
        "id": "7VfEViSKcUg7"
      }
    },
    {
      "cell_type": "markdown",
      "source": [
        "# Discussion"
      ],
      "metadata": {
        "id": "WwZW_VbFyrES"
      }
    },
    {
      "cell_type": "code",
      "source": [
        "import numpy as np\n",
        "import matplotlib.pyplot as plt\n",
        "import scipy.linalg as la\n",
        "%matplotlib inline"
      ],
      "metadata": {
        "id": "wHwcMW1ny8FM"
      },
      "execution_count": 4,
      "outputs": []
    },
    {
      "cell_type": "markdown",
      "source": [
        "- Numerical Python or \"numpy\" in short, supports a broad range of mathematical operations on arrays. It extends Python with sophisticated data formats that ensure fast array and matrix computations, as well as a vast library of elevated numerical methods that work on these matrices and arrays [1].\n",
        "- Matplotlib.pyplot is a set of algorithms that enable matplotlib to operate similarly to MATLAB. Each pyplot function modifies a figure in a certain way [2]\n",
        "- Scipy.linalg contains a variety of tools for solving linear algebra applications, such as functions for conducting matrix operations [3].\n"
      ],
      "metadata": {
        "id": "KvWGR8ASOBh9"
      }
    },
    {
      "cell_type": "markdown",
      "source": [
        "### Matrices\n",
        "\n",
        "\n"
      ],
      "metadata": {
        "id": "BbbdD3l0x2oZ"
      }
    },
    {
      "cell_type": "markdown",
      "source": [
        "A matrix is a two-dimensional rectangle array that holds data in rows and columns. The matrix may hold any form of data, including numbers, strings, equations, and so on. The data is organized horizontally as rows and vertically as columns. Matrix data structures, on the other hand, are vital for various mathematical and scientific operations [4].\n",
        "\n",
        "Matrix notation and utilization is likely one of the three cornerstones of modern calculations. Matrices are also useful for representing complicated equations or several interconnected equations, ranging from two-dimensional equations to the desired number of equations [2].\n",
        "\n",
        "\n"
      ],
      "metadata": {
        "id": "Zkfg3PcCcw3H"
      }
    },
    {
      "cell_type": "markdown",
      "source": [
        "For instance, let $F$, $G$, and $H$ as a system of equations.\n"
      ],
      "metadata": {
        "id": "9h0yXjv4c1pY"
      }
    },
    {
      "cell_type": "markdown",
      "source": [
        "$$\n",
        "F = \\left\\{\n",
        "    \\begin{array}\\\n",
        "        l + 2m \\\\\n",
        "        7m - 11l\n",
        "    \\end{array}\n",
        "\\right. \\\\\n",
        "G = \\left\\{\n",
        "    \\begin{array}\\\n",
        "        13l + m- 7n \\\\\n",
        "        -8l + 21m -n \\\\\n",
        "        17l -6m +1n\n",
        "    \\end{array}\\\n",
        "\\right. \\\\\n",
        "H = \\left\\{\n",
        "    \\begin{array}\\\n",
        "        9k +40l +m +3n \\\\\n",
        "        3k+ l +4m -81n \\\\\n",
        "        -6k -5l + 41m -11n \\\\\n",
        "        51k +l -3m +n\n",
        "    \\end{array}\n",
        "\\right. $$"
      ],
      "metadata": {
        "id": "4D1h7fr6hHO8"
      }
    },
    {
      "cell_type": "markdown",
      "source": [
        "In this representation, we could observe that $F$ is a system of 2 equations with 2 parameters. While $G$ and $H$ is a system of 3 equations with 3 parameters and 4 equations with 4 parameters respectively. Their representation in matrices are as follows:"
      ],
      "metadata": {
        "id": "h4D_TjCghUQ-"
      }
    },
    {
      "cell_type": "markdown",
      "source": [
        ":$$\n",
        "A=\\begin{bmatrix} 1 & 2 \\\\ 7 & {-11}\\end{bmatrix} \\\\\n",
        "B=\\begin{bmatrix} 13 & 1 & -7 \\\\ -8 & 21 & -1 \\\\ 17 & -6 & 1\\end{bmatrix}\\\\\n",
        "C=\\begin{bmatrix} 9 & 40 & 1 & 3 \\\\ 3 & 1 & 4 & -81 \\\\ -6 & -5 & 41 & -11 \\\\ 51 & 1 & -3 & 1 \\end{bmatrix}\n",
        "$$"
      ],
      "metadata": {
        "id": "Jxdn7KkyhYv3"
      }
    },
    {
      "cell_type": "markdown",
      "source": [
        "### Declaring Matrices"
      ],
      "metadata": {
        "id": "14VX2wFXhkZL"
      }
    },
    {
      "cell_type": "markdown",
      "source": [
        "In this laboratory activity, a system of linear equations will be represented as matrices. The things or numbers included in matrices are referred to as the matrix's elements. Matrixes have a collection of list-like structures because these items are grouped and sorted in rows and columns. This generalization may be expressed in the same way in the following equation:"
      ],
      "metadata": {
        "id": "qsOFscDOhnBz"
      }
    },
    {
      "cell_type": "markdown",
      "source": [
        "$$A=\\begin{bmatrix}\n",
        "a_{(0,0)}&a_{(0,1)}&\\dots&a_{(0,j-1)}\\\\\n",
        "a_{(1,0)}&a_{(1,1)}&\\dots&a_{(1,j-1)}\\\\\n",
        "\\vdots&\\vdots&\\ddots&\\vdots&\\\\\n",
        "a_{(i-1,0)}&a_{(i-1,1)}&\\dots&a_{(i-1,j-1)}\n",
        "\\end{bmatrix}\n",
        "$$"
      ],
      "metadata": {
        "id": "39CyPTe_hwF5"
      }
    },
    {
      "cell_type": "code",
      "source": [
        "## Since we'll keep on describing matrices. Let's make a function.\n",
        "def describe_mat(matrix):\n",
        "    print(f'Matrix:\\n{matrix}\\n\\nShape:\\t{matrix.shape}\\nRank:\\t{matrix.ndim}\\n')"
      ],
      "metadata": {
        "id": "U12_fWKPjSud"
      },
      "execution_count": 5,
      "outputs": []
    },
    {
      "cell_type": "code",
      "source": [
        "## Declaring a 2 x 2 matrix\n",
        "A = np.array([\n",
        "    [3, 5],\n",
        "    [7, 9]\n",
        "])\n",
        "describe_mat(A)"
      ],
      "metadata": {
        "colab": {
          "base_uri": "https://localhost:8080/"
        },
        "id": "_1cQsQJih5Ey",
        "outputId": "e7d5ed28-dd0c-44e5-9f3e-22c1408a1e51"
      },
      "execution_count": 6,
      "outputs": [
        {
          "output_type": "stream",
          "name": "stdout",
          "text": [
            "Matrix:\n",
            "[[3 5]\n",
            " [7 9]]\n",
            "\n",
            "Shape:\t(2, 2)\n",
            "Rank:\t2\n",
            "\n"
          ]
        }
      ]
    },
    {
      "cell_type": "code",
      "source": [
        "G = np.array([\n",
        "    [3,4,17],\n",
        "    [24,3,9]\n",
        "])\n",
        "describe_mat(G)"
      ],
      "metadata": {
        "colab": {
          "base_uri": "https://localhost:8080/"
        },
        "id": "87PclCrwjigj",
        "outputId": "91696679-0a54-46f1-8369-2f7a713140a5"
      },
      "execution_count": 7,
      "outputs": [
        {
          "output_type": "stream",
          "name": "stdout",
          "text": [
            "Matrix:\n",
            "[[ 3  4 17]\n",
            " [24  3  9]]\n",
            "\n",
            "Shape:\t(2, 3)\n",
            "Rank:\t2\n",
            "\n"
          ]
        }
      ]
    },
    {
      "cell_type": "code",
      "source": [
        "## Declaring a 3 x 2 matrix\n",
        "B = np.array([\n",
        "    [0, 5],\n",
        "    [9, 8],\n",
        "    [3, 1]\n",
        "])\n",
        "describe_mat(B)"
      ],
      "metadata": {
        "colab": {
          "base_uri": "https://localhost:8080/"
        },
        "id": "dp8znJwgjnMC",
        "outputId": "aba73cd7-a035-403f-d40e-eb173a521a60"
      },
      "execution_count": 8,
      "outputs": [
        {
          "output_type": "stream",
          "name": "stdout",
          "text": [
            "Matrix:\n",
            "[[0 5]\n",
            " [9 8]\n",
            " [3 1]]\n",
            "\n",
            "Shape:\t(3, 2)\n",
            "Rank:\t2\n",
            "\n"
          ]
        }
      ]
    },
    {
      "cell_type": "code",
      "source": [
        "H = np.array([5,6,7,8])\n",
        "describe_mat(H)"
      ],
      "metadata": {
        "colab": {
          "base_uri": "https://localhost:8080/"
        },
        "id": "StjnHv3tl0M4",
        "outputId": "92441883-5996-4d07-b0eb-f8e45d455cde"
      },
      "execution_count": 9,
      "outputs": [
        {
          "output_type": "stream",
          "name": "stdout",
          "text": [
            "Matrix:\n",
            "[5 6 7 8]\n",
            "\n",
            "Shape:\t(4,)\n",
            "Rank:\t1\n",
            "\n"
          ]
        }
      ]
    },
    {
      "cell_type": "markdown",
      "source": [
        "## Categorizing Matrices"
      ],
      "metadata": {
        "id": "LQIDi2jXouo3"
      }
    },
    {
      "cell_type": "markdown",
      "source": [
        "Matrices have different types, and they can be classified according to shape and element values."
      ],
      "metadata": {
        "id": "T61hQkIsoxRb"
      }
    },
    {
      "cell_type": "markdown",
      "source": [
        "### According to shape"
      ],
      "metadata": {
        "id": "pKq_h12ho0i8"
      }
    },
    {
      "cell_type": "markdown",
      "source": [
        "#### Row and Column Matrices"
      ],
      "metadata": {
        "id": "MLTIH27hrDzE"
      }
    },
    {
      "cell_type": "markdown",
      "source": [
        "These are matrices that are also known as \"Row and Column Vectors.\" Row Matrices is described by a single row that has a shape of 1 x n, while Column Matrices is defined as a single column with a shape of n x 1. A row is displayed vertically, and a column is shown horizontally. [4]"
      ],
      "metadata": {
        "id": "nGzl3MILrHUs"
      }
    },
    {
      "cell_type": "code",
      "source": [
        "## Declaring a Row Matrix\n",
        "\n",
        "row_mat1D = np.array([\n",
        "    3, 7, 5, -9\n",
        "]) ## this is a 1-D Matrix with a shape of (4,), it's not really considered as a row matrix.\n",
        "row_mat2D = np.array([\n",
        "    [1,2,3, -4]\n",
        "]) ## this is a 2-D Matrix with a shape of (1,4)\n",
        "describe_mat(row_mat1D)\n",
        "describe_mat(row_mat2D)"
      ],
      "metadata": {
        "id": "PxOE6NhnrKII",
        "colab": {
          "base_uri": "https://localhost:8080/"
        },
        "outputId": "0cea7bfc-b5ec-446a-af7d-395bc9184f5a"
      },
      "execution_count": 10,
      "outputs": [
        {
          "output_type": "stream",
          "name": "stdout",
          "text": [
            "Matrix:\n",
            "[ 3  7  5 -9]\n",
            "\n",
            "Shape:\t(4,)\n",
            "Rank:\t1\n",
            "\n",
            "Matrix:\n",
            "[[ 1  2  3 -4]]\n",
            "\n",
            "Shape:\t(1, 4)\n",
            "Rank:\t2\n",
            "\n"
          ]
        }
      ]
    },
    {
      "cell_type": "code",
      "source": [
        "## Declaring a Column Matrix\n",
        "\n",
        "colu_mat = np.array([\n",
        "    [30],\n",
        "    [2],\n",
        "    [5]\n",
        "]) ## this is a 2-D Matrix with a shape of (3,1)\n",
        "describe_mat(colu_mat)"
      ],
      "metadata": {
        "id": "xJKeZ5AyrN6Y",
        "colab": {
          "base_uri": "https://localhost:8080/"
        },
        "outputId": "c27e522f-2c01-4386-a1e8-9d83aea25bba"
      },
      "execution_count": 11,
      "outputs": [
        {
          "output_type": "stream",
          "name": "stdout",
          "text": [
            "Matrix:\n",
            "[[30]\n",
            " [ 2]\n",
            " [ 5]]\n",
            "\n",
            "Shape:\t(3, 1)\n",
            "Rank:\t2\n",
            "\n"
          ]
        }
      ]
    },
    {
      "cell_type": "markdown",
      "source": [
        "#### Square Matrices"
      ],
      "metadata": {
        "id": "jyxZPHCtrQrq"
      }
    },
    {
      "cell_type": "markdown",
      "source": [
        "The matrices in Square Matrices are arranged in such a way that the sizes of both row and column are equal. In the code cell below, we can distinguish if the matrix is a square matrix or not through the descriptor function, which will print out True or False after the \"Is Square:\" [5]"
      ],
      "metadata": {
        "id": "H_9tBVnYrU8E"
      }
    },
    {
      "cell_type": "code",
      "source": [
        "def describe_mat(matrix):\n",
        "    is_square = True if matrix.shape[0] == matrix.shape[1] else False \n",
        "    print(f'Matrix:\\n{matrix}\\n\\nShape:\\t{matrix.shape}\\nRank:\\t{matrix.ndim}\\nIs Square: {is_square}\\n')"
      ],
      "metadata": {
        "id": "gChDPxFkrhQj"
      },
      "execution_count": 12,
      "outputs": []
    },
    {
      "cell_type": "code",
      "source": [
        "square_mat = np.array([\n",
        "    [3,7,9],\n",
        "    [5,1,3],\n",
        "    [4,2,8]\n",
        "])\n",
        "\n",
        "non_square_mat = np.array([\n",
        "    [4,9,4],\n",
        "    [5,3,7]\n",
        "])\n",
        "describe_mat(square_mat)\n",
        "describe_mat(non_square_mat)"
      ],
      "metadata": {
        "id": "NSfLBCoDrkYG",
        "colab": {
          "base_uri": "https://localhost:8080/"
        },
        "outputId": "9f4501a4-c269-4111-9556-ef3cee5dbbbe"
      },
      "execution_count": 13,
      "outputs": [
        {
          "output_type": "stream",
          "name": "stdout",
          "text": [
            "Matrix:\n",
            "[[3 7 9]\n",
            " [5 1 3]\n",
            " [4 2 8]]\n",
            "\n",
            "Shape:\t(3, 3)\n",
            "Rank:\t2\n",
            "Is Square: True\n",
            "\n",
            "Matrix:\n",
            "[[4 9 4]\n",
            " [5 3 7]]\n",
            "\n",
            "Shape:\t(2, 3)\n",
            "Rank:\t2\n",
            "Is Square: False\n",
            "\n"
          ]
        }
      ]
    },
    {
      "cell_type": "markdown",
      "source": [
        "### According to element values"
      ],
      "metadata": {
        "id": "dp2Kkv08roN_"
      }
    },
    {
      "cell_type": "markdown",
      "source": [
        "#### Null Matrix"
      ],
      "metadata": {
        "id": "D7JUvQTprrY0"
      }
    },
    {
      "cell_type": "markdown",
      "source": [
        "The term \"null\" simply means \"empty\". In a Null matrix, it is a type of matrix that does not contain any element. [6]"
      ],
      "metadata": {
        "id": "a2xThYOer2FJ"
      }
    },
    {
      "cell_type": "code",
      "source": [
        "def describe_mat(matrix):\n",
        "    if matrix.size > 0:\n",
        "        is_square = True if matrix.shape[0] == matrix.shape[1] else False \n",
        "        print(f'Matrix:\\n{matrix}\\n\\nShape:\\t{matrix.shape}\\nRank:\\t{matrix.ndim}\\nIs Square: {is_square}\\n')\n",
        "    else:\n",
        "        print('Matrix is Null')"
      ],
      "metadata": {
        "id": "PrgPkfJSr4oy"
      },
      "execution_count": 14,
      "outputs": []
    },
    {
      "cell_type": "code",
      "source": [
        "null_mat = np.array([])\n",
        "describe_mat(null_mat)"
      ],
      "metadata": {
        "colab": {
          "base_uri": "https://localhost:8080/"
        },
        "id": "Kd8hR9MkAPhx",
        "outputId": "69dacc9b-cc88-45a5-b139-ba28a69883f5"
      },
      "execution_count": 15,
      "outputs": [
        {
          "output_type": "stream",
          "name": "stdout",
          "text": [
            "Matrix is Null\n"
          ]
        }
      ]
    },
    {
      "cell_type": "markdown",
      "source": [
        "#### Zero Matrix"
      ],
      "metadata": {
        "id": "QbPuKyzzr67J"
      }
    },
    {
      "cell_type": "markdown",
      "source": [
        "With Zero Matrix, it is easily understood that the elements to be inputted should be zero (0) only regardless of whether the matrix is a square, rectangle, or a row. [6]"
      ],
      "metadata": {
        "id": "GFIiNvFpr9ix"
      }
    },
    {
      "cell_type": "code",
      "source": [
        "zero_mat_row = np.zeros((1,2))\n",
        "zero_mat_sqr = np.zeros((2,2))\n",
        "zero_mat_rct = np.zeros((3,2))\n",
        "\n",
        "print(f'Zero Row Matrix: \\n{zero_mat_row}')\n",
        "print(f'Zero Square Matrix: \\n{zero_mat_sqr}')\n",
        "print(f'Zero Rectangular Matrix: \\n{zero_mat_rct}')"
      ],
      "metadata": {
        "id": "eihbKy6ssBcb",
        "colab": {
          "base_uri": "https://localhost:8080/"
        },
        "outputId": "a213638a-da64-4ac4-e434-64bd35a6520a"
      },
      "execution_count": 16,
      "outputs": [
        {
          "output_type": "stream",
          "name": "stdout",
          "text": [
            "Zero Row Matrix: \n",
            "[[0. 0.]]\n",
            "Zero Square Matrix: \n",
            "[[0. 0.]\n",
            " [0. 0.]]\n",
            "Zero Rectangular Matrix: \n",
            "[[0. 0.]\n",
            " [0. 0.]\n",
            " [0. 0.]]\n"
          ]
        }
      ]
    },
    {
      "cell_type": "markdown",
      "source": [
        "#### Ones Matrix"
      ],
      "metadata": {
        "id": "_Wwf9z9msFem"
      }
    },
    {
      "cell_type": "markdown",
      "source": [
        "Notwithstanding whether the matrix is a row, square, or rectangle, the elements should all be one (1) only. [7] "
      ],
      "metadata": {
        "id": "ODUDhXyqsH7L"
      }
    },
    {
      "cell_type": "code",
      "source": [
        "ones_mat_row = np.ones((1,2))\n",
        "ones_mat_sqr = np.ones((2,2))\n",
        "ones_mat_rct = np.ones((3,2))\n",
        "\n",
        "print(f'Ones Row Matrix: \\n{ones_mat_row}')\n",
        "print(f'Ones Square Matrix: \\n{ones_mat_sqr}')\n",
        "print(f'Ones Rectangular Matrix: \\n{ones_mat_rct}')"
      ],
      "metadata": {
        "id": "AVX8BWAxsZRR",
        "colab": {
          "base_uri": "https://localhost:8080/"
        },
        "outputId": "9337456f-7da0-4ad6-8c99-e2bad12c9708"
      },
      "execution_count": 17,
      "outputs": [
        {
          "output_type": "stream",
          "name": "stdout",
          "text": [
            "Ones Row Matrix: \n",
            "[[1. 1.]]\n",
            "Ones Square Matrix: \n",
            "[[1. 1.]\n",
            " [1. 1.]]\n",
            "Ones Rectangular Matrix: \n",
            "[[1. 1.]\n",
            " [1. 1.]\n",
            " [1. 1.]]\n"
          ]
        }
      ]
    },
    {
      "cell_type": "markdown",
      "source": [
        "#### Diagonal Matrix"
      ],
      "metadata": {
        "id": "OFyiqXn3sbYB"
      }
    },
    {
      "cell_type": "markdown",
      "source": [
        "From the word itself, it is a type of matrix wherein the elements that are not in the diagonal of the matrix will be automatically zero, and the elements that are non-zero will be placed diagonally in a square matrix. [5]"
      ],
      "metadata": {
        "id": "iqEXMqoxsd5y"
      }
    },
    {
      "cell_type": "code",
      "source": [
        "np.array([\n",
        "    [7,0,0],\n",
        "    [0,4,0],\n",
        "    [0,0,8]\n",
        "])\n",
        "# a[1,1], a[2,2], a[3,3], ... a[n-1,n-1]"
      ],
      "metadata": {
        "id": "RcY2_nmksg7a",
        "colab": {
          "base_uri": "https://localhost:8080/"
        },
        "outputId": "512d6743-fdc6-41eb-c941-55cda0c6291f"
      },
      "execution_count": 18,
      "outputs": [
        {
          "output_type": "execute_result",
          "data": {
            "text/plain": [
              "array([[7, 0, 0],\n",
              "       [0, 4, 0],\n",
              "       [0, 0, 8]])"
            ]
          },
          "metadata": {},
          "execution_count": 18
        }
      ]
    },
    {
      "cell_type": "code",
      "source": [
        "d = np.diag([7,4,8,1])\n",
        "d.shape[0] == d.shape[1]\n",
        "d"
      ],
      "metadata": {
        "id": "LHIRyJq2vjom",
        "colab": {
          "base_uri": "https://localhost:8080/"
        },
        "outputId": "8cf5f73f-da90-4ad7-81af-5eefb67d774f"
      },
      "execution_count": 19,
      "outputs": [
        {
          "output_type": "execute_result",
          "data": {
            "text/plain": [
              "array([[7, 0, 0, 0],\n",
              "       [0, 4, 0, 0],\n",
              "       [0, 0, 8, 0],\n",
              "       [0, 0, 0, 1]])"
            ]
          },
          "metadata": {},
          "execution_count": 19
        }
      ]
    },
    {
      "cell_type": "markdown",
      "source": [
        "#### Identity Matrix"
      ],
      "metadata": {
        "id": "RQal63TTsjl8"
      }
    },
    {
      "cell_type": "markdown",
      "source": [
        "In this type of matrix, the elements at the diagonal of a matrix are all one (1), and the rest are zero (0). Also known to be a special diagonal matrix and it has two ways; the \"np.eye\" and \"np.identity\" [5]"
      ],
      "metadata": {
        "id": "ZQdFAU2Rsmqj"
      }
    },
    {
      "cell_type": "code",
      "source": [
        "np.eye(7)"
      ],
      "metadata": {
        "id": "wPMeZQHMso56",
        "colab": {
          "base_uri": "https://localhost:8080/"
        },
        "outputId": "6a79fccb-674b-48e1-ea31-a672569e7cfe"
      },
      "execution_count": 20,
      "outputs": [
        {
          "output_type": "execute_result",
          "data": {
            "text/plain": [
              "array([[1., 0., 0., 0., 0., 0., 0.],\n",
              "       [0., 1., 0., 0., 0., 0., 0.],\n",
              "       [0., 0., 1., 0., 0., 0., 0.],\n",
              "       [0., 0., 0., 1., 0., 0., 0.],\n",
              "       [0., 0., 0., 0., 1., 0., 0.],\n",
              "       [0., 0., 0., 0., 0., 1., 0.],\n",
              "       [0., 0., 0., 0., 0., 0., 1.]])"
            ]
          },
          "metadata": {},
          "execution_count": 20
        }
      ]
    },
    {
      "cell_type": "code",
      "source": [
        "np.identity(11)"
      ],
      "metadata": {
        "id": "jNU53qopsupA",
        "colab": {
          "base_uri": "https://localhost:8080/"
        },
        "outputId": "adb49ab0-48e5-42d3-d8c8-036bf1ef4e2b"
      },
      "execution_count": 21,
      "outputs": [
        {
          "output_type": "execute_result",
          "data": {
            "text/plain": [
              "array([[1., 0., 0., 0., 0., 0., 0., 0., 0., 0., 0.],\n",
              "       [0., 1., 0., 0., 0., 0., 0., 0., 0., 0., 0.],\n",
              "       [0., 0., 1., 0., 0., 0., 0., 0., 0., 0., 0.],\n",
              "       [0., 0., 0., 1., 0., 0., 0., 0., 0., 0., 0.],\n",
              "       [0., 0., 0., 0., 1., 0., 0., 0., 0., 0., 0.],\n",
              "       [0., 0., 0., 0., 0., 1., 0., 0., 0., 0., 0.],\n",
              "       [0., 0., 0., 0., 0., 0., 1., 0., 0., 0., 0.],\n",
              "       [0., 0., 0., 0., 0., 0., 0., 1., 0., 0., 0.],\n",
              "       [0., 0., 0., 0., 0., 0., 0., 0., 1., 0., 0.],\n",
              "       [0., 0., 0., 0., 0., 0., 0., 0., 0., 1., 0.],\n",
              "       [0., 0., 0., 0., 0., 0., 0., 0., 0., 0., 1.]])"
            ]
          },
          "metadata": {},
          "execution_count": 21
        }
      ]
    },
    {
      "cell_type": "markdown",
      "source": [
        "#### Upper Triangular Matrix"
      ],
      "metadata": {
        "id": "ZYTbja6ysyZO"
      }
    },
    {
      "cell_type": "markdown",
      "source": [
        "It is a matrix in which the values under the diagonal of the matrix will be equivalent to zero, while the values declared will only appear above the diagonal. [5]"
      ],
      "metadata": {
        "id": "0wtQrGrBs02t"
      }
    },
    {
      "cell_type": "code",
      "source": [
        "np.array([\n",
        "    [4,1,5,7,1],\n",
        "    [0,-9,-5,8,1],\n",
        "    [0,0,7,-11,1],\n",
        "    [0,0,0,6,1]\n",
        "])"
      ],
      "metadata": {
        "id": "gNYrKOcas4IH",
        "colab": {
          "base_uri": "https://localhost:8080/"
        },
        "outputId": "41402360-77d8-4ced-c438-85a70efc0a3e"
      },
      "execution_count": 22,
      "outputs": [
        {
          "output_type": "execute_result",
          "data": {
            "text/plain": [
              "array([[  4,   1,   5,   7,   1],\n",
              "       [  0,  -9,  -5,   8,   1],\n",
              "       [  0,   0,   7, -11,   1],\n",
              "       [  0,   0,   0,   6,   1]])"
            ]
          },
          "metadata": {},
          "execution_count": 22
        }
      ]
    },
    {
      "cell_type": "markdown",
      "source": [
        "#### Lower Triangular Matrix"
      ],
      "metadata": {
        "id": "_1T814QDs6X-"
      }
    },
    {
      "cell_type": "markdown",
      "source": [
        "This type of matrix is the opposite of the Upper Triangular Matrix. Wherein there are no values or the elements to appear is zero above the diagonal of the matrix. The values declared are under the diagonal. [5]"
      ],
      "metadata": {
        "id": "Bzbemi-is9ap"
      }
    },
    {
      "cell_type": "code",
      "source": [
        "np.array([\n",
        "    [5,6,0,0],\n",
        "    [6,7,14,0],\n",
        "    [-1,3,9,-2]\n",
        "])"
      ],
      "metadata": {
        "id": "quBb3fdetApu",
        "colab": {
          "base_uri": "https://localhost:8080/"
        },
        "outputId": "9543599f-031e-4efc-81af-73897e674a64"
      },
      "execution_count": 23,
      "outputs": [
        {
          "output_type": "execute_result",
          "data": {
            "text/plain": [
              "array([[ 5,  6,  0,  0],\n",
              "       [ 6,  7, 14,  0],\n",
              "       [-1,  3,  9, -2]])"
            ]
          },
          "metadata": {},
          "execution_count": 23
        }
      ]
    },
    {
      "cell_type": "code",
      "source": [
        "np.array([\n",
        "    [5,0,0],\n",
        "    [6,14,0],\n",
        "    [-1,9,-2]\n",
        "])"
      ],
      "metadata": {
        "colab": {
          "base_uri": "https://localhost:8080/"
        },
        "id": "LTLcnhxjSEi1",
        "outputId": "4585131d-15cd-488a-ef30-b6b33d8779fa"
      },
      "execution_count": 24,
      "outputs": [
        {
          "output_type": "execute_result",
          "data": {
            "text/plain": [
              "array([[ 5,  0,  0],\n",
              "       [ 6, 14,  0],\n",
              "       [-1,  9, -2]])"
            ]
          },
          "metadata": {},
          "execution_count": 24
        }
      ]
    },
    {
      "cell_type": "markdown",
      "source": [
        "## Practice"
      ],
      "metadata": {
        "id": "epP2woHdtCc-"
      }
    },
    {
      "cell_type": "markdown",
      "source": [
        "1. Given the linear combination below, try to create a corresponding matrix representing it."
      ],
      "metadata": {
        "id": "Fa_wHow-vwVZ"
      }
    },
    {
      "cell_type": "markdown",
      "source": [
        ":$$\\theta = 5x + 3y - z$$"
      ],
      "metadata": {
        "id": "wxspMNkEv1PP"
      }
    },
    {
      "cell_type": "markdown",
      "source": [
        "$$\n",
        "\\theta = \\begin{bmatrix} 5 & 3 & -1 \\end{bmatrix} \\\\\n",
        "$$"
      ],
      "metadata": {
        "id": "MMiG89iQAaqT"
      }
    },
    {
      "cell_type": "markdown",
      "source": [
        "2. Given the system of linear combinations below, try to encode it as a matrix. Also describe the matrix."
      ],
      "metadata": {
        "id": "mVS0p6fnv2Yf"
      }
    },
    {
      "cell_type": "markdown",
      "source": [
        "$$\n",
        "A = \\left\\{\\begin{array}\n",
        "5x_1 + 2x_2 +x_3\\\\\n",
        "4x_2 - x_3\\\\\n",
        "10x_3\n",
        "\\end{array}\\right.\n",
        "$$"
      ],
      "metadata": {
        "id": "tM3KvU2Fv7Zv"
      }
    },
    {
      "cell_type": "markdown",
      "source": [
        "$$\n",
        "A=\\begin{bmatrix} 1 & 2 & 1 \\\\ 0 & 4 & -1 \\\\ 0 & 0 & 10\\end{bmatrix} \\\\\n",
        "$$"
      ],
      "metadata": {
        "id": "Fb-d0vFwBdQo"
      }
    },
    {
      "cell_type": "code",
      "source": [
        ""
      ],
      "metadata": {
        "id": "mGIky0I2Cy04"
      },
      "execution_count": null,
      "outputs": []
    },
    {
      "cell_type": "markdown",
      "source": [
        "3. Given the matrix below, express it as a linear combination in a markdown and a LaTeX markdown"
      ],
      "metadata": {
        "id": "MQV1Ev_Rv_zO"
      }
    },
    {
      "cell_type": "code",
      "source": [
        "G = np.array([\n",
        "    [1,7,8],\n",
        "    [2,2,2],\n",
        "    [4,6,7]\n",
        "])"
      ],
      "metadata": {
        "id": "YsVJOyAfwA0n"
      },
      "execution_count": null,
      "outputs": []
    },
    {
      "cell_type": "markdown",
      "source": [
        "$$\n",
        "G = \\left\\{\\begin{array}\n",
        "1p_1 + 7p_2 +8 p_3\\\\\n",
        "2p_1 + 2p_2 + 2p_3\\\\\n",
        "4p_1 + 6p_2 + 7p_3\n",
        "\\end{array}\\right.\n",
        "$$"
      ],
      "metadata": {
        "id": "DQvXU45xDNVn"
      }
    },
    {
      "cell_type": "markdown",
      "source": [
        "$$\n",
        "G=\\begin{bmatrix} 1 & 7 & 8 \\\\ 2 & 2 & 2 \\\\ 4 & 6 & 7\\end{bmatrix} \\\\\n",
        "$$\n",
        "\n",
        "\n"
      ],
      "metadata": {
        "id": "GBa3POWCCUM2"
      }
    },
    {
      "cell_type": "markdown",
      "source": [
        "4. Given the matrix below, display the output as a LaTeX markdown also express it as a system of linear combinations."
      ],
      "metadata": {
        "id": "m1aDPCCcwHsP"
      }
    },
    {
      "cell_type": "markdown",
      "source": [
        "$$\n",
        "G = \\left\\{\\begin{array}\n",
        "1p_1 \\\\\n",
        "2p_1 + 2p_2 \\\\\n",
        "4p_1 + 6p_2 + 7p_3\n",
        "\\end{array}\\right.\n",
        "$$"
      ],
      "metadata": {
        "id": "z4kJ72uqLCjr"
      }
    },
    {
      "cell_type": "markdown",
      "source": [
        "$$\n",
        "G=\\begin{bmatrix} 1 & 0 & 0\\\\ 2 & 2 & 0 \\\\ 4 & 6 & 7\\end{bmatrix} \\\\\n",
        "$$\n"
      ],
      "metadata": {
        "id": "-DlyRxoy1-1x"
      }
    },
    {
      "cell_type": "code",
      "source": [
        "H = np.tril(G)\n",
        "H"
      ],
      "metadata": {
        "id": "ltlBhsDAwKh_",
        "colab": {
          "base_uri": "https://localhost:8080/"
        },
        "outputId": "fd5bf70c-c1a7-4ce0-8e34-f359c4014b29"
      },
      "execution_count": null,
      "outputs": [
        {
          "output_type": "execute_result",
          "data": {
            "text/plain": [
              "array([[1, 0, 0],\n",
              "       [2, 2, 0],\n",
              "       [4, 6, 7]])"
            ]
          },
          "metadata": {},
          "execution_count": 51
        }
      ]
    },
    {
      "cell_type": "code",
      "source": [
        "I = np.triu(G)\n",
        "I"
      ],
      "metadata": {
        "colab": {
          "base_uri": "https://localhost:8080/"
        },
        "id": "t6kviE1_D2T_",
        "outputId": "0269b29e-540f-45bc-8575-b4cb8bc82e20"
      },
      "execution_count": null,
      "outputs": [
        {
          "output_type": "execute_result",
          "data": {
            "text/plain": [
              "array([[1, 7, 8],\n",
              "       [0, 2, 2],\n",
              "       [0, 0, 7]])"
            ]
          },
          "metadata": {},
          "execution_count": 52
        }
      ]
    },
    {
      "cell_type": "markdown",
      "source": [
        "# Matrix Algebra"
      ],
      "metadata": {
        "id": "1vLsgH4SwMcG"
      }
    },
    {
      "cell_type": "markdown",
      "source": [
        "In Matrix Algebra, the established matrices can be evaluated through different operations such as Addition, Subtraction, and Element-wise Multiplication."
      ],
      "metadata": {
        "id": "76tZVolTTHH1"
      }
    },
    {
      "cell_type": "markdown",
      "source": [
        "### Addition"
      ],
      "metadata": {
        "id": "DEYls4u5wO_e"
      }
    },
    {
      "cell_type": "code",
      "source": [
        "A = np.array([\n",
        "    [3,4],\n",
        "    [5,7],\n",
        "    [3,2]\n",
        "])\n",
        "B = np.array([\n",
        "    [21,-2],\n",
        "    [3,0],\n",
        "    [1,11],\n",
        "])\n",
        "A+B"
      ],
      "metadata": {
        "id": "ONh9XaQvwwT6",
        "colab": {
          "base_uri": "https://localhost:8080/"
        },
        "outputId": "7c541f39-8194-46b3-d22f-1999864de417"
      },
      "execution_count": null,
      "outputs": [
        {
          "output_type": "execute_result",
          "data": {
            "text/plain": [
              "array([[24,  2],\n",
              "       [ 8,  7],\n",
              "       [ 4, 13]])"
            ]
          },
          "metadata": {},
          "execution_count": 13
        }
      ]
    },
    {
      "cell_type": "code",
      "source": [
        "5+A ##Broadcasting\n",
        "# 2*np.ones(A.shape)+A"
      ],
      "metadata": {
        "id": "yTAqPrvhwxDh",
        "colab": {
          "base_uri": "https://localhost:8080/"
        },
        "outputId": "d2b3a7c0-27a2-40ea-feff-df51ecd28e6b"
      },
      "execution_count": null,
      "outputs": [
        {
          "output_type": "execute_result",
          "data": {
            "text/plain": [
              "array([[ 8,  9],\n",
              "       [10, 12],\n",
              "       [ 8,  7]])"
            ]
          },
          "metadata": {},
          "execution_count": 56
        }
      ]
    },
    {
      "cell_type": "markdown",
      "source": [
        "### Subtraction"
      ],
      "metadata": {
        "id": "6Rz2qhPbwzGm"
      }
    },
    {
      "cell_type": "code",
      "source": [
        "A-B"
      ],
      "metadata": {
        "id": "65Pom9ZVw4xX",
        "colab": {
          "base_uri": "https://localhost:8080/"
        },
        "outputId": "6ba59a0b-d7d6-4b56-adaa-4b11de7b07f6"
      },
      "execution_count": null,
      "outputs": [
        {
          "output_type": "execute_result",
          "data": {
            "text/plain": [
              "array([[-18,   6],\n",
              "       [  2,   7],\n",
              "       [  2,  -9]])"
            ]
          },
          "metadata": {},
          "execution_count": 57
        }
      ]
    },
    {
      "cell_type": "code",
      "source": [
        "2-B"
      ],
      "metadata": {
        "id": "9hnrqQLBw5h3",
        "colab": {
          "base_uri": "https://localhost:8080/"
        },
        "outputId": "91e51380-47b1-483d-80f8-26447a84e890"
      },
      "execution_count": null,
      "outputs": [
        {
          "output_type": "execute_result",
          "data": {
            "text/plain": [
              "array([[-19,   4],\n",
              "       [ -1,   2],\n",
              "       [  1,  -9]])"
            ]
          },
          "metadata": {},
          "execution_count": 59
        }
      ]
    },
    {
      "cell_type": "code",
      "source": [
        "4-B ==3*np.ones(B.shape)-B"
      ],
      "metadata": {
        "colab": {
          "base_uri": "https://localhost:8080/"
        },
        "id": "vC0560pUEsfC",
        "outputId": "4d82987f-ae7d-4194-a6f9-b29c9f4c84b6"
      },
      "execution_count": null,
      "outputs": [
        {
          "output_type": "execute_result",
          "data": {
            "text/plain": [
              "array([[False, False],\n",
              "       [False, False],\n",
              "       [False, False]])"
            ]
          },
          "metadata": {},
          "execution_count": 61
        }
      ]
    },
    {
      "cell_type": "markdown",
      "source": [
        "### Element-wise Multiplication"
      ],
      "metadata": {
        "id": "LBTQsYibw7ZR"
      }
    },
    {
      "cell_type": "code",
      "source": [
        "A*B\n",
        "np.multiply(A,B)"
      ],
      "metadata": {
        "id": "K_cecJSOw_rw",
        "colab": {
          "base_uri": "https://localhost:8080/"
        },
        "outputId": "a9dc4c48-4e03-499d-86ec-a8e6f093a4dc"
      },
      "execution_count": null,
      "outputs": [
        {
          "output_type": "execute_result",
          "data": {
            "text/plain": [
              "array([[63, -8],\n",
              "       [15,  0],\n",
              "       [ 3, 22]])"
            ]
          },
          "metadata": {},
          "execution_count": 63
        }
      ]
    },
    {
      "cell_type": "code",
      "source": [
        "6*A"
      ],
      "metadata": {
        "id": "31kxxQEPxBPA",
        "colab": {
          "base_uri": "https://localhost:8080/"
        },
        "outputId": "8eebf3d7-1970-4ba8-cef6-792b544ef5fd"
      },
      "execution_count": null,
      "outputs": [
        {
          "output_type": "execute_result",
          "data": {
            "text/plain": [
              "array([[18, 24],\n",
              "       [30, 42],\n",
              "       [18, 12]])"
            ]
          },
          "metadata": {},
          "execution_count": 62
        }
      ]
    },
    {
      "cell_type": "code",
      "source": [
        "A@B"
      ],
      "metadata": {
        "id": "_uJ5kUyTFiC6"
      },
      "execution_count": null,
      "outputs": []
    },
    {
      "cell_type": "code",
      "source": [
        "alpha=9**-9\n",
        "A/(alpha+B)"
      ],
      "metadata": {
        "id": "fE-yPt8DxGuX",
        "colab": {
          "base_uri": "https://localhost:8080/"
        },
        "outputId": "969062b9-4cf2-47d9-9c30-69d5e6c0406d"
      },
      "execution_count": null,
      "outputs": [
        {
          "output_type": "execute_result",
          "data": {
            "text/plain": [
              "array([[ 1.42857143e-01, -2.00000000e+00],\n",
              "       [ 1.66666667e+00,  2.71194342e+09],\n",
              "       [ 2.99999999e+00,  1.81818182e-01]])"
            ]
          },
          "metadata": {},
          "execution_count": 65
        }
      ]
    },
    {
      "cell_type": "code",
      "source": [
        "np.add(A,B)"
      ],
      "metadata": {
        "id": "EhGrBK9RxJOX",
        "colab": {
          "base_uri": "https://localhost:8080/"
        },
        "outputId": "57836a28-16a3-4abc-e470-024e48734ab4"
      },
      "execution_count": null,
      "outputs": [
        {
          "output_type": "execute_result",
          "data": {
            "text/plain": [
              "array([[24,  2],\n",
              "       [ 8,  7],\n",
              "       [ 4, 13]])"
            ]
          },
          "metadata": {},
          "execution_count": 66
        }
      ]
    },
    {
      "cell_type": "markdown",
      "source": [
        "## Activity"
      ],
      "metadata": {
        "id": "u-mqO0VtxLAn"
      }
    },
    {
      "cell_type": "markdown",
      "source": [
        "### Task 1"
      ],
      "metadata": {
        "id": "82gOBfHpxN8H"
      }
    },
    {
      "cell_type": "markdown",
      "source": [
        "Create a function named `mat_desc()` that througouhly describes a matrix, it should: <br>\n",
        "1. Displays the shape, size, and rank of the matrix. <br>\n",
        "2. Displays whether the matrix is square or non-square. <br>\n",
        "3. Displays whether the matrix is an empty matrix. <br>\n",
        "4. Displays if the matrix is an identity, ones, or zeros matrix <br>\n",
        "   \n",
        "Use 3 sample matrices in which their shapes are not lower than $(3,3)$.\n",
        "In your methodology, create a flowchart discuss the functions and methods you have done. Present your results in the results section showing the description of each matrix you have declared."
      ],
      "metadata": {
        "id": "-DNP3V5-xQrS"
      }
    },
    {
      "cell_type": "code",
      "source": [
        "#(Create a function named mat_desc() that througouhly describes a matrix, it should:\n",
        "#Displays the shape, size, and rank of the matrix.\n",
        "#Displays whether the matrix is square or non-square.\n",
        "#Displays whether the matrix is an empty matrix.)\n",
        "#Displays if the matrix is an identity, ones, or zeros matrix\n",
        "\n",
        "def mat_desc(matrix):\n",
        "    matrix = np.array(matrix)\n",
        "    square = False\n",
        "    print(matrix)\n",
        "    print(\"-----------------------------------------------------\")\n",
        "    print(\"According to Shape,Size & Rank:\")\n",
        "    print(f'Shape:\\t{matrix.shape}\\nSize:\\t{matrix.size}\\nRank:\\t{matrix.ndim}\\n')\n",
        "    print(\"-----------------------------------------------------\")\n",
        "    print(\"Matrix Classifications:\")\n",
        "    print(\"This sample matrix is a ____\")\n",
        "    if(matrix.shape[0] == matrix.shape[1]):\n",
        "        square = True\n",
        "        print('- Square Matrix')\n",
        "    else:\n",
        "        print('- Non-Square Matrix')\n",
        "    if(matrix.shape[0] == 0 and matrix.shape[1] == 0):\n",
        "        print('- Null/Empty Matrix')\n",
        "    else:\n",
        "        print('- Not an Empty Matrix')\n",
        "    identity = np.identity(matrix.shape[0])\n",
        "    if(square and (identity == matrix).all()):\n",
        "        print('- Identity Matrix')\n",
        "    else:\n",
        "        print('- Not an Identity Matrix')\n",
        "    one = np.ones((matrix.shape[0], matrix.shape[1]))\n",
        "    if((one == matrix).all()):\n",
        "        print('- Ones Matrix')\n",
        "    else:\n",
        "        print('- Not a Ones Matrix')\n",
        "    zero = np.zeros((matrix.shape[0], matrix.shape[1]))\n",
        "    if((zero == matrix).all()):\n",
        "        print('- Zero Matrix')\n",
        "    else:\n",
        "        print('- Non-Zero Matrix')"
      ],
      "metadata": {
        "id": "4lgGRkZEY7dR"
      },
      "execution_count": 37,
      "outputs": []
    },
    {
      "cell_type": "code",
      "source": [
        "#(Create a function named mat_desc() that througouhly describes a matrix, it should:\n",
        "#Displays the shape, size, and rank of the matrix.\n",
        "#Displays whether the matrix is square or non-square.\n",
        "#Displays whether the matrix is an empty matrix.)\n",
        "#Displays if the matrix is an identity, ones, or zeros matrix\n",
        "\n",
        "def mat_desc(matrix):\n",
        "    matrix = np.array(matrix)\n",
        "    square = False\n",
        "    print(matrix)\n",
        "    print(\"-----------------------------------------------------\")\n",
        "    print(\"According to Shape,Size & Rank:\")\n",
        "    print(f'Shape:\\t{matrix.shape}\\nSize:\\t{matrix.size}\\nRank:\\t{matrix.ndim}\\n')\n",
        "    print(\"-----------------------------------------------------\")\n",
        "    print(\"Matrix Classifications:\")\n",
        "    print(\"This sample matrix is a ____\")\n",
        "    if(matrix.shape[0] == matrix.shape[1]):\n",
        "        square = True\n",
        "        print(\"- Square Matrix\")\n",
        "    else:\n",
        "        print(\"- Non-Square Matrix\")\n",
        "    if matrix.size == 0:\n",
        "        print(\"- Null/Empty Matrix\")\n",
        "    else:\n",
        "        print(\"- Not an Empty Matrix\")\n",
        "    identity = np.identity(matrix.shape[0])\n",
        "    if(square and (identity == matrix).all()):\n",
        "        print(\"- Identity Matrix\")\n",
        "    else:\n",
        "        print(\"- Not an Identity Matrix\")\n",
        "    one = np.ones((matrix.shape[0], matrix.shape[1]))\n",
        "    if((one == matrix).all()):\n",
        "        print(\"- Ones Matrix\")\n",
        "    else:\n",
        "        print(\"- Not a Ones Matrix\")\n",
        "    zero = np.zeros((matrix.shape[0], matrix.shape[1]))\n",
        "    if((zero == matrix).all()):\n",
        "        print(\"- Zero Matrix\")\n",
        "    else:\n",
        "        print(\"- Non-Zero Matrix\")"
      ],
      "metadata": {
        "id": "iYnV7_SHY9KX"
      },
      "execution_count": 38,
      "outputs": []
    },
    {
      "cell_type": "code",
      "source": [
        "print(\"#Sample Matrix 1\")\n",
        "M = np.array([\n",
        "    [4,18,12,16],\n",
        "    [7,14,21,28],\n",
        "    [8,16,24,32],\n",
        "    [9,18,27,36]\n",
        "])\n",
        "mat_desc(M)"
      ],
      "metadata": {
        "colab": {
          "base_uri": "https://localhost:8080/"
        },
        "id": "5mUoyGbPZPH6",
        "outputId": "6d087ebf-666d-4248-d2f1-634e23fa41cc"
      },
      "execution_count": 39,
      "outputs": [
        {
          "output_type": "stream",
          "name": "stdout",
          "text": [
            "#Sample Matrix 1\n",
            "[[ 4 18 12 16]\n",
            " [ 7 14 21 28]\n",
            " [ 8 16 24 32]\n",
            " [ 9 18 27 36]]\n",
            "-----------------------------------------------------\n",
            "According to Shape,Size & Rank:\n",
            "Shape:\t(4, 4)\n",
            "Size:\t16\n",
            "Rank:\t2\n",
            "\n",
            "-----------------------------------------------------\n",
            "Matrix Classifications:\n",
            "This sample matrix is a ____\n",
            "- Square Matrix\n",
            "- Not an Empty Matrix\n",
            "- Not an Identity Matrix\n",
            "- Not a Ones Matrix\n",
            "- Non-Zero Matrix\n"
          ]
        }
      ]
    },
    {
      "cell_type": "code",
      "source": [
        "print(\"#Sample Matrix 2\")\n",
        "P = np.array([\n",
        "    [0,0,0,0],\n",
        "    [0,0,0,0],\n",
        "    [0,0,0,0],   \n",
        "])\n",
        "mat_desc(P)"
      ],
      "metadata": {
        "colab": {
          "base_uri": "https://localhost:8080/"
        },
        "id": "AreJcDJMZFG6",
        "outputId": "832847dd-0799-40cc-b531-0d6ebadbdd74"
      },
      "execution_count": 40,
      "outputs": [
        {
          "output_type": "stream",
          "name": "stdout",
          "text": [
            "#Sample Matrix 2\n",
            "[[0 0 0 0]\n",
            " [0 0 0 0]\n",
            " [0 0 0 0]]\n",
            "-----------------------------------------------------\n",
            "According to Shape,Size & Rank:\n",
            "Shape:\t(3, 4)\n",
            "Size:\t12\n",
            "Rank:\t2\n",
            "\n",
            "-----------------------------------------------------\n",
            "Matrix Classifications:\n",
            "This sample matrix is a ____\n",
            "- Non-Square Matrix\n",
            "- Not an Empty Matrix\n",
            "- Not an Identity Matrix\n",
            "- Not a Ones Matrix\n",
            "- Zero Matrix\n"
          ]
        }
      ]
    },
    {
      "cell_type": "code",
      "source": [
        "print(\"#Sample Matrix 3\")\n",
        "G = np.zeros((4,4))\n",
        "mat_desc(G)"
      ],
      "metadata": {
        "colab": {
          "base_uri": "https://localhost:8080/"
        },
        "id": "r4RahPLCZMEx",
        "outputId": "29060ea2-2960-4d3b-b959-da9fc167d813"
      },
      "execution_count": 41,
      "outputs": [
        {
          "output_type": "stream",
          "name": "stdout",
          "text": [
            "#Sample Matrix 3\n",
            "[[0. 0. 0. 0.]\n",
            " [0. 0. 0. 0.]\n",
            " [0. 0. 0. 0.]\n",
            " [0. 0. 0. 0.]]\n",
            "-----------------------------------------------------\n",
            "According to Shape,Size & Rank:\n",
            "Shape:\t(4, 4)\n",
            "Size:\t16\n",
            "Rank:\t2\n",
            "\n",
            "-----------------------------------------------------\n",
            "Matrix Classifications:\n",
            "This sample matrix is a ____\n",
            "- Square Matrix\n",
            "- Not an Empty Matrix\n",
            "- Not an Identity Matrix\n",
            "- Not a Ones Matrix\n",
            "- Zero Matrix\n"
          ]
        }
      ]
    },
    {
      "cell_type": "code",
      "source": [
        "print(\"#Sample Matrix 4\")\n",
        "J = np.eye(4)\n",
        "\n",
        "mat_desc(J)"
      ],
      "metadata": {
        "colab": {
          "base_uri": "https://localhost:8080/"
        },
        "id": "B00z7nBbZg2R",
        "outputId": "c03170dc-a5fa-4c0b-cca6-7014bb530812"
      },
      "execution_count": 42,
      "outputs": [
        {
          "output_type": "stream",
          "name": "stdout",
          "text": [
            "#Sample Matrix 4\n",
            "[[1. 0. 0. 0.]\n",
            " [0. 1. 0. 0.]\n",
            " [0. 0. 1. 0.]\n",
            " [0. 0. 0. 1.]]\n",
            "-----------------------------------------------------\n",
            "According to Shape,Size & Rank:\n",
            "Shape:\t(4, 4)\n",
            "Size:\t16\n",
            "Rank:\t2\n",
            "\n",
            "-----------------------------------------------------\n",
            "Matrix Classifications:\n",
            "This sample matrix is a ____\n",
            "- Square Matrix\n",
            "- Not an Empty Matrix\n",
            "- Identity Matrix\n",
            "- Not a Ones Matrix\n",
            "- Non-Zero Matrix\n"
          ]
        }
      ]
    },
    {
      "cell_type": "code",
      "source": [
        "print(\"#Sample Matrix 4\")\n",
        "A = np.array([\n",
        "    [1,1,1,1],\n",
        "    [1,1,1,1],\n",
        "    [1,1,1,1],\n",
        "    [1,1,1,1]\n",
        "])\n",
        "mat_desc(A)"
      ],
      "metadata": {
        "colab": {
          "base_uri": "https://localhost:8080/"
        },
        "id": "Hr97vcdUZk9M",
        "outputId": "249ae29f-d80f-471b-b94d-0f8efecda22c"
      },
      "execution_count": 43,
      "outputs": [
        {
          "output_type": "stream",
          "name": "stdout",
          "text": [
            "#Sample Matrix 4\n",
            "[[1 1 1 1]\n",
            " [1 1 1 1]\n",
            " [1 1 1 1]\n",
            " [1 1 1 1]]\n",
            "-----------------------------------------------------\n",
            "According to Shape,Size & Rank:\n",
            "Shape:\t(4, 4)\n",
            "Size:\t16\n",
            "Rank:\t2\n",
            "\n",
            "-----------------------------------------------------\n",
            "Matrix Classifications:\n",
            "This sample matrix is a ____\n",
            "- Square Matrix\n",
            "- Not an Empty Matrix\n",
            "- Not an Identity Matrix\n",
            "- Ones Matrix\n",
            "- Non-Zero Matrix\n"
          ]
        }
      ]
    },
    {
      "cell_type": "code",
      "source": [
        "print(\"#Sample Matrix 5\")\n",
        "Z = np.array([\n",
        "    [1,1,1,1],\n",
        "    [1,22,11,23],\n",
        "    [4,8,12,16],\n",
        "    [3,3,6,8],\n",
        "    [21,4,9,8],\n",
        "\n",
        "])\n",
        "mat_desc(Z)"
      ],
      "metadata": {
        "colab": {
          "base_uri": "https://localhost:8080/"
        },
        "id": "45VAxVmRZosR",
        "outputId": "94ddc4fc-8d8f-43c9-d1b4-717053ea5e1b"
      },
      "execution_count": 44,
      "outputs": [
        {
          "output_type": "stream",
          "name": "stdout",
          "text": [
            "#Sample Matrix 5\n",
            "[[ 1  1  1  1]\n",
            " [ 1 22 11 23]\n",
            " [ 4  8 12 16]\n",
            " [ 3  3  6  8]\n",
            " [21  4  9  8]]\n",
            "-----------------------------------------------------\n",
            "According to Shape,Size & Rank:\n",
            "Shape:\t(5, 4)\n",
            "Size:\t20\n",
            "Rank:\t2\n",
            "\n",
            "-----------------------------------------------------\n",
            "Matrix Classifications:\n",
            "This sample matrix is a ____\n",
            "- Non-Square Matrix\n",
            "- Not an Empty Matrix\n",
            "- Not an Identity Matrix\n",
            "- Not a Ones Matrix\n",
            "- Non-Zero Matrix\n"
          ]
        }
      ]
    },
    {
      "cell_type": "markdown",
      "source": [
        "### Task 2"
      ],
      "metadata": {
        "id": "t3Psd6M_xcK_"
      }
    },
    {
      "cell_type": "markdown",
      "source": [
        "Create a function named `mat_operations()` that takes in two matrices a input parameters it should:<br>\n",
        " 1. Determines if the matrices are viable for operation and returns your own error message if they are not viable.\n",
        " 2. Returns the sum of the matrices.\n",
        " 3. Returns the differen of the matrices.\n",
        " 4. Returns the element-wise multiplication of the matrices.\n",
        " 5. Returns the element-wise division of the matrices.\n",
        "\n",
        "Use 3 sample matrices in which their shapes are not lower than $(3,3)$.\n",
        "In your methodology, create a flowchart discuss the functions and methods you have done. Present your results in the results section showing the description of each matrix you have declared."
      ],
      "metadata": {
        "id": "RKe2M_58xcvZ"
      }
    },
    {
      "cell_type": "code",
      "source": [
        "##Create a function named mat_operations() that takes in two matrices a input parameters it should:\n",
        "#Determines if the matrices are viable for operation and returns your own error message \n",
        "#if they are not viable.\n",
        "#Returns the sum of the matrices.\n",
        "#Returns the difference of the matrices.\n",
        "#Returns the element-wise multiplication of the matrices.\n",
        "#Returns the element-wise division of the matrices.\n",
        "\n",
        "def mat_operations(matrix_A, matrix_B):\n",
        "    matrix_A = np.array(matrix_A)\n",
        "    matrix_B = np.array(matrix_B)\n",
        "    print('Matrix A:', matrix_A)\n",
        "    print('Matrix B:', matrix_B)\n",
        "    if(matrix_A.shape != matrix_B.shape):\n",
        "        print('Matrix Error: The operation is not viable.')\n",
        "        return\n",
        "    print('By Addition: Sum of Matrices:')\n",
        "    matrix_sum = matrix_A + matrix_B\n",
        "    print(matrix_sum)\n",
        "    print('By Subtration: Difference of Matrices:')\n",
        "    matrix_diff = matrix_A - matrix_B\n",
        "    print(matrix_diff)\n",
        "    print('By Element-wise Multiplication of Matrices:')\n",
        "    matrix_multiply = np.multiply(matrix_A, matrix_B)\n",
        "    print(matrix_multiply)\n",
        "    print('By Element-wise Division of Matrices:')\n",
        "    matrix_divide = np.divide(matrix_A, matrix_B)\n",
        "    print(matrix_divide)"
      ],
      "metadata": {
        "id": "wrQop3EYZ9KR"
      },
      "execution_count": 45,
      "outputs": []
    },
    {
      "cell_type": "code",
      "source": [
        "print(\"#Sample Matrix 1\")\n",
        "matrix_A = np.array([\n",
        "    [10,2,3],\n",
        "    [3,4,3], \n",
        "                        \n",
        "]) \n",
        "matrix_B= np.array([\n",
        "    [1,2,1],\n",
        "    [8,3,7]           \n",
        "\n",
        "])\n",
        "mat_operations(matrix_A, matrix_B)"
      ],
      "metadata": {
        "colab": {
          "base_uri": "https://localhost:8080/"
        },
        "id": "i5OZvSHfb7K4",
        "outputId": "399c053d-2d8c-4811-acd4-c74addd0357c"
      },
      "execution_count": 46,
      "outputs": [
        {
          "output_type": "stream",
          "name": "stdout",
          "text": [
            "#Sample Matrix 1\n",
            "Matrix A: [[10  2  3]\n",
            " [ 3  4  3]]\n",
            "Matrix B: [[1 2 1]\n",
            " [8 3 7]]\n",
            "By Addition: Sum of Matrices:\n",
            "[[11  4  4]\n",
            " [11  7 10]]\n",
            "By Subtration: Difference of Matrices:\n",
            "[[ 9  0  2]\n",
            " [-5  1 -4]]\n",
            "By Element-wise Multiplication of Matrices:\n",
            "[[10  4  3]\n",
            " [24 12 21]]\n",
            "By Element-wise Division of Matrices:\n",
            "[[10.          1.          3.        ]\n",
            " [ 0.375       1.33333333  0.42857143]]\n"
          ]
        }
      ]
    },
    {
      "cell_type": "code",
      "source": [
        "print(\"#Sample Matrix 2\")\n",
        "matrix_A = np.array([\n",
        "    [4,2,3,7],\n",
        "    [3,4,3,1], \n",
        "    [11,4,9,2]\n",
        "                        \n",
        "]) \n",
        "matrix_B= np.array([\n",
        "    [1,2,1],\n",
        "    [8,3,7]           \n",
        "\n",
        "])\n",
        "mat_operations(matrix_A, matrix_B)"
      ],
      "metadata": {
        "colab": {
          "base_uri": "https://localhost:8080/"
        },
        "id": "sUOuYXklb-BR",
        "outputId": "c64d401e-c4f8-4ba4-91cd-a5ef3ef6b424"
      },
      "execution_count": 47,
      "outputs": [
        {
          "output_type": "stream",
          "name": "stdout",
          "text": [
            "#Sample Matrix 2\n",
            "Matrix A: [[ 4  2  3  7]\n",
            " [ 3  4  3  1]\n",
            " [11  4  9  2]]\n",
            "Matrix B: [[1 2 1]\n",
            " [8 3 7]]\n",
            "Matrix Error: The operation is not viable.\n"
          ]
        }
      ]
    },
    {
      "cell_type": "code",
      "source": [
        "print(\"#Sample Matrix 3\")\n",
        "mat_operations([[4, 2, 3], [4,1,9], [7,3,5]], [[6,2,1],[4,4,6]])\n",
        "print(\"-----------------------------------------------------\")\n",
        "print(\"#Sample Matrix 4\")\n",
        "mat_operations([[3,2,1,9,1.5], [1.01,2,3,1.2,1], [8,1,8,9,2]], [[5,4,1,3,8],[8,3,4,4.1,2],[2,1,2,3,3]])\n",
        "print(\"-----------------------------------------------------\")\n",
        "print(\"#Sample Matrix 5\")\n",
        "mat_operations([[1, 2, 4,2], [8,16,23,1], [4,3,1,7]], [[2,2,2,2]])"
      ],
      "metadata": {
        "colab": {
          "base_uri": "https://localhost:8080/"
        },
        "id": "v8tYLZLHcAnM",
        "outputId": "d7fab4a4-6622-47be-aa63-f66162f0bcd4"
      },
      "execution_count": 48,
      "outputs": [
        {
          "output_type": "stream",
          "name": "stdout",
          "text": [
            "#Sample Matrix 3\n",
            "Matrix A: [[4 2 3]\n",
            " [4 1 9]\n",
            " [7 3 5]]\n",
            "Matrix B: [[6 2 1]\n",
            " [4 4 6]]\n",
            "Matrix Error: The operation is not viable.\n",
            "-----------------------------------------------------\n",
            "#Sample Matrix 4\n",
            "Matrix A: [[3.   2.   1.   9.   1.5 ]\n",
            " [1.01 2.   3.   1.2  1.  ]\n",
            " [8.   1.   8.   9.   2.  ]]\n",
            "Matrix B: [[5.  4.  1.  3.  8. ]\n",
            " [8.  3.  4.  4.1 2. ]\n",
            " [2.  1.  2.  3.  3. ]]\n",
            "By Addition: Sum of Matrices:\n",
            "[[ 8.    6.    2.   12.    9.5 ]\n",
            " [ 9.01  5.    7.    5.3   3.  ]\n",
            " [10.    2.   10.   12.    5.  ]]\n",
            "By Subtration: Difference of Matrices:\n",
            "[[-2.   -2.    0.    6.   -6.5 ]\n",
            " [-6.99 -1.   -1.   -2.9  -1.  ]\n",
            " [ 6.    0.    6.    6.   -1.  ]]\n",
            "By Element-wise Multiplication of Matrices:\n",
            "[[15.    8.    1.   27.   12.  ]\n",
            " [ 8.08  6.   12.    4.92  2.  ]\n",
            " [16.    1.   16.   27.    6.  ]]\n",
            "By Element-wise Division of Matrices:\n",
            "[[0.6        0.5        1.         3.         0.1875    ]\n",
            " [0.12625    0.66666667 0.75       0.29268293 0.5       ]\n",
            " [4.         1.         4.         3.         0.66666667]]\n",
            "-----------------------------------------------------\n",
            "#Sample Matrix 5\n",
            "Matrix A: [[ 1  2  4  2]\n",
            " [ 8 16 23  1]\n",
            " [ 4  3  1  7]]\n",
            "Matrix B: [[2 2 2 2]]\n",
            "Matrix Error: The operation is not viable.\n"
          ]
        }
      ]
    },
    {
      "cell_type": "markdown",
      "source": [
        "## Conclusion"
      ],
      "metadata": {
        "id": "X6xVGQpoxkJw"
      }
    },
    {
      "cell_type": "markdown",
      "source": [
        "For your conclusion synthesize the concept and application of the laboratory. Briefly discuss what you have learned and achieved in this activity. Also answer the question: \"How can matrix operations solve problems in technology?\"."
      ],
      "metadata": {
        "id": "lo3jTtTXxk6o"
      }
    },
    {
      "cell_type": "markdown",
      "source": [
        "This laboratory report has enhanced the students' knowledge about matrices and programming using the Google Colab again. The students were able to apply the matrices in Python in line with the linear system of equations and perform different operations and techniques. Translating matrices was also done, and their classification was further understood through different codes. As the students executed the commands, they were able to determine the importance of the import command and other variables that needed to be called out in order for the codes to run. Moreover, different types of matrices were introduced and categorized according to their shape and element values. \n",
        "\n",
        "In recap, according to shape are Row and Column Matrices and Square Matrices, while according to element values are Null Matrix, Zero Matrix, Ones, Matrix, Diagonal Matrix, Identity Matrix, Upper Triangular, and Lower Triangular. Matrix Algebra was also taught and applied wherein there are three operations used: Addition, Subtraction, and Element-wise Multiplication. Through the use of different codes in representing matrices, there were also other codes taught to show matrices in a shorter or easier way. In addition, the students were able to evaluate their understanding through performing the practice provided and the tasks by the instructor.    \n",
        "\n",
        "With regards to the real-life application of matrices, it is undeniable that there are a myriad of things that we have right now that apply concepts and principles of matrices. Matrices have many significant applications that have a great impact on the modern world.  The impact of matrices and their applications in the mathematical world is widespread because they serve as a foundation for many theories and practices. Computer systems, image processing, battery outputs and the study of electric circuits and quantum mechanics are some of the important applications of matrices that undeniably influence the field of science, mathematics and technology. Various problems relating to science and technology could be solved through the application of matrices because matrices could be utilized to provide rapid approximations to more complex calculations. Matrices also play a vital role in scientific methods and research as they are utilized in plotting graphs, data analysis and statistics. Through those applications, matrices could greatly influence solving problems and contributing to advancements of various different fields especially in the field of technology.\n"
      ],
      "metadata": {
        "id": "hK1cNkHLcTCm"
      }
    }
  ]
}