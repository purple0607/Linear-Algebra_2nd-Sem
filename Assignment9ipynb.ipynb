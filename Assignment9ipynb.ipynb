{
  "nbformat": 4,
  "nbformat_minor": 0,
  "metadata": {
    "colab": {
      "name": "Assignment9ipynb",
      "provenance": [],
      "collapsed_sections": [],
      "authorship_tag": "ABX9TyOokVPZfUvTU7PxpA4XBSwM",
      "include_colab_link": true
    },
    "kernelspec": {
      "name": "python3",
      "display_name": "Python 3"
    },
    "language_info": {
      "name": "python"
    }
  },
  "cells": [
    {
      "cell_type": "markdown",
      "metadata": {
        "id": "view-in-github",
        "colab_type": "text"
      },
      "source": [
        "<a href=\"https://colab.research.google.com/github/purple0607/Linear-Algebra_2nd-Sem/blob/main/Assignment9ipynb.ipynb\" target=\"_parent\"><img src=\"https://colab.research.google.com/assets/colab-badge.svg\" alt=\"Open In Colab\"/></a>"
      ]
    },
    {
      "cell_type": "markdown",
      "source": [
        "  # Linear Algebra for ChE\n",
        "## Laboratory 4 : Plotting Vector using NumPy and MatPlotLib\n"
      ],
      "metadata": {
        "id": "Isf8ijo5nJcX"
      }
    },
    {
      "cell_type": "markdown",
      "source": [
        "### Objectives\n",
        " In the previous laboratory activity, the students have expanded their knowledge and skills about fundamental matrix operations. Applying those matrix operations in Python programming has further improved their understanding of the different operations and their importance in Linear Algebra. However, in this laboratory activity, it focuses on using Python programming to represent and visualize vectors. Using Python to represent vectors is somehow similar to representing matrices. Additionally, this laboratory activity will also focus on learning the python libraries for numerical and scientific programming as well as the different vector operations. "
      ],
      "metadata": {
        "id": "obtoOAvqpB8j"
      }
    },
    {
      "cell_type": "markdown",
      "source": [
        "## Discussion"
      ],
      "metadata": {
        "id": "F1XZ3Cd_pLvc"
      }
    },
    {
      "cell_type": "markdown",
      "source": [
        "### NumPy\n",
        "NumPy, also known as Numerical Python, refers to a library containing multidimensional array objects and various functions for manipulating them. NumPy allows you to conduct mathematical and logical operations on arrays. [1] Jim Hugunin developed Numeric, the precursor of NumPy. Numarray, a package with some extra features, was also created. Travis Oliphant introduced the NumPy package in 2005 by combining the functionality of Numarray with Numeric. This open-source project has a large number of contributors. [2]\n"
      ],
      "metadata": {
        "id": "HqZoDnEFpNpL"
      }
    },
    {
      "cell_type": "markdown",
      "source": [
        "$Scalars$\n",
        "\n",
        "are those that have only a single value concerned with them. These can be fully stated in a single number. Scalars comprise magnitude only, and the same algebraic rules apply when working with them. In addition, it is possible to perform operations in scalars such as addition and subtraction in the same manner as the numbers can be. [3]\n",
        "\n",
        "$Vectors$\n",
        "\n",
        "are those that have a direction attached to them. These have magnitude and direction and follow the triangle law of vector addition in addition and subtraction. Using the standard algebraic rules results in vectors that cannot perform addition. The magnitude and direction of two vectors must be considered when adding them. [3]\n",
        "\n"
      ],
      "metadata": {
        "id": "U3bm4-CzOFDk"
      }
    },
    {
      "cell_type": "markdown",
      "source": [
        "#### Representing Vectors\n",
        "Vectors can be presented with the use of importing the library NumPy as \"import numpy as np\" first before declaring the values of the vectors. The code used here is the \"np.array\" function. "
      ],
      "metadata": {
        "id": "ES0C7UjMqxMb"
      }
    },
    {
      "cell_type": "markdown",
      "source": [
        "Now that you know how to represent vectors using their component and matrix form we can now hard-code them in Python. Let's say that you have the vectors:"
      ],
      "metadata": {
        "id": "xre1s-HEq8ES"
      }
    },
    {
      "cell_type": "markdown",
      "metadata": {
        "id": "LlEfOzbtHs4e"
      },
      "source": [
        "$$ N = -5\\hat{x} + 7\\hat{y}\\\\\n",
        "U = 16\\hat{x} - 9\\hat{y} + 2\\hat{z}\\\\\n",
        "M = 12\\hat{w} + 6\\hat{x} - 17\\hat{y} - 3\\hat{z}\\\\\n",
        "P = -9ax - 4ay + 13az \\\\\n",
        "Y = 5\\hat{i} - 10\\hat{j} + 8\\hat{k}$$"
      ]
    },
    {
      "cell_type": "markdown",
      "source": [
        "In which it's matrix equivalent is:"
      ],
      "metadata": {
        "id": "5A2_7Wp1zwVy"
      }
    },
    {
      "cell_type": "markdown",
      "source": [
        "$$ N = \\begin{bmatrix} -5 \\\\ 7\\end{bmatrix} , U = \\begin{bmatrix} 16 \\\\ -9\\\\ 2\\end{bmatrix} , M = \\begin{bmatrix} 12 \\\\ 6 \\\\  -17 \\\\ -3\\end{bmatrix}, P = \\begin{bmatrix} -9 \\\\ -4 \\\\ 13\\end{bmatrix}, Y = \\begin{bmatrix} 5 \\\\ -10 \\\\  8 \\end{bmatrix},\n",
        "$$\n",
        "$$ N = \\begin{bmatrix} -5 & 7\\end{bmatrix} , U = \\begin{bmatrix} 16 & -9 & 2\\end{bmatrix} , M = \\begin{bmatrix} 12 & 6 & -17 & -3\\end{bmatrix} , P = \\begin{bmatrix} -9 & -4 & 13\\end{bmatrix}, Y = \\begin{bmatrix} 5 & -10 & 8\\end{bmatrix} \n",
        "$$"
      ],
      "metadata": {
        "id": "fKbBazYnzxPi"
      }
    },
    {
      "cell_type": "markdown",
      "source": [
        "We can then start doing numpy code with this by:"
      ],
      "metadata": {
        "id": "d4WtJ0lbzz4q"
      }
    },
    {
      "cell_type": "code",
      "source": [
        "## Importing necessary libraries\n",
        "import numpy as np"
      ],
      "metadata": {
        "id": "Wf98kpmZpBBr"
      },
      "execution_count": null,
      "outputs": []
    },
    {
      "cell_type": "code",
      "source": [
        "N = np.array([-5, 7])\n",
        "U = np.array([16, -9, 2])\n",
        "M = np.array([\n",
        "              [12],\n",
        "              [6],\n",
        "              [-17],\n",
        "              [-3]\n",
        "])\n",
        "P = np.array ([[-9],\n",
        "              [-4],\n",
        "              [13]])\n",
        "Y = np.array ([[5],\n",
        "               [-10],\n",
        "               [8]  \n",
        "])\n",
        "print('Vector P is ')\n",
        "print (N)\n",
        "print('Vector O is ')\n",
        "print (U)\n",
        "print('Vector R is ')\n",
        "print (M)\n",
        "print('Vector S is ')\n",
        "print (P)\n",
        "print('Vector H is ')\n",
        "print (Y)"
      ],
      "metadata": {
        "id": "fK76jsMUnKz-",
        "colab": {
          "base_uri": "https://localhost:8080/"
        },
        "outputId": "c9e1a5cf-510e-455f-baed-581a55beccde"
      },
      "execution_count": null,
      "outputs": [
        {
          "output_type": "stream",
          "name": "stdout",
          "text": [
            "Vector P is \n",
            "[-5  7]\n",
            "Vector O is \n",
            "[16 -9  2]\n",
            "Vector R is \n",
            "[[ 12]\n",
            " [  6]\n",
            " [-17]\n",
            " [ -3]]\n",
            "Vector S is \n",
            "[[-9]\n",
            " [-4]\n",
            " [13]]\n",
            "Vector H is \n",
            "[[  5]\n",
            " [-10]\n",
            " [  8]]\n"
          ]
        }
      ]
    },
    {
      "cell_type": "code",
      "source": [
        "N = np.array([\n",
        "              [-5, 7],\n",
        "              [-2, 3],\n",
        "])\n",
        "\n",
        "U = np.array([\n",
        "              [16, -9, 2, 4, 11],\n",
        "              [13, 1, -3, 5, 19],\n",
        "              [4, 0, 12, -2, 0]\n",
        "])\n",
        "M = np.array([\n",
        "              [12, 11],\n",
        "              [6, 18],\n",
        "              [-17, 21],\n",
        "              [-3, -5]\n",
        "])\n",
        "P = np.array ([[-9, 17, 8, 9],\n",
        "              [-4, 5, -16, 18],\n",
        "              [13, 15, -20, 19],\n",
        "              [23, -19, -3, 5],\n",
        "              [18, -14, 25, 7]\n",
        "])\n",
        "print('Vector G is ')\n",
        "print (N)\n",
        "print('Vector I is ')\n",
        "print (U)\n",
        "print('Vector A is ')\n",
        "print (M)\n",
        "print('Vector N is ')\n",
        "print (P)"
      ],
      "metadata": {
        "colab": {
          "base_uri": "https://localhost:8080/"
        },
        "id": "LUvdrslXvud-",
        "outputId": "bb6867bf-e9cd-408e-f942-7e2896952ac1"
      },
      "execution_count": null,
      "outputs": [
        {
          "output_type": "stream",
          "name": "stdout",
          "text": [
            "Vector G is \n",
            "[[-5  7]\n",
            " [-2  3]]\n",
            "Vector I is \n",
            "[[16 -9  2  4 11]\n",
            " [13  1 -3  5 19]\n",
            " [ 4  0 12 -2  0]]\n",
            "Vector A is \n",
            "[[ 12  11]\n",
            " [  6  18]\n",
            " [-17  21]\n",
            " [ -3  -5]]\n",
            "Vector N is \n",
            "[[ -9  17   8   9]\n",
            " [ -4   5 -16  18]\n",
            " [ 13  15 -20  19]\n",
            " [ 23 -19  -3   5]\n",
            " [ 18 -14  25   7]]\n"
          ]
        }
      ]
    },
    {
      "cell_type": "markdown",
      "source": [
        "#### Describing vectors in NumPy\n",
        "For the users to execute basic to complex operations using vectors, it is a must to define them first. Determining the shape, size, and dimensions of vectors is the primary approach to describing them. The code used to display them were \".shape,\" \".size,\" and \".ndim.\""
      ],
      "metadata": {
        "id": "tx081z3z1R6Q"
      }
    },
    {
      "cell_type": "code",
      "source": [
        "### Checking shapes\n",
        "### Shape refers to the number of components present on the rows and columns\n",
        "\n",
        "N = np.array([[14, 20, -31, 6, -1, 8, 11]])\n",
        "N.shape"
      ],
      "metadata": {
        "id": "RJI1T4Du1Omw",
        "colab": {
          "base_uri": "https://localhost:8080/"
        },
        "outputId": "996444bf-9871-45d2-86cb-3a762b3d0b31"
      },
      "execution_count": null,
      "outputs": [
        {
          "output_type": "execute_result",
          "data": {
            "text/plain": [
              "(1, 7)"
            ]
          },
          "metadata": {},
          "execution_count": 18
        }
      ]
    },
    {
      "cell_type": "code",
      "source": [
        "### Checking size\n",
        "### Array/Vector size provides the exact number of components that a vector contains\n",
        "\n",
        "N.size"
      ],
      "metadata": {
        "id": "89zmDRox1XPi",
        "colab": {
          "base_uri": "https://localhost:8080/"
        },
        "outputId": "0b9909e1-2584-4bd0-c333-103612c0df48"
      },
      "execution_count": null,
      "outputs": [
        {
          "output_type": "execute_result",
          "data": {
            "text/plain": [
              "7"
            ]
          },
          "metadata": {},
          "execution_count": 19
        }
      ]
    },
    {
      "cell_type": "code",
      "source": [
        "### Checking dimensions\n",
        "### The dimensions of a vector indicates the dimension of the vector, also called rank\n",
        "\n",
        "N.ndim"
      ],
      "metadata": {
        "id": "l_PcTV0e1Zp0",
        "colab": {
          "base_uri": "https://localhost:8080/"
        },
        "outputId": "5c68a067-01ec-4cf1-ff10-92ba39832420"
      },
      "execution_count": null,
      "outputs": [
        {
          "output_type": "execute_result",
          "data": {
            "text/plain": [
              "2"
            ]
          },
          "metadata": {},
          "execution_count": 20
        }
      ]
    },
    {
      "cell_type": "code",
      "source": [
        "U = np.array([[[1, -10, 17, 63, 41, -25, 18, 99]]])\n",
        "U.shape"
      ],
      "metadata": {
        "colab": {
          "base_uri": "https://localhost:8080/"
        },
        "id": "J7mcPjmAyQmb",
        "outputId": "2ac1f199-9253-4a16-c319-3569b20e16a0"
      },
      "execution_count": null,
      "outputs": [
        {
          "output_type": "execute_result",
          "data": {
            "text/plain": [
              "(1, 1, 8)"
            ]
          },
          "metadata": {},
          "execution_count": 22
        }
      ]
    },
    {
      "cell_type": "code",
      "source": [
        "U.size"
      ],
      "metadata": {
        "colab": {
          "base_uri": "https://localhost:8080/"
        },
        "id": "jsTscqBdypmi",
        "outputId": "bff868b3-d1bc-4f0e-f771-5e9c15a25398"
      },
      "execution_count": null,
      "outputs": [
        {
          "output_type": "execute_result",
          "data": {
            "text/plain": [
              "8"
            ]
          },
          "metadata": {},
          "execution_count": 23
        }
      ]
    },
    {
      "cell_type": "code",
      "source": [
        "U.ndim"
      ],
      "metadata": {
        "colab": {
          "base_uri": "https://localhost:8080/"
        },
        "id": "QbJaTSY8ysKR",
        "outputId": "fa007946-b123-4b8c-b43e-476d649d00ce"
      },
      "execution_count": null,
      "outputs": [
        {
          "output_type": "execute_result",
          "data": {
            "text/plain": [
              "3"
            ]
          },
          "metadata": {},
          "execution_count": 24
        }
      ]
    },
    {
      "cell_type": "markdown",
      "source": [
        "Great! Now let's try to explore in performing operations with these vectors."
      ],
      "metadata": {
        "id": "fcJJ3zCS1VOS"
      }
    },
    {
      "cell_type": "markdown",
      "source": [
        "#### $Addition$\n",
        "\n",
        "In addition, two vectors are added and display the sum of them. The codes used were \"np.add\" and the \"+\" sign between the two vectors.\n",
        "\n",
        "#### $Subtraction$\n",
        "\n",
        "To perform this operation, the codes used were \"np.subtract\" and the \"-\" sign in the middle of the two vectors. This operation gives the difference between the two vectors.\n",
        "\n",
        "#### $Multiplication$\n",
        "\n",
        "This operation allows providing the product of two vectors. With the use of the codes \"np.multiply\" and \"*\" sign between the two vectors, they can be multiplied.\n",
        "\n",
        "#### $Division$\n",
        "\n",
        "Division is an operation that divides two vectors using the codes \"np.divide\" and \"/\" sign in the middle of the two vectors. This presents the quotient of two vectors.\n"
      ],
      "metadata": {
        "id": "bqj6YASjQkqE"
      }
    },
    {
      "cell_type": "markdown",
      "source": [
        "#### Addition"
      ],
      "metadata": {
        "id": "iAEdTYYV1fMy"
      }
    },
    {
      "cell_type": "markdown",
      "source": [
        "The addition rule is simple, the we just need to add the elements of the matrices according to their index. So in this case if we add vector $P$ and vector $Y$ we will have a resulting vector:"
      ],
      "metadata": {
        "id": "FJGW55xX1lL-"
      }
    },
    {
      "cell_type": "markdown",
      "source": [
        "$$A = -4\\hat{x}-14\\hat{y}+21\\hat{z} \\\\ \\\\or \\\\ \\\\ A = \\begin{bmatrix} -4 \\\\ -14 \\\\ 21\\end{bmatrix} $$"
      ],
      "metadata": {
        "id": "IqTaXl8K1mTW"
      }
    },
    {
      "cell_type": "markdown",
      "source": [
        "So let's try to do that in NumPy in several number of ways:"
      ],
      "metadata": {
        "id": "YkOfygoT1sTN"
      }
    },
    {
      "cell_type": "code",
      "source": [
        "A = np.add(P, Y) ## this is the functional method usisng the numpy library\n",
        "A"
      ],
      "metadata": {
        "id": "6mOcxU2y1iFu",
        "colab": {
          "base_uri": "https://localhost:8080/"
        },
        "outputId": "7c771aa7-b3a3-4774-a565-3f4120a06b12"
      },
      "execution_count": null,
      "outputs": [
        {
          "output_type": "execute_result",
          "data": {
            "text/plain": [
              "array([[ -4],\n",
              "       [-14],\n",
              "       [ 21]])"
            ]
          },
          "metadata": {},
          "execution_count": 29
        }
      ]
    },
    {
      "cell_type": "code",
      "source": [
        "A = np.subtract(P, Y)\n",
        "A"
      ],
      "metadata": {
        "colab": {
          "base_uri": "https://localhost:8080/"
        },
        "id": "3UCAfgU-UhzW",
        "outputId": "be7afea8-54da-48eb-f369-5bdf69fe3d93"
      },
      "execution_count": null,
      "outputs": [
        {
          "output_type": "execute_result",
          "data": {
            "text/plain": [
              "array([[-14],\n",
              "       [  6],\n",
              "       [  5]])"
            ]
          },
          "metadata": {},
          "execution_count": 83
        }
      ]
    },
    {
      "cell_type": "code",
      "source": [
        "A = np.multiply(P, Y)\n",
        "A"
      ],
      "metadata": {
        "colab": {
          "base_uri": "https://localhost:8080/"
        },
        "id": "T9ZUv31rUtB2",
        "outputId": "8ec323a7-1fd4-412e-f79a-e6944b353703"
      },
      "execution_count": null,
      "outputs": [
        {
          "output_type": "execute_result",
          "data": {
            "text/plain": [
              "array([[-45],\n",
              "       [ 40],\n",
              "       [104]])"
            ]
          },
          "metadata": {},
          "execution_count": 84
        }
      ]
    },
    {
      "cell_type": "code",
      "source": [
        "A = np.divide(P, Y)\n",
        "A"
      ],
      "metadata": {
        "colab": {
          "base_uri": "https://localhost:8080/"
        },
        "id": "VA799jY1UzGr",
        "outputId": "345f4d14-12cb-461e-cbc9-9cd1fde48d62"
      },
      "execution_count": null,
      "outputs": [
        {
          "output_type": "execute_result",
          "data": {
            "text/plain": [
              "array([[-1.8  ],\n",
              "       [ 0.4  ],\n",
              "       [ 1.625]])"
            ]
          },
          "metadata": {},
          "execution_count": 85
        }
      ]
    },
    {
      "cell_type": "code",
      "source": [
        "A = P + Y   ## this is the explicit method, since Python does a value-reference so it can \n",
        "            ## know that these variables would need to do array operations.\n",
        "A"
      ],
      "metadata": {
        "id": "QL_5o4yV1xCa",
        "colab": {
          "base_uri": "https://localhost:8080/"
        },
        "outputId": "cc6843c0-6760-482a-fa6f-f40e342cf39c"
      },
      "execution_count": null,
      "outputs": [
        {
          "output_type": "execute_result",
          "data": {
            "text/plain": [
              "array([[ -4],\n",
              "       [-14],\n",
              "       [ 21]])"
            ]
          },
          "metadata": {},
          "execution_count": 30
        }
      ]
    },
    {
      "cell_type": "code",
      "source": [
        "pos1 = np.array([1,2,13,4,5])\n",
        "pos2 = np.array([-4,15,6,8,7])\n",
        "pos3 = np.array([0,-1,7,19,11])\n",
        "pos4 = np.array([-22,7,18,0,12])\n",
        "pos5 = np.array([14,4,-16,1,0])\n",
        "pos6 = np.array([2,0,-9,3,14])\n",
        "B = pos1 + pos2 + pos3 + pos4 + pos5 + pos6\n",
        "B"
      ],
      "metadata": {
        "id": "rElNT9e71ziB",
        "colab": {
          "base_uri": "https://localhost:8080/"
        },
        "outputId": "3276a089-97c3-4ccf-8edc-7e623604856e"
      },
      "execution_count": null,
      "outputs": [
        {
          "output_type": "execute_result",
          "data": {
            "text/plain": [
              "array([-9, 27, 19, 35, 49])"
            ]
          },
          "metadata": {},
          "execution_count": 87
        }
      ]
    },
    {
      "cell_type": "code",
      "source": [
        "C = pos6 - pos5 - pos4\n",
        "C"
      ],
      "metadata": {
        "colab": {
          "base_uri": "https://localhost:8080/"
        },
        "id": "fLrzwY67461X",
        "outputId": "2595be57-6890-4bd1-9516-fcdfb40e1eb4"
      },
      "execution_count": null,
      "outputs": [
        {
          "output_type": "execute_result",
          "data": {
            "text/plain": [
              "array([ 10, -11, -11,   2,   2])"
            ]
          },
          "metadata": {},
          "execution_count": 42
        }
      ]
    },
    {
      "cell_type": "code",
      "source": [
        "D = pos3 * pos4 * pos5\n",
        "D"
      ],
      "metadata": {
        "colab": {
          "base_uri": "https://localhost:8080/"
        },
        "id": "m_vxdTh-4spf",
        "outputId": "b8ad0385-f784-441c-8e88-cad4ce6ee092"
      },
      "execution_count": null,
      "outputs": [
        {
          "output_type": "execute_result",
          "data": {
            "text/plain": [
              "array([    0,   -28, -2016,     0,     0])"
            ]
          },
          "metadata": {},
          "execution_count": 88
        }
      ]
    },
    {
      "cell_type": "code",
      "source": [
        "E = pos1 / pos2 \n",
        "E"
      ],
      "metadata": {
        "colab": {
          "base_uri": "https://localhost:8080/"
        },
        "id": "6b5fFeSj42QX",
        "outputId": "64659415-caed-43ba-c5f5-8de40d1b2073"
      },
      "execution_count": null,
      "outputs": [
        {
          "output_type": "execute_result",
          "data": {
            "text/plain": [
              "array([-0.25      ,  0.13333333,  2.16666667,  0.5       ,  0.71428571])"
            ]
          },
          "metadata": {},
          "execution_count": 91
        }
      ]
    },
    {
      "cell_type": "markdown",
      "metadata": {
        "id": "CuAeF55ZHs4u"
      },
      "source": [
        "##### Try for yourself!"
      ]
    },
    {
      "cell_type": "markdown",
      "source": [
        "Try to implement subtraction, multiplication, and division with vectors $G$ and $P$!"
      ],
      "metadata": {
        "id": "dz7cNK2o2DvH"
      }
    },
    {
      "cell_type": "code",
      "source": [
        "G = np.array([\n",
        "              [16, -8, -20, 7],\n",
        "])\n",
        "P = np.array([\n",
        "              [-12, 11, 23, 4],\n",
        "])\n",
        "print('Vector G is ')\n",
        "print (G)\n",
        "print('Vector P is ')\n",
        "print (P)"
      ],
      "metadata": {
        "id": "OuTAUyLS2Gil",
        "colab": {
          "base_uri": "https://localhost:8080/"
        },
        "outputId": "75f21d68-bc42-40a7-8e17-118b466ae66f"
      },
      "execution_count": null,
      "outputs": [
        {
          "output_type": "stream",
          "name": "stdout",
          "text": [
            "Vector G is \n",
            "[[ 16  -8 -20   7]]\n",
            "Vector P is \n",
            "[[-12  11  23   4]]\n"
          ]
        }
      ]
    },
    {
      "cell_type": "code",
      "source": [
        "## Addition\n",
        "L = G + P\n",
        "L"
      ],
      "metadata": {
        "colab": {
          "base_uri": "https://localhost:8080/"
        },
        "id": "7C0AuXVg6kcp",
        "outputId": "984d6312-9aa5-40d9-d5f1-2e369e16a223"
      },
      "execution_count": null,
      "outputs": [
        {
          "output_type": "execute_result",
          "data": {
            "text/plain": [
              "array([[ 4,  3,  3, 11]])"
            ]
          },
          "metadata": {},
          "execution_count": 46
        }
      ]
    },
    {
      "cell_type": "code",
      "source": [
        "## Subtraction\n",
        "O = P - G\n",
        "O"
      ],
      "metadata": {
        "colab": {
          "base_uri": "https://localhost:8080/"
        },
        "id": "skA_TL-v6pxx",
        "outputId": "5f5377b9-5443-4a40-935a-63f6255d35a5"
      },
      "execution_count": null,
      "outputs": [
        {
          "output_type": "execute_result",
          "data": {
            "text/plain": [
              "array([[-28,  19,  43,  -3]])"
            ]
          },
          "metadata": {},
          "execution_count": 47
        }
      ]
    },
    {
      "cell_type": "code",
      "source": [
        "## Multiplication\n",
        "V = P * G\n",
        "V"
      ],
      "metadata": {
        "colab": {
          "base_uri": "https://localhost:8080/"
        },
        "id": "mN6x10AB6vFH",
        "outputId": "e826df76-6174-4691-80a1-d63a9bd8e2e0"
      },
      "execution_count": null,
      "outputs": [
        {
          "output_type": "execute_result",
          "data": {
            "text/plain": [
              "array([[-192,  -88, -460,   28]])"
            ]
          },
          "metadata": {},
          "execution_count": 94
        }
      ]
    },
    {
      "cell_type": "code",
      "source": [
        "## Division\n",
        "E = G / P\n",
        "E"
      ],
      "metadata": {
        "colab": {
          "base_uri": "https://localhost:8080/"
        },
        "id": "mehDIlCr6xQ3",
        "outputId": "144b2b86-8b52-46f5-a7a9-31d441a0f45c"
      },
      "execution_count": null,
      "outputs": [
        {
          "output_type": "execute_result",
          "data": {
            "text/plain": [
              "array([[-1.33333333, -0.72727273, -0.86956522,  1.75      ]])"
            ]
          },
          "metadata": {},
          "execution_count": 95
        }
      ]
    },
    {
      "cell_type": "code",
      "source": [
        "Q = np.array([\n",
        "              [1, 18, 0, -27],\n",
        "              [3, -14, -1, 22]\n",
        "])\n",
        "R = np.array([\n",
        "              [-2, 31, 26, 7],\n",
        "              [6, -19, 9, 10]\n",
        "])\n",
        "print('Vector Q is ')\n",
        "print (Q)\n",
        "print('Vector R is ')\n",
        "print (R)"
      ],
      "metadata": {
        "colab": {
          "base_uri": "https://localhost:8080/"
        },
        "id": "B_wEeBHCIBih",
        "outputId": "7a397323-7d4f-491b-e3d8-708f878da35c"
      },
      "execution_count": null,
      "outputs": [
        {
          "output_type": "stream",
          "name": "stdout",
          "text": [
            "Vector Q is \n",
            "[[  1  18   0 -27]\n",
            " [  3 -14  -1  22]]\n",
            "Vector R is \n",
            "[[ -2  31  26   7]\n",
            " [  6 -19   9  10]]\n"
          ]
        }
      ]
    },
    {
      "cell_type": "code",
      "source": [
        "## Addition\n",
        "T = np.add(Q, R) \n",
        "T"
      ],
      "metadata": {
        "colab": {
          "base_uri": "https://localhost:8080/"
        },
        "id": "4agKfNBeIhra",
        "outputId": "fc0b75ef-ccac-4523-d0de-05c8ec348c2f"
      },
      "execution_count": null,
      "outputs": [
        {
          "output_type": "execute_result",
          "data": {
            "text/plain": [
              "array([[ -1,  49,  26, -20],\n",
              "       [  9, -33,   8,  32]])"
            ]
          },
          "metadata": {},
          "execution_count": 4
        }
      ]
    },
    {
      "cell_type": "code",
      "source": [
        "## Subtraction\n",
        "T = np.subtract(Q, R) \n",
        "T"
      ],
      "metadata": {
        "colab": {
          "base_uri": "https://localhost:8080/"
        },
        "id": "jZZ7xhLeI_YQ",
        "outputId": "f9731d8c-9c4e-4522-c98e-5ce5ead0ea88"
      },
      "execution_count": null,
      "outputs": [
        {
          "output_type": "execute_result",
          "data": {
            "text/plain": [
              "array([[  3, -13, -26, -34],\n",
              "       [ -3,   5, -10,  12]])"
            ]
          },
          "metadata": {},
          "execution_count": 5
        }
      ]
    },
    {
      "cell_type": "code",
      "source": [
        "## Multiplication \n",
        "T = np.multiply(Q, R) \n",
        "T"
      ],
      "metadata": {
        "colab": {
          "base_uri": "https://localhost:8080/"
        },
        "id": "nLnlsmB2JF0Q",
        "outputId": "62a9271e-4a8f-4f5b-b740-6bd11e865f1f"
      },
      "execution_count": null,
      "outputs": [
        {
          "output_type": "execute_result",
          "data": {
            "text/plain": [
              "array([[  -2,  558,    0, -189],\n",
              "       [  18,  266,   -9,  220]])"
            ]
          },
          "metadata": {},
          "execution_count": 6
        }
      ]
    },
    {
      "cell_type": "code",
      "source": [
        "## Division\n",
        "T = np.divide(Q, R) \n",
        "T"
      ],
      "metadata": {
        "colab": {
          "base_uri": "https://localhost:8080/"
        },
        "id": "IF3euSKmJKov",
        "outputId": "2867325d-45cc-429c-beb5-2f7641ebde81"
      },
      "execution_count": null,
      "outputs": [
        {
          "output_type": "execute_result",
          "data": {
            "text/plain": [
              "array([[-0.5       ,  0.58064516,  0.        , -3.85714286],\n",
              "       [ 0.5       ,  0.73684211, -0.11111111,  2.2       ]])"
            ]
          },
          "metadata": {},
          "execution_count": 7
        }
      ]
    },
    {
      "cell_type": "markdown",
      "source": [
        "### Scaling"
      ],
      "metadata": {
        "id": "7r1rrd7C2JQw"
      }
    },
    {
      "cell_type": "markdown",
      "source": [
        "This is done by using the code \"np.multiply\" and the declared value in a vector will be multiplied by the specific number. [5]\n",
        "\n",
        "Let's take the example below:"
      ],
      "metadata": {
        "id": "up2O47IR2Laf"
      }
    },
    {
      "cell_type": "markdown",
      "metadata": {
        "id": "8el8_cMUHs4x"
      },
      "source": [
        "$$S = 7 \\cdot N$$"
      ]
    },
    {
      "cell_type": "markdown",
      "source": [
        "We can do this in numpy through:"
      ],
      "metadata": {
        "id": "arHJTOKy2qq-"
      }
    },
    {
      "cell_type": "code",
      "source": [
        "#S = 7 * N\n",
        "S = np.multiply(7,N)\n",
        "S"
      ],
      "metadata": {
        "id": "3cJzODEW2k6G",
        "colab": {
          "base_uri": "https://localhost:8080/"
        },
        "outputId": "fe01e6bb-0434-485b-d7c7-31d63a29c9a1"
      },
      "execution_count": null,
      "outputs": [
        {
          "output_type": "execute_result",
          "data": {
            "text/plain": [
              "array([-35,  49])"
            ]
          },
          "metadata": {},
          "execution_count": 51
        }
      ]
    },
    {
      "cell_type": "markdown",
      "metadata": {
        "id": "owN3j6rMWr-3"
      },
      "source": [
        "Try to implement scaling with two vectors."
      ]
    },
    {
      "cell_type": "code",
      "source": [
        "O = np.array([\n",
        "              [1, 9, -14, 28],\n",
        "])\n",
        "Y = np.array([\n",
        "              [33, -61, 7, 15],\n",
        "])\n",
        "print('Vector O is ')\n",
        "print (O)\n",
        "print('Vector Y is ')\n",
        "print (Y)"
      ],
      "metadata": {
        "colab": {
          "base_uri": "https://localhost:8080/"
        },
        "id": "gkX-jFry9IlX",
        "outputId": "b77dc96b-0a67-4361-f42f-c6e98ec53f18"
      },
      "execution_count": null,
      "outputs": [
        {
          "output_type": "stream",
          "name": "stdout",
          "text": [
            "Vector O is \n",
            "[[  1   9 -14  28]]\n",
            "Vector Y is \n",
            "[[ 33 -61   7  15]]\n"
          ]
        }
      ]
    },
    {
      "cell_type": "code",
      "source": [
        "#S = 9 * O\n",
        "S = np.multiply(9,O)\n",
        "S"
      ],
      "metadata": {
        "id": "uz5ANoFg3CcV",
        "colab": {
          "base_uri": "https://localhost:8080/"
        },
        "outputId": "6e7e6bbf-acbc-44c6-b613-f22ea150bc81"
      },
      "execution_count": null,
      "outputs": [
        {
          "output_type": "execute_result",
          "data": {
            "text/plain": [
              "array([[   9,   81, -126,  252]])"
            ]
          },
          "metadata": {},
          "execution_count": 99
        }
      ]
    },
    {
      "cell_type": "code",
      "source": [
        "#S = 9 * Y \n",
        "S = np.multiply(9,Y)\n",
        "S"
      ],
      "metadata": {
        "colab": {
          "base_uri": "https://localhost:8080/"
        },
        "id": "DL_61qiRgjla",
        "outputId": "bce24324-dfc2-4859-9b6e-1ec530db5b95"
      },
      "execution_count": null,
      "outputs": [
        {
          "output_type": "execute_result",
          "data": {
            "text/plain": [
              "array([[ 297, -549,   63,  135]])"
            ]
          },
          "metadata": {},
          "execution_count": 100
        }
      ]
    },
    {
      "cell_type": "markdown",
      "source": [
        "### MatPlotLib"
      ],
      "metadata": {
        "id": "mGOhECBs3GMC"
      }
    },
    {
      "cell_type": "markdown",
      "source": [
        "In python, it is a plotting library that allows producing static, animated, and interactive visualization. [6] Also defined as a multi-platform data visualization package based on NumPy arrays and intended to operate with the SciPy stack, first developed in 2002 by John Hunter. Matplotlib has a large number of plots. Plots aid in the understanding of trends, patterns, and relationships. Thus, it is often used to make decisions based on numerical data. [7] Figure 8 shows what to import first in MatPlotLib."
      ],
      "metadata": {
        "id": "Te1JBssl3IrV"
      }
    },
    {
      "cell_type": "markdown",
      "source": [
        "#### Visualizing Data"
      ],
      "metadata": {
        "id": "cPwt-MQD3JZr"
      }
    },
    {
      "cell_type": "markdown",
      "source": [
        "One of the most significant advantages of visualization is that it provides access to visual/graphical to massive volumes of data in simply understandable graphics. Line, bar, scatter, histogram, and more graphs are available in Matplotlib. [7] In order to execute this, it is a must to import necessary programming libraries first."
      ],
      "metadata": {
        "id": "n5BfxU313MVX"
      }
    },
    {
      "cell_type": "code",
      "source": [
        "import matplotlib.pyplot as plt\n",
        "import matplotlib\n",
        "%matplotlib inline"
      ],
      "metadata": {
        "id": "1bnZYVBN3PKc"
      },
      "execution_count": null,
      "outputs": []
    },
    {
      "cell_type": "code",
      "source": [
        "X = [2, 4]\n",
        "Y = [-7, 3]\n",
        "plt.scatter(X[0], X[1], label='X', c='blue')\n",
        "plt.scatter(Y[0], Y[1], label='Y', c='yellow')\n",
        "plt.grid()\n",
        "plt.legend()\n",
        "plt.show()"
      ],
      "metadata": {
        "id": "tusmXAG63Rkb",
        "colab": {
          "base_uri": "https://localhost:8080/",
          "height": 265
        },
        "outputId": "fac06ec2-652e-45b4-a9e3-c8ec27eea68d"
      },
      "execution_count": null,
      "outputs": [
        {
          "output_type": "display_data",
          "data": {
            "text/plain": [
              "<Figure size 432x288 with 1 Axes>"
            ],
            "image/png": "[encoded data removed]"
          },
          "metadata": {
            "needs_background": "light"
          }
        }
      ]
    },
    {
      "cell_type": "code",
      "source": [
        "VV = [-5, 1]\n",
        "WW = [9, 11]\n",
        "XX = [0, 6]\n",
        "YY = [-2, 7]\n",
        "ZZ = [3, 4]\n",
        "plt.scatter(VV[0], VV[1], label='VV', c='orange')\n",
        "plt.scatter(WW[0], WW[1], label='WW', c='navy')\n",
        "plt.scatter(XX[0], XX[1], label='XX', c='purple')\n",
        "plt.scatter(YY[0], YY[1], label='YY', c='lime')\n",
        "plt.scatter(ZZ[0], ZZ[1], label='ZZ', c='skyblue')\n",
        "plt.grid()\n",
        "plt.legend()\n",
        "plt.show()"
      ],
      "metadata": {
        "colab": {
          "base_uri": "https://localhost:8080/",
          "height": 265
        },
        "id": "_3xMWBM8_dSC",
        "outputId": "8299e940-41b7-4217-d602-578e591c3a4e"
      },
      "execution_count": null,
      "outputs": [
        {
          "output_type": "display_data",
          "data": {
            "text/plain": [
              "<Figure size 432x288 with 1 Axes>"
            ],
            "image/png": "[encoded data removed]"
          },
          "metadata": {
            "needs_background": "light"
          }
        }
      ]
    },
    {
      "cell_type": "code",
      "source": [
        "W = np.array([-4, 1])\n",
        "Z = np.array([3, -5])\n",
        "R = W + Z\n",
        "Magnitude = np.sqrt(np.sum(R**2))\n",
        "print(Magnitude)\n",
        "plt.title(\"Resultant Vector\\nMagnitude:{}\" .format(Magnitude))\n",
        "plt.xlim(-5, 5)\n",
        "plt.ylim(-5, 5)\n",
        "plt.quiver(0, 0, W[0], W[1], angles='xy', scale_units='xy', scale=1, color='green')\n",
        "plt.quiver(A[0], W[1], Z[0], Z[1], angles='xy', scale_units='xy', scale=1, color='purple')\n",
        "plt.quiver(0, 0, R[0], R[1], angles='xy', scale_units='xy', scale=1, color='yellow')\n",
        "plt.grid()\n",
        "plt.show()\n",
        "print(R)\n",
        "Slope = R[1]/R[0]\n",
        "print(Slope)\n",
        "Angle = (np.arctan(Slope))*(180/np.pi)\n",
        "print(Angle)"
      ],
      "metadata": {
        "id": "DaSa6lhE3UjD",
        "colab": {
          "base_uri": "https://localhost:8080/",
          "height": 365
        },
        "outputId": "b008885c-6769-4828-d2d8-de62a569bccf"
      },
      "execution_count": null,
      "outputs": [
        {
          "output_type": "stream",
          "name": "stdout",
          "text": [
            "4.123105625617661\n"
          ]
        },
        {
          "output_type": "display_data",
          "data": {
            "text/plain": [
              "<Figure size 432x288 with 1 Axes>"
            ],
            "image/png": "[encoded data removed]"
          },
          "metadata": {
            "needs_background": "light"
          }
        },
        {
          "output_type": "stream",
          "name": "stdout",
          "text": [
            "[-1 -4]\n",
            "4.0\n",
            "75.96375653207353\n"
          ]
        }
      ]
    },
    {
      "cell_type": "code",
      "source": [
        "n = W.shape[0]\n",
        "plt.xlim(-10, 10)\n",
        "plt.ylim(-10, 10)\n",
        "plt.quiver(0,0, W[0], W[1], angles='xy', scale_units='xy',scale=1)\n",
        "plt.quiver(W[0],W[1], Z[0], Z[1], angles='xy', scale_units='xy',scale=1)\n",
        "plt.quiver(0,0, R[0], R[1], angles='xy', scale_units='xy',scale=1)\n",
        "plt.show()"
      ],
      "metadata": {
        "id": "QHZlnOzg3Y2d",
        "colab": {
          "base_uri": "https://localhost:8080/",
          "height": 269
        },
        "outputId": "8a57ef5f-d547-4ffa-c694-5243d53558d3"
      },
      "execution_count": null,
      "outputs": [
        {
          "output_type": "display_data",
          "data": {
            "text/plain": [
              "<Figure size 432x288 with 1 Axes>"
            ],
            "image/png": "[encoded data removed]"
          },
          "metadata": {
            "needs_background": "light"
          }
        }
      ]
    },
    {
      "cell_type": "markdown",
      "source": [
        "Try plotting Three Vectors and show the Resultant Vector as a result.\n",
        "Use Head to Tail Method."
      ],
      "metadata": {
        "id": "HPW964Ql3cBu"
      }
    },
    {
      "cell_type": "code",
      "source": [
        "AAA = np.array([2, -8])\n",
        "BBB = np.array([3, -7])\n",
        "CCC = AAA + BBB\n",
        "DDD = np.array([-5, 4])\n",
        "EEE = AAA + BBB + DDD\n",
        "Magnitude = np.sqrt(np.sum(EEE**2))\n",
        "plt.title(\"Resultant Vector\\nMagnitude: {} \\n Resultant: {}\" .format(Magnitude, EEE))\n",
        "plt.xlim(9, -19)\n",
        "plt.ylim(11, -19)\n",
        "plt.quiver(0, 0, AAA[0], AAA[1], angles='xy', scale_units='xy', scale=1, color='khaki')\n",
        "plt.quiver(AAA[0], AAA[1], BBB[0], BBB[1], angles='xy', scale_units='xy', scale=1, color='royalblue')\n",
        "plt.quiver(CCC[0], CCC[1], DDD[0], DDD[1], angles='xy', scale_units='xy', scale=1, color='maroon')\n",
        "plt.quiver(0, 0, EEE[0], EEE[1], angles='xy', scale_units='xy', scale=1, color='palegreen')\n",
        "plt.grid()\n",
        "plt.show()"
      ],
      "metadata": {
        "id": "KeI6es5hUJCz",
        "colab": {
          "base_uri": "https://localhost:8080/",
          "height": 311
        },
        "outputId": "2556ab69-8c95-4b83-88fa-a3abe8da32fe"
      },
      "execution_count": null,
      "outputs": [
        {
          "output_type": "display_data",
          "data": {
            "text/plain": [
              "<Figure size 432x288 with 1 Axes>"
            ],
            "image/png": "[encoded data removed]"
          },
          "metadata": {
            "needs_background": "light"
          }
        }
      ]
    },
    {
      "cell_type": "code",
      "source": [
        "FFF = np.array([-4, -6])\n",
        "GGG = np.array([2, -8])\n",
        "HHH = FFF + GGG\n",
        "III = np.array([6, 7])\n",
        "JJJ = FFF + GGG + III\n",
        "Magnitude = np.sqrt(np.sum(JJJ**2))\n",
        "plt.title(\"Resultant Vector\\nMagnitude: {} \\n Resultant: {}\" .format(Magnitude, JJJ))\n",
        "plt.xlim(12, -23)\n",
        "plt.ylim(11, -23)\n",
        "plt.quiver(0, 0, FFF[0], FFF[1], angles='xy', scale_units='xy', scale=1, color='cyan')\n",
        "plt.quiver(FFF[0], FFF[1], GGG[0], GGG[1], angles='xy', scale_units='xy', scale=1, color='orange')\n",
        "plt.quiver(HHH[0], HHH[1], III[0], III[1], angles='xy', scale_units='xy', scale=1, color='pink')\n",
        "plt.quiver(0, 0, JJJ[0], JJJ[1], angles='xy', scale_units='xy', scale=1, color='silver')\n",
        "plt.grid()\n",
        "plt.show()"
      ],
      "metadata": {
        "colab": {
          "base_uri": "https://localhost:8080/",
          "height": 311
        },
        "id": "JRiADwYozmEx",
        "outputId": "fbaa8a42-8e0b-45f9-c979-525ae445a4a1"
      },
      "execution_count": null,
      "outputs": [
        {
          "output_type": "display_data",
          "data": {
            "text/plain": [
              "<Figure size 432x288 with 1 Axes>"
            ],
            "image/png": "[encoded data removed]"
          },
          "metadata": {
            "needs_background": "light"
          }
        }
      ]
    },
    {
      "cell_type": "code",
      "source": [
        "FFF = np.array([-4, -6])\n",
        "GGG = np.array([2, -8])\n",
        "HHH = FFF + GGG\n",
        "III = np.array([6, 7])\n",
        "JJJ = FFF + GGG + III\n",
        "Magnitude = np.sqrt(np.sum(JJJ**2))\n",
        "plt.title(\"Resultant Vector\\nMagnitude: {} \\n Resultant: {}\" .format(Magnitude, JJJ))\n",
        "plt.xlim(12, -23)\n",
        "plt.ylim(11, -23)\n",
        "plt.quiver(0, 0, FFF[0], FFF[1], angles='xy', scale_units='xy', scale=1, color='cyan')\n",
        "plt.quiver(FFF[0], FFF[1], GGG[0], GGG[1], angles='xy', scale_units='xy', scale=1, color='orange')\n",
        "plt.quiver(HHH[0], HHH[1], III[0], III[1], angles='xy', scale_units='xy', scale=1, color='pink')\n",
        "plt.quiver(0, 0, JJJ[0], JJJ[1], angles='xy', scale_units='xy', scale=1, color='silver')\n",
        "plt.grid()\n",
        "plt.show()\n",
        "Slope = JJJ[1]/JJJ[0]\n",
        "print('Slope:{}'.format(Slope))\n",
        "Angle = (np.arctan(Slope))*(180/np.pi)\n",
        "print('Angle:{}'.format(Angle))"
      ],
      "metadata": {
        "colab": {
          "base_uri": "https://localhost:8080/",
          "height": 346
        },
        "id": "BKCFE40_B3Ah",
        "outputId": "2c2b0548-d98a-4cc3-d184-49bea93d7974"
      },
      "execution_count": null,
      "outputs": [
        {
          "output_type": "display_data",
          "data": {
            "text/plain": [
              "<Figure size 432x288 with 1 Axes>"
            ],
            "image/png": "[encoded data removed]"
          },
          "metadata": {
            "needs_background": "light"
          }
        },
        {
          "output_type": "stream",
          "name": "stdout",
          "text": [
            "Slope:-1.75\n",
            "Angle:-60.25511870305778\n"
          ]
        }
      ]
    },
    {
      "cell_type": "markdown",
      "source": [
        "#Conclusion\n",
        "\n",
        "In this laboratory report, the researchers have fully utilized the features of Google Colab in line with understanding the principles and application of python programming. With the topics discussed, the researchers have enhanced their knowledge and skills and performed the activity with ease and confidence. Upon doing the activity, the researchers learned the significance of importing the necessary programming libraries like \"import numpy as np\" and \"import matplotlib.pyplot as plt\" to execute commands and for the succeeding codes to work their functions. The objective of this laboratory activity has been achieved wherein the researchers have familiarized themselves with python libraries for numerical and scientific programming. In addition, the researchers were able to represent a vector using the code \"np.array\" and describe a vector according to its shape, size, and dimension with the codes \".shape,\" \".size,\" and \".ndim.\" \n",
        "\n",
        "Along with representing and describing vectors, the researchers have also tackled performing operations with vectors, including addition, subtraction, multiplication, and division. There were two ways of executing the operations: the functional method and the explicit method. The functional method involves the signs such as \"np.add,\" \"np.subtract,\" \"np.multiply,\" and \"np.divide\" for the addition, subtraction, multiplication, and addition, respectively. While in the explicit method, the codes used were \"+,\" \"-,\" \"*,\" and \"/\"  for the same arrangement of operations. Scaling has been discussed as well with the use of the code \"np.multiply\" for scaling a vector. For the MatPlotLib, it was comprehended its significance in python programming and how helpful it is in presenting a plot of data to be utilized in the interpretation of trends, patterns, and relationships. In line with this, the codes introduced allowed the researchers to display the resultant vector, magnitude, slope, and angle of the given vectors.\n",
        "\n",
        "Through this laboratory activity, the researchers have further improved their proficiency in python programming with the use of the platform Google Colab. The different commands taught were recognized and acquainted with their usage in the activity, especially in doing the given task. Moreover, everything that has been discussed in this laboratory report will help the researchers to establish a good foundation regarding vectors and which they can use for future purposes. As a final point, the researchers have gained more knowledge and desire to apply everything they have learned in a real-life situation and field of work.\n"
      ],
      "metadata": {
        "id": "d6kHZ61wTlSM"
      }
    }
  ]
}