{
  "nbformat": 4,
  "nbformat_minor": 0,
  "metadata": {
    "colab": {
      "name": "Activity 1 - Python Fundamentals",
      "provenance": [],
      "collapsed_sections": [],
      "authorship_tag": "ABX9TyOr4NX0489CxLa/dw9QwWKP",
      "include_colab_link": true
    },
    "kernelspec": {
      "name": "python3",
      "display_name": "Python 3"
    },
    "language_info": {
      "name": "python"
    }
  },
  "cells": [
    {
      "cell_type": "markdown",
      "metadata": {
        "id": "view-in-github",
        "colab_type": "text"
      },
      "source": [
        "<a href=\"https://colab.research.google.com/github/purple0607/Linear-Algebra_2nd-Sem/blob/main/Activity_1_Python_Fundamentals.ipynb\" target=\"_parent\"><img src=\"https://colab.research.google.com/assets/colab-badge.svg\" alt=\"Open In Colab\"/></a>"
      ]
    },
    {
      "cell_type": "markdown",
      "source": [
        "# Welcome to Python Fundamentals\n",
        "In this module, we are going to establish or review our skills in Python programming. In this notebook we are going to cover:\n",
        "* Variables and Data Types \n",
        "* Operations\n",
        "* Input and Output Operations\n",
        "* Logic Control\n",
        "* Iterables\n",
        "* Functions\n",
        "You sent\n"
      ],
      "metadata": {
        "id": "z3sYEq-atVjF"
      }
    },
    {
      "cell_type": "markdown",
      "source": [
        "## Variable and Data Types"
      ],
      "metadata": {
        "id": "mpJ96kbOtf60"
      }
    },
    {
      "cell_type": "code",
      "source": [
        "x = 1\n",
        "a,b = 0, -1\n",
        "b"
      ],
      "metadata": {
        "colab": {
          "base_uri": "https://localhost:8080/"
        },
        "id": "xVSJgQ_htiR1",
        "outputId": "146b005e-9e16-41df-da23-0e691b46e574"
      },
      "execution_count": 5,
      "outputs": [
        {
          "output_type": "execute_result",
          "data": {
            "text/plain": [
              "-1"
            ]
          },
          "metadata": {},
          "execution_count": 5
        }
      ]
    },
    {
      "cell_type": "code",
      "source": [
        "type(x)"
      ],
      "metadata": {
        "colab": {
          "base_uri": "https://localhost:8080/"
        },
        "id": "N6T4aBlDubfe",
        "outputId": "a896e68a-9c60-41a5-fd3b-9201fbee9347"
      },
      "execution_count": 6,
      "outputs": [
        {
          "output_type": "execute_result",
          "data": {
            "text/plain": [
              "int"
            ]
          },
          "metadata": {},
          "execution_count": 6
        }
      ]
    },
    {
      "cell_type": "code",
      "source": [
        "y = 1.0\n",
        "type(y)"
      ],
      "metadata": {
        "colab": {
          "base_uri": "https://localhost:8080/"
        },
        "id": "UX0saaoUvXPm",
        "outputId": "ed5dfff2-c797-4dbe-fe5e-b48f797d4384"
      },
      "execution_count": 7,
      "outputs": [
        {
          "output_type": "execute_result",
          "data": {
            "text/plain": [
              "float"
            ]
          },
          "metadata": {},
          "execution_count": 7
        }
      ]
    },
    {
      "cell_type": "code",
      "source": [
        "x = float (x)\n",
        "x"
      ],
      "metadata": {
        "colab": {
          "base_uri": "https://localhost:8080/"
        },
        "id": "g7MIr3pwviwV",
        "outputId": "4d7410fb-0329-415d-fb98-ec36865bf9a8"
      },
      "execution_count": 8,
      "outputs": [
        {
          "output_type": "execute_result",
          "data": {
            "text/plain": [
              "1.0"
            ]
          },
          "metadata": {},
          "execution_count": 8
        }
      ]
    },
    {
      "cell_type": "code",
      "source": [
        "x = float (x)\n",
        "type(x)"
      ],
      "metadata": {
        "colab": {
          "base_uri": "https://localhost:8080/"
        },
        "id": "2fRlHB9Ev1OV",
        "outputId": "07553c13-029c-4bc6-c3cb-b1b9ef97027a"
      },
      "execution_count": 10,
      "outputs": [
        {
          "output_type": "execute_result",
          "data": {
            "text/plain": [
              "float"
            ]
          },
          "metadata": {},
          "execution_count": 10
        }
      ]
    },
    {
      "cell_type": "code",
      "source": [
        "s,t,u = \"0\",'1','one'\n",
        "type(u)"
      ],
      "metadata": {
        "colab": {
          "base_uri": "https://localhost:8080/"
        },
        "id": "mJW6yQzewoHF",
        "outputId": "003c4da8-5dfd-4479-b204-b26b5b142e88"
      },
      "execution_count": 13,
      "outputs": [
        {
          "output_type": "execute_result",
          "data": {
            "text/plain": [
              "str"
            ]
          },
          "metadata": {},
          "execution_count": 13
        }
      ]
    },
    {
      "cell_type": "code",
      "source": [
        "s_int = int(s)\n",
        "s_int"
      ],
      "metadata": {
        "colab": {
          "base_uri": "https://localhost:8080/"
        },
        "id": "BWX4xOK-w2sQ",
        "outputId": "c5e8b3f3-cb12-4267-e787-844b4482ddd8"
      },
      "execution_count": 19,
      "outputs": [
        {
          "output_type": "execute_result",
          "data": {
            "text/plain": [
              "0"
            ]
          },
          "metadata": {},
          "execution_count": 19
        }
      ]
    },
    {
      "cell_type": "markdown",
      "source": [
        "## Operations"
      ],
      "metadata": {
        "id": "oawLIA_6x84u"
      }
    },
    {
      "cell_type": "markdown",
      "source": [
        "### Arithmetic"
      ],
      "metadata": {
        "id": "1EKigwvdyDUf"
      }
    },
    {
      "cell_type": "code",
      "source": [
        "a,b,c,d = 2.0, -0.5, 0, -32"
      ],
      "metadata": {
        "id": "iFc9tyiNyMWr"
      },
      "execution_count": 22,
      "outputs": []
    },
    {
      "cell_type": "code",
      "source": [
        "### Addition\n",
        "S = a+b\n",
        "S"
      ],
      "metadata": {
        "colab": {
          "base_uri": "https://localhost:8080/"
        },
        "id": "7RK7VArHxTRc",
        "outputId": "b9f4c109-8cec-4cfe-d11e-b7e1e6b89e4e"
      },
      "execution_count": 23,
      "outputs": [
        {
          "output_type": "execute_result",
          "data": {
            "text/plain": [
              "1.5"
            ]
          },
          "metadata": {},
          "execution_count": 23
        }
      ]
    },
    {
      "cell_type": "code",
      "source": [
        "### Subtraction\n",
        "D = b-d\n",
        "D"
      ],
      "metadata": {
        "colab": {
          "base_uri": "https://localhost:8080/"
        },
        "id": "oh0uNR3LykpD",
        "outputId": "c96cd98a-0883-4942-8c68-e54188fe9410"
      },
      "execution_count": 24,
      "outputs": [
        {
          "output_type": "execute_result",
          "data": {
            "text/plain": [
              "31.5"
            ]
          },
          "metadata": {},
          "execution_count": 24
        }
      ]
    },
    {
      "cell_type": "code",
      "source": [
        "### Multiplication\n",
        "P = a*d\n",
        "P"
      ],
      "metadata": {
        "colab": {
          "base_uri": "https://localhost:8080/"
        },
        "id": "2NXozmmSzVpT",
        "outputId": "3a71bde8-e604-4a90-b365-b026d06d9ba3"
      },
      "execution_count": 25,
      "outputs": [
        {
          "output_type": "execute_result",
          "data": {
            "text/plain": [
              "-64.0"
            ]
          },
          "metadata": {},
          "execution_count": 25
        }
      ]
    },
    {
      "cell_type": "code",
      "source": [
        "### Division\n",
        "Q = c/a\n",
        "Q"
      ],
      "metadata": {
        "colab": {
          "base_uri": "https://localhost:8080/"
        },
        "id": "HLLMReP_zjeq",
        "outputId": "09aadbff-7f30-4800-caf3-c090daf8cc62"
      },
      "execution_count": 26,
      "outputs": [
        {
          "output_type": "execute_result",
          "data": {
            "text/plain": [
              "0.0"
            ]
          },
          "metadata": {},
          "execution_count": 26
        }
      ]
    },
    {
      "cell_type": "code",
      "source": [
        "### Floor Division\n",
        "Fq = a//b\n",
        "Fq"
      ],
      "metadata": {
        "colab": {
          "base_uri": "https://localhost:8080/"
        },
        "id": "7ginVMbrzrzS",
        "outputId": "f9dd9cc9-865a-4d3a-aab4-fce3f3fe1e0c"
      },
      "execution_count": 27,
      "outputs": [
        {
          "output_type": "execute_result",
          "data": {
            "text/plain": [
              "-4.0"
            ]
          },
          "metadata": {},
          "execution_count": 27
        }
      ]
    },
    {
      "cell_type": "code",
      "source": [
        "### Exponentiation\n",
        "E = a**b\n",
        "E"
      ],
      "metadata": {
        "colab": {
          "base_uri": "https://localhost:8080/"
        },
        "id": "z32zPrAoz4-6",
        "outputId": "f99b10c7-83f5-4166-d85f-71a1e38fdf18"
      },
      "execution_count": 28,
      "outputs": [
        {
          "output_type": "execute_result",
          "data": {
            "text/plain": [
              "0.7071067811865476"
            ]
          },
          "metadata": {},
          "execution_count": 28
        }
      ]
    },
    {
      "cell_type": "code",
      "source": [
        "### Modulo\n",
        "mod = d%a\n",
        "mod"
      ],
      "metadata": {
        "colab": {
          "base_uri": "https://localhost:8080/"
        },
        "id": "BzexmYk_0-3Z",
        "outputId": "d6810206-6d3a-4f78-8da4-09f4dd43f2e5"
      },
      "execution_count": 29,
      "outputs": [
        {
          "output_type": "execute_result",
          "data": {
            "text/plain": [
              "0.0"
            ]
          },
          "metadata": {},
          "execution_count": 29
        }
      ]
    },
    {
      "cell_type": "markdown",
      "source": [
        "### Assignment Operations"
      ],
      "metadata": {
        "id": "77u9xPpR1hSr"
      }
    },
    {
      "cell_type": "code",
      "source": [
        "G, H, J, K = 0, 100, 2, 2"
      ],
      "metadata": {
        "id": "LEtd8JD_1m1Z"
      },
      "execution_count": 30,
      "outputs": []
    },
    {
      "cell_type": "code",
      "source": [
        "G +=a\n",
        "G"
      ],
      "metadata": {
        "colab": {
          "base_uri": "https://localhost:8080/"
        },
        "id": "eJ1dw6lL1yv2",
        "outputId": "92ce47b5-ae97-4bce-8582-af686a7769e7"
      },
      "execution_count": 31,
      "outputs": [
        {
          "output_type": "execute_result",
          "data": {
            "text/plain": [
              "2.0"
            ]
          },
          "metadata": {},
          "execution_count": 31
        }
      ]
    },
    {
      "cell_type": "code",
      "source": [
        "H -= d\n",
        "H"
      ],
      "metadata": {
        "colab": {
          "base_uri": "https://localhost:8080/"
        },
        "id": "1NTau-bk155G",
        "outputId": "f80ea591-540d-4efd-d1bf-a3f014ae0ef8"
      },
      "execution_count": 32,
      "outputs": [
        {
          "output_type": "execute_result",
          "data": {
            "text/plain": [
              "132"
            ]
          },
          "metadata": {},
          "execution_count": 32
        }
      ]
    },
    {
      "cell_type": "code",
      "source": [
        "J *= 3\n",
        "J"
      ],
      "metadata": {
        "colab": {
          "base_uri": "https://localhost:8080/"
        },
        "id": "0xZNT7sN2PWF",
        "outputId": "e1ecff47-6737-4e2c-af6b-6d053f8034fe"
      },
      "execution_count": 34,
      "outputs": [
        {
          "output_type": "execute_result",
          "data": {
            "text/plain": [
              "12"
            ]
          },
          "metadata": {},
          "execution_count": 34
        }
      ]
    },
    {
      "cell_type": "code",
      "source": [
        "K **= 2\n",
        "K"
      ],
      "metadata": {
        "colab": {
          "base_uri": "https://localhost:8080/"
        },
        "id": "mNPF6mFN2x3w",
        "outputId": "32f57692-5667-4e0d-d610-c95e6bf8656b"
      },
      "execution_count": 36,
      "outputs": [
        {
          "output_type": "execute_result",
          "data": {
            "text/plain": [
              "16"
            ]
          },
          "metadata": {},
          "execution_count": 36
        }
      ]
    },
    {
      "cell_type": "markdown",
      "source": [
        "### Comparators"
      ],
      "metadata": {
        "id": "YT6EUexU3YiL"
      }
    },
    {
      "cell_type": "code",
      "source": [
        "res_1, res_2, res_3 = 1, 2.0, \"1\"\n",
        "true_val = 1.0"
      ],
      "metadata": {
        "id": "eOBJuwlK3bHk"
      },
      "execution_count": 37,
      "outputs": []
    },
    {
      "cell_type": "code",
      "source": [
        "## Equality\n",
        "res_1 == true_val"
      ],
      "metadata": {
        "colab": {
          "base_uri": "https://localhost:8080/"
        },
        "id": "jD8kzc8p3tsQ",
        "outputId": "60c7acdd-0b5a-409d-8868-bc0c2d018053"
      },
      "execution_count": 38,
      "outputs": [
        {
          "output_type": "execute_result",
          "data": {
            "text/plain": [
              "True"
            ]
          },
          "metadata": {},
          "execution_count": 38
        }
      ]
    },
    {
      "cell_type": "code",
      "source": [
        "## Non-equality\n",
        "res_2 != true_val"
      ],
      "metadata": {
        "colab": {
          "base_uri": "https://localhost:8080/"
        },
        "id": "rTNeWvI733VO",
        "outputId": "9fb0a4f7-8c19-4bdc-cca4-08a329f878d6"
      },
      "execution_count": 39,
      "outputs": [
        {
          "output_type": "execute_result",
          "data": {
            "text/plain": [
              "True"
            ]
          },
          "metadata": {},
          "execution_count": 39
        }
      ]
    },
    {
      "cell_type": "code",
      "source": [
        "## Inequality\n",
        "t1 = res_1 > res_2\n",
        "t2 = res_1 < res_2/2\n",
        "t3 = res_1 >= res_2/2\n",
        "t4 = res_1 <= res_2\n",
        "t4"
      ],
      "metadata": {
        "colab": {
          "base_uri": "https://localhost:8080/"
        },
        "id": "z1UTR2W74C05",
        "outputId": "71ec5eca-a487-4b50-94c2-9fa0d8448d14"
      },
      "execution_count": 43,
      "outputs": [
        {
          "output_type": "execute_result",
          "data": {
            "text/plain": [
              "True"
            ]
          },
          "metadata": {},
          "execution_count": 43
        }
      ]
    },
    {
      "cell_type": "markdown",
      "source": [
        "### Logical"
      ],
      "metadata": {
        "id": "MATH4XhJ5TWC"
      }
    },
    {
      "cell_type": "code",
      "source": [
        "res_1 == true_val"
      ],
      "metadata": {
        "colab": {
          "base_uri": "https://localhost:8080/"
        },
        "id": "8V7KYur65Vpg",
        "outputId": "507b3468-1bc2-45f5-f74b-57ccab6abb6b"
      },
      "execution_count": 44,
      "outputs": [
        {
          "output_type": "execute_result",
          "data": {
            "text/plain": [
              "True"
            ]
          },
          "metadata": {},
          "execution_count": 44
        }
      ]
    },
    {
      "cell_type": "code",
      "source": [
        "res_1 is true_val"
      ],
      "metadata": {
        "colab": {
          "base_uri": "https://localhost:8080/"
        },
        "id": "9aPBx1Ta5jyO",
        "outputId": "fa7ac3c9-7eb8-49d7-b616-0d115b57d718"
      },
      "execution_count": 45,
      "outputs": [
        {
          "output_type": "execute_result",
          "data": {
            "text/plain": [
              "False"
            ]
          },
          "metadata": {},
          "execution_count": 45
        }
      ]
    },
    {
      "cell_type": "code",
      "source": [
        "res_1 is not true_val"
      ],
      "metadata": {
        "colab": {
          "base_uri": "https://localhost:8080/"
        },
        "id": "sFseGFdt5of-",
        "outputId": "bbfd61c4-3274-436c-8777-b45638ddf73e"
      },
      "execution_count": 46,
      "outputs": [
        {
          "output_type": "execute_result",
          "data": {
            "text/plain": [
              "True"
            ]
          },
          "metadata": {},
          "execution_count": 46
        }
      ]
    },
    {
      "cell_type": "code",
      "source": [
        "p, q = True, False\n",
        "conj = p and q\n",
        "conj"
      ],
      "metadata": {
        "colab": {
          "base_uri": "https://localhost:8080/"
        },
        "id": "XpepPDtS5txn",
        "outputId": "adf19a1c-830b-4822-cb39-192939f8c50c"
      },
      "execution_count": 47,
      "outputs": [
        {
          "output_type": "execute_result",
          "data": {
            "text/plain": [
              "False"
            ]
          },
          "metadata": {},
          "execution_count": 47
        }
      ]
    },
    {
      "cell_type": "code",
      "source": [
        "p, q = True, False\n",
        "disj = p or q\n",
        "disj"
      ],
      "metadata": {
        "colab": {
          "base_uri": "https://localhost:8080/"
        },
        "id": "kImyFIC16sHQ",
        "outputId": "239ae881-6718-4290-b3f6-19830d2765a8"
      },
      "execution_count": 48,
      "outputs": [
        {
          "output_type": "execute_result",
          "data": {
            "text/plain": [
              "True"
            ]
          },
          "metadata": {},
          "execution_count": 48
        }
      ]
    },
    {
      "cell_type": "code",
      "source": [
        "p, q = True, False\n",
        "e = not (p and q)\n",
        "e"
      ],
      "metadata": {
        "colab": {
          "base_uri": "https://localhost:8080/"
        },
        "id": "2m18wDio7JTe",
        "outputId": "a21f19d5-eaba-4df2-fadc-540d9c8d6d65"
      },
      "execution_count": 49,
      "outputs": [
        {
          "output_type": "execute_result",
          "data": {
            "text/plain": [
              "True"
            ]
          },
          "metadata": {},
          "execution_count": 49
        }
      ]
    },
    {
      "cell_type": "code",
      "source": [
        "p, q = True, False\n",
        "xor = (not p and q) or (p and not q)\n",
        "xor"
      ],
      "metadata": {
        "colab": {
          "base_uri": "https://localhost:8080/"
        },
        "id": "6TPMBigO7fkF",
        "outputId": "123a229a-4683-4e67-8a2a-88d36b63a349"
      },
      "execution_count": 50,
      "outputs": [
        {
          "output_type": "execute_result",
          "data": {
            "text/plain": [
              "True"
            ]
          },
          "metadata": {},
          "execution_count": 50
        }
      ]
    },
    {
      "cell_type": "markdown",
      "source": [
        "I/O"
      ],
      "metadata": {
        "id": "zQ6_GiRW708t"
      }
    },
    {
      "cell_type": "code",
      "source": [
        "print (\"Hello World\")"
      ],
      "metadata": {
        "colab": {
          "base_uri": "https://localhost:8080/"
        },
        "id": "VZi4_6rh8GlG",
        "outputId": "445381a7-205a-4aef-e909-f2994226b867"
      },
      "execution_count": 51,
      "outputs": [
        {
          "output_type": "stream",
          "name": "stdout",
          "text": [
            "Hello World\n"
          ]
        }
      ]
    },
    {
      "cell_type": "code",
      "source": [
        "cnt = 1"
      ],
      "metadata": {
        "id": "K7GFTBHq8Mse"
      },
      "execution_count": 52,
      "outputs": []
    },
    {
      "cell_type": "code",
      "source": [
        "string = \"Hello World\"\n",
        "print(string,\", Current run count is:\", cnt)\n",
        "cnt += 1"
      ],
      "metadata": {
        "colab": {
          "base_uri": "https://localhost:8080/"
        },
        "id": "D7yFVw3j8Uq0",
        "outputId": "4a78fbfc-8d48-45e8-cb41-652b73bdd302"
      },
      "execution_count": 57,
      "outputs": [
        {
          "output_type": "stream",
          "name": "stdout",
          "text": [
            "Hello World , Current run count is: 2\n"
          ]
        }
      ]
    },
    {
      "cell_type": "code",
      "source": [
        "print(f\"{string}, Current count is: {cnt}\")"
      ],
      "metadata": {
        "colab": {
          "base_uri": "https://localhost:8080/"
        },
        "id": "RoRg1KNy8rt4",
        "outputId": "ce6fdaf3-90c7-4cae-d970-daf97aba1a8a"
      },
      "execution_count": 58,
      "outputs": [
        {
          "output_type": "stream",
          "name": "stdout",
          "text": [
            "Hello World, Current count is: 3\n"
          ]
        }
      ]
    },
    {
      "cell_type": "code",
      "source": [
        "sem_grade = 82.243564657461234\n",
        "name = \"two\"\n",
        "print(\"Hello {}, your semestral grade is: {}\".format(name, sem_grade))"
      ],
      "metadata": {
        "colab": {
          "base_uri": "https://localhost:8080/"
        },
        "id": "70bY3U7n_czu",
        "outputId": "fd6b4d56-33bf-4948-a259-9aa66bd3f3b0"
      },
      "execution_count": 69,
      "outputs": [
        {
          "output_type": "stream",
          "name": "stdout",
          "text": [
            "Hello two, your semestral grade is: 82.24356465746123\n"
          ]
        }
      ]
    },
    {
      "cell_type": "code",
      "source": [
        ""
      ],
      "metadata": {
        "id": "fsn6pDY1-TLq"
      },
      "execution_count": null,
      "outputs": []
    }
  ]
}