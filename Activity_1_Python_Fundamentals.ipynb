{
  "nbformat": 4,
  "nbformat_minor": 0,
  "metadata": {
    "colab": {
      "name": "Activity 1 - Python Fundamentals",
      "provenance": [],
      "collapsed_sections": [],
      "authorship_tag": "ABX9TyPib4+ks7kPInzcUPKfe6Mn",
      "include_colab_link": true
    },
    "kernelspec": {
      "name": "python3",
      "display_name": "Python 3"
    },
    "language_info": {
      "name": "python"
    }
  },
  "cells": [
    {
      "cell_type": "markdown",
      "metadata": {
        "id": "view-in-github",
        "colab_type": "text"
      },
      "source": [
        "<a href=\"https://colab.research.google.com/github/purple0607/Linear-Algebra_2nd-Sem/blob/main/Activity_1_Python_Fundamentals.ipynb\" target=\"_parent\"><img src=\"https://colab.research.google.com/assets/colab-badge.svg\" alt=\"Open In Colab\"/></a>"
      ]
    },
    {
      "cell_type": "markdown",
      "source": [
        "# Welcome to Python Fundamentals\n",
        "In this module, we are going to establish or review our skills in Python programming. In this notebook we are going to cover:\n",
        "* Variables and Data Types \n",
        "* Operations\n",
        "* Input and Output Operations\n",
        "* Logic Control\n",
        "* Iterables\n",
        "* Functions\n",
        "\n"
      ],
      "metadata": {
        "id": "z3sYEq-atVjF"
      }
    },
    {
      "cell_type": "markdown",
      "source": [
        "## Variable and Data Types\n",
        "##### A variable is a memory space in a programming language where a value is stored. The value you've stored may change in the future if the specifications change [1].\n",
        "Meanwhile, data types are used to classify or categorize items of knowledge. It is the helpful kind that indicates which operations on given data are frequently done. Python's programming language relies heavily on the idea of data types. In the Python programming language, there are 6 standard data types that you could classify and each value has its own Python data type [2]. The following standard data types are as follows:\n",
        "\n",
        "1.) Numeric - integers (whole numbers) , complex numbers and float (decimal numbers)\n",
        "\n",
        "2.) Boolean - truth values that represent Yes/No\n",
        "\n",
        "3.) String - enclose characters in quotes\n",
        "\n",
        "4.) List - series of values ; declared by using brackets\n",
        "\n",
        "5.) Dictionary - lists of key:value pairs.\n",
        "\n",
        "6.) Tuple - group of values like a list; defined by parenthesis\n",
        "\n",
        "Furthermore, it is also possible to convert a value to another type since Python is dynamically encoded. Python includes a set of functions that accomplish the same thing [3].\n"
      ],
      "metadata": {
        "id": "mpJ96kbOtf60"
      }
    },
    {
      "cell_type": "code",
      "source": [
        "x = 5\n",
        "g,p = 2, -13\n",
        "p"
      ],
      "metadata": {
        "colab": {
          "base_uri": "https://localhost:8080/"
        },
        "id": "xVSJgQ_htiR1",
        "outputId": "23b73f5f-321a-4210-91ad-a305e88631e2"
      },
      "execution_count": 2,
      "outputs": [
        {
          "output_type": "execute_result",
          "data": {
            "text/plain": [
              "-13"
            ]
          },
          "metadata": {},
          "execution_count": 2
        }
      ]
    },
    {
      "cell_type": "code",
      "source": [
        "type(x)"
      ],
      "metadata": {
        "colab": {
          "base_uri": "https://localhost:8080/"
        },
        "id": "N6T4aBlDubfe",
        "outputId": "49962ffa-dcfb-4d0a-a4de-9f3c196d148d"
      },
      "execution_count": 3,
      "outputs": [
        {
          "output_type": "execute_result",
          "data": {
            "text/plain": [
              "int"
            ]
          },
          "metadata": {},
          "execution_count": 3
        }
      ]
    },
    {
      "cell_type": "code",
      "source": [
        "y = 7.0\n",
        "type(y)"
      ],
      "metadata": {
        "colab": {
          "base_uri": "https://localhost:8080/"
        },
        "id": "UX0saaoUvXPm",
        "outputId": "2bb02026-2d90-40e0-8caa-c7d4c70e2848"
      },
      "execution_count": 4,
      "outputs": [
        {
          "output_type": "execute_result",
          "data": {
            "text/plain": [
              "float"
            ]
          },
          "metadata": {},
          "execution_count": 4
        }
      ]
    },
    {
      "cell_type": "code",
      "source": [
        "x = float (x)\n",
        "x"
      ],
      "metadata": {
        "colab": {
          "base_uri": "https://localhost:8080/"
        },
        "id": "g7MIr3pwviwV",
        "outputId": "77a732ef-5d58-42a1-aa3b-68521b890c55"
      },
      "execution_count": 5,
      "outputs": [
        {
          "output_type": "execute_result",
          "data": {
            "text/plain": [
              "5.0"
            ]
          },
          "metadata": {},
          "execution_count": 5
        }
      ]
    },
    {
      "cell_type": "code",
      "source": [
        "x = float (x)\n",
        "type(x)"
      ],
      "metadata": {
        "colab": {
          "base_uri": "https://localhost:8080/"
        },
        "id": "2fRlHB9Ev1OV",
        "outputId": "d43ba789-2b31-4519-8092-ed7a4ce50d59"
      },
      "execution_count": 6,
      "outputs": [
        {
          "output_type": "execute_result",
          "data": {
            "text/plain": [
              "float"
            ]
          },
          "metadata": {},
          "execution_count": 6
        }
      ]
    },
    {
      "cell_type": "code",
      "source": [
        "s,t,u = \"9\",'1.4','three'\n",
        "type(u)"
      ],
      "metadata": {
        "colab": {
          "base_uri": "https://localhost:8080/"
        },
        "id": "mJW6yQzewoHF",
        "outputId": "be2a773f-c105-4772-f9d3-b16be9c524fd"
      },
      "execution_count": 7,
      "outputs": [
        {
          "output_type": "execute_result",
          "data": {
            "text/plain": [
              "str"
            ]
          },
          "metadata": {},
          "execution_count": 7
        }
      ]
    },
    {
      "cell_type": "code",
      "source": [
        "s_int = int(s)\n",
        "s_int"
      ],
      "metadata": {
        "colab": {
          "base_uri": "https://localhost:8080/"
        },
        "id": "BWX4xOK-w2sQ",
        "outputId": "eabff803-c6f4-42b7-8b0c-d8b2aa366d14"
      },
      "execution_count": 8,
      "outputs": [
        {
          "output_type": "execute_result",
          "data": {
            "text/plain": [
              "9"
            ]
          },
          "metadata": {},
          "execution_count": 8
        }
      ]
    },
    {
      "cell_type": "code",
      "source": [
        "z = 1+23j\n",
        "type(z)"
      ],
      "metadata": {
        "colab": {
          "base_uri": "https://localhost:8080/"
        },
        "id": "R0_bS-nN50dx",
        "outputId": "44646aec-ead7-42b2-f68d-9749a1828c9f"
      },
      "execution_count": 11,
      "outputs": [
        {
          "output_type": "execute_result",
          "data": {
            "text/plain": [
              "complex"
            ]
          },
          "metadata": {},
          "execution_count": 11
        }
      ]
    },
    {
      "cell_type": "markdown",
      "source": [
        "## Operations\n",
        "##### Operators are Python-specific symbols that perform logical computations and mathematical operations on variables and values. The operand is the value on which the operator executes [4]."
      ],
      "metadata": {
        "id": "oawLIA_6x84u"
      }
    },
    {
      "cell_type": "markdown",
      "source": [
        "### Arithmetic\n",
        "It consists of 7 operators and executes different mathematical operations depending on their function. The Arithmetic Operations uses numeric data types such as integers, float, and complex numbers [5].\n",
        "\n",
        "* Addition - adding two values; the symbol is a plus sign (+)\n",
        "\n",
        "* Subtraction - left operand is subtracted from right operand; the symbol is a minus sign (-)\n",
        "\n",
        "* Multiplication - getting the product of two values; the symbol is an asterisk (*)\n",
        "\n",
        "* Division - the left operand is divided by the right operand; regardless of the operands, the outcome is always a float number;  the symbol is a single slash (/)\n",
        "\n",
        "* Floor Division - the right operand divides the left operand, and the answer is rounded up to the closest integer, so the quotient does not contain a decimal point; the symbol is double slash (//)\n",
        "\n",
        "* Exponentiation - the first operand is raised by the value/power of the second operand; the symbol is double asterisks (**)\n",
        "\n",
        "* Modulo - it performs the division operation, but it only returns the remainder of the quotient; the symbol is a percentage sign (%)"
      ],
      "metadata": {
        "id": "1EKigwvdyDUf"
      }
    },
    {
      "cell_type": "code",
      "source": [
        "a,b,c,d = 14.0, -1.8, 51.0, -37.0"
      ],
      "metadata": {
        "id": "iFc9tyiNyMWr"
      },
      "execution_count": 21,
      "outputs": []
    },
    {
      "cell_type": "code",
      "source": [
        "### Addition\n",
        "S = a+d\n",
        "S"
      ],
      "metadata": {
        "colab": {
          "base_uri": "https://localhost:8080/"
        },
        "id": "7RK7VArHxTRc",
        "outputId": "e73b00fd-e9fa-45a0-d0dd-bd759473ea0c"
      },
      "execution_count": 13,
      "outputs": [
        {
          "output_type": "execute_result",
          "data": {
            "text/plain": [
              "-23.0"
            ]
          },
          "metadata": {},
          "execution_count": 13
        }
      ]
    },
    {
      "cell_type": "code",
      "source": [
        "### Subtraction\n",
        "D = c-a\n",
        "D"
      ],
      "metadata": {
        "colab": {
          "base_uri": "https://localhost:8080/"
        },
        "id": "oh0uNR3LykpD",
        "outputId": "bb6e76ce-c71f-40d0-ab5d-224b78f56f18"
      },
      "execution_count": 14,
      "outputs": [
        {
          "output_type": "execute_result",
          "data": {
            "text/plain": [
              "37.0"
            ]
          },
          "metadata": {},
          "execution_count": 14
        }
      ]
    },
    {
      "cell_type": "code",
      "source": [
        "### Multiplication\n",
        "P = a*b\n",
        "P"
      ],
      "metadata": {
        "colab": {
          "base_uri": "https://localhost:8080/"
        },
        "id": "2NXozmmSzVpT",
        "outputId": "b20dd2b9-7bf6-4517-a25a-ac5303261c71"
      },
      "execution_count": 15,
      "outputs": [
        {
          "output_type": "execute_result",
          "data": {
            "text/plain": [
              "-25.2"
            ]
          },
          "metadata": {},
          "execution_count": 15
        }
      ]
    },
    {
      "cell_type": "code",
      "source": [
        "### Division\n",
        "Q = d/b\n",
        "Q"
      ],
      "metadata": {
        "colab": {
          "base_uri": "https://localhost:8080/"
        },
        "id": "HLLMReP_zjeq",
        "outputId": "fa590ca5-6937-4dab-8cfb-7353c6649f8c"
      },
      "execution_count": 16,
      "outputs": [
        {
          "output_type": "execute_result",
          "data": {
            "text/plain": [
              "20.555555555555554"
            ]
          },
          "metadata": {},
          "execution_count": 16
        }
      ]
    },
    {
      "cell_type": "code",
      "source": [
        "### Floor Division\n",
        "Fq = c//b\n",
        "Fq"
      ],
      "metadata": {
        "colab": {
          "base_uri": "https://localhost:8080/"
        },
        "id": "7ginVMbrzrzS",
        "outputId": "08e79e46-32b4-4ef2-ccfc-064d03ac41ff"
      },
      "execution_count": 17,
      "outputs": [
        {
          "output_type": "execute_result",
          "data": {
            "text/plain": [
              "-29.0"
            ]
          },
          "metadata": {},
          "execution_count": 17
        }
      ]
    },
    {
      "cell_type": "code",
      "source": [
        "### Exponentiation\n",
        "E = b**a\n",
        "E"
      ],
      "metadata": {
        "colab": {
          "base_uri": "https://localhost:8080/"
        },
        "id": "z32zPrAoz4-6",
        "outputId": "285314a3-4be6-4734-ba38-b42fe53b7661"
      },
      "execution_count": 18,
      "outputs": [
        {
          "output_type": "execute_result",
          "data": {
            "text/plain": [
              "3748.1336758208117"
            ]
          },
          "metadata": {},
          "execution_count": 18
        }
      ]
    },
    {
      "cell_type": "code",
      "source": [
        "### Modulo\n",
        "mod = a%d\n",
        "mod"
      ],
      "metadata": {
        "colab": {
          "base_uri": "https://localhost:8080/"
        },
        "id": "BzexmYk_0-3Z",
        "outputId": "974a17bc-3476-4048-a5dc-d75257e23122"
      },
      "execution_count": 19,
      "outputs": [
        {
          "output_type": "execute_result",
          "data": {
            "text/plain": [
              "-23.0"
            ]
          },
          "metadata": {},
          "execution_count": 19
        }
      ]
    },
    {
      "cell_type": "markdown",
      "source": [
        "### Assignment Operations\n",
        "Python uses assignment operators to allocate values to variables. Following the assignment, the assignment operators return the value of the object provided by the left operand [6].\n",
        "\n",
        "For instance, z = 20 is a basic assignment operator that allocates the value 20 on the right to the left-hand variable \"z.\"\n",
        "\n",
        "In Python, there are several compound operators, such as z += 20, which utilizes an increment to increase the value of the variable and then assigns it. The result is z = z + 20."
      ],
      "metadata": {
        "id": "77u9xPpR1hSr"
      }
    },
    {
      "cell_type": "code",
      "source": [
        "G, H, J, K = 0, 100, 3, 28"
      ],
      "metadata": {
        "id": "LEtd8JD_1m1Z"
      },
      "execution_count": 23,
      "outputs": []
    },
    {
      "cell_type": "code",
      "source": [
        "G +=b\n",
        "G"
      ],
      "metadata": {
        "colab": {
          "base_uri": "https://localhost:8080/"
        },
        "id": "eJ1dw6lL1yv2",
        "outputId": "992a30b9-acf4-48d5-d7a3-0f6bc50922bb"
      },
      "execution_count": 24,
      "outputs": [
        {
          "output_type": "execute_result",
          "data": {
            "text/plain": [
              "-1.8"
            ]
          },
          "metadata": {},
          "execution_count": 24
        }
      ]
    },
    {
      "cell_type": "code",
      "source": [
        "H -= a\n",
        "H"
      ],
      "metadata": {
        "colab": {
          "base_uri": "https://localhost:8080/"
        },
        "id": "1NTau-bk155G",
        "outputId": "c6a94c10-c228-4131-a47b-0d008f1b66f7"
      },
      "execution_count": 25,
      "outputs": [
        {
          "output_type": "execute_result",
          "data": {
            "text/plain": [
              "86.0"
            ]
          },
          "metadata": {},
          "execution_count": 25
        }
      ]
    },
    {
      "cell_type": "code",
      "source": [
        "J *= 4\n",
        "J"
      ],
      "metadata": {
        "colab": {
          "base_uri": "https://localhost:8080/"
        },
        "id": "0xZNT7sN2PWF",
        "outputId": "3bb15f0b-6284-4052-8b6c-17a62e3259c7"
      },
      "execution_count": 26,
      "outputs": [
        {
          "output_type": "execute_result",
          "data": {
            "text/plain": [
              "12"
            ]
          },
          "metadata": {},
          "execution_count": 26
        }
      ]
    },
    {
      "cell_type": "code",
      "source": [
        "K **= 3\n",
        "K"
      ],
      "metadata": {
        "colab": {
          "base_uri": "https://localhost:8080/"
        },
        "id": "mNPF6mFN2x3w",
        "outputId": "134fd245-f2c7-4215-9c18-44a52a938b35"
      },
      "execution_count": 27,
      "outputs": [
        {
          "output_type": "execute_result",
          "data": {
            "text/plain": [
              "21952"
            ]
          },
          "metadata": {},
          "execution_count": 27
        }
      ]
    },
    {
      "cell_type": "markdown",
      "source": [
        "### Comparators\n",
        "This operation is commonly used in value comparisons, and it generates a boolean data type that is either True or False, depending on the operators used. It is also used to verify the values of the left and right operands according to the condition [6].\n",
        "\n",
        "* Equality - it comes from the term itself; if the condition of two operands being equal or having the same value is met, True is returned; otherwise, False is returned; the symbol is two equality signs (==)\n",
        "\n",
        "* Non-equality - it displays True if both operands are not equal and False if the two operands share the same value or are equal; the symbol is an exclamation mark and an equality sign (!=)\n",
        "\n",
        "* Inequality - under this are the four operators, namely:\n",
        "\n",
        "-Greater than - if the left operand is greater than the right operand, True will be displayed, and if not, then it will display False; the symbol is greater than sign (>)\n",
        "\n",
        "-Less than - if the value of the first operand is less than the second operand, then it will display True, but if not, False will be displayed; the symbol is less than sign (<)\n",
        "\n",
        "-Greater than or Equal to - when the value of the left operand is greater than or equal to the right operand, then the condition is attained so it will return True, while False is returned if not; the symbol is greater than sign and an equality sign (>=)\n",
        "\n",
        "-Less than or Equal to - True is returned if the condition is satisfied wherein the left operand is less than or equal to the right operand, otherwise False if not; the symbol is less than or equal to (<=)"
      ],
      "metadata": {
        "id": "YT6EUexU3YiL"
      }
    },
    {
      "cell_type": "code",
      "source": [
        "res_1, res_2, res_3 = 15, 7.0, \"9\"\n",
        "true_val = 1.0"
      ],
      "metadata": {
        "id": "eOBJuwlK3bHk"
      },
      "execution_count": 28,
      "outputs": []
    },
    {
      "cell_type": "code",
      "source": [
        "## Equality\n",
        "res_1 == true_val"
      ],
      "metadata": {
        "colab": {
          "base_uri": "https://localhost:8080/"
        },
        "id": "jD8kzc8p3tsQ",
        "outputId": "4f5c761a-aa27-4931-b9e8-0ed6d1d8b39c"
      },
      "execution_count": 29,
      "outputs": [
        {
          "output_type": "execute_result",
          "data": {
            "text/plain": [
              "False"
            ]
          },
          "metadata": {},
          "execution_count": 29
        }
      ]
    },
    {
      "cell_type": "code",
      "source": [
        "## Non-equality\n",
        "res_2 != true_val"
      ],
      "metadata": {
        "colab": {
          "base_uri": "https://localhost:8080/"
        },
        "id": "rTNeWvI733VO",
        "outputId": "0f3c45be-5775-46f7-abcb-b1cc09c08fa0"
      },
      "execution_count": 30,
      "outputs": [
        {
          "output_type": "execute_result",
          "data": {
            "text/plain": [
              "True"
            ]
          },
          "metadata": {},
          "execution_count": 30
        }
      ]
    },
    {
      "cell_type": "code",
      "source": [
        "## Inequality\n",
        "t1 = res_1 > res_2\n",
        "t2 = res_1 < res_2/2\n",
        "t3 = res_1 >= res_2/2\n",
        "t4 = res_1 <= res_2\n",
        "t3"
      ],
      "metadata": {
        "colab": {
          "base_uri": "https://localhost:8080/"
        },
        "id": "z1UTR2W74C05",
        "outputId": "cafb78ee-a85f-45b7-c715-4be1c65e39f3"
      },
      "execution_count": 32,
      "outputs": [
        {
          "output_type": "execute_result",
          "data": {
            "text/plain": [
              "True"
            ]
          },
          "metadata": {},
          "execution_count": 32
        }
      ]
    },
    {
      "cell_type": "markdown",
      "source": [
        "### Logical\n",
        "In Python, conditional expressions are expressed using logical operators (either True or False).\n",
        "\n",
        "The logical operators includes \"and\", \"or\", \"not\" operators."
      ],
      "metadata": {
        "id": "MATH4XhJ5TWC"
      }
    },
    {
      "cell_type": "code",
      "source": [
        "res_1 == true_val"
      ],
      "metadata": {
        "colab": {
          "base_uri": "https://localhost:8080/"
        },
        "id": "8V7KYur65Vpg",
        "outputId": "507b3468-1bc2-45f5-f74b-57ccab6abb6b"
      },
      "execution_count": null,
      "outputs": [
        {
          "output_type": "execute_result",
          "data": {
            "text/plain": [
              "True"
            ]
          },
          "metadata": {},
          "execution_count": 44
        }
      ]
    },
    {
      "cell_type": "code",
      "source": [
        "res_1 is true_val"
      ],
      "metadata": {
        "colab": {
          "base_uri": "https://localhost:8080/"
        },
        "id": "9aPBx1Ta5jyO",
        "outputId": "fa7ac3c9-7eb8-49d7-b616-0d115b57d718"
      },
      "execution_count": null,
      "outputs": [
        {
          "output_type": "execute_result",
          "data": {
            "text/plain": [
              "False"
            ]
          },
          "metadata": {},
          "execution_count": 45
        }
      ]
    },
    {
      "cell_type": "code",
      "source": [
        "res_1 is not true_val"
      ],
      "metadata": {
        "colab": {
          "base_uri": "https://localhost:8080/"
        },
        "id": "sFseGFdt5of-",
        "outputId": "bbfd61c4-3274-436c-8777-b45638ddf73e"
      },
      "execution_count": null,
      "outputs": [
        {
          "output_type": "execute_result",
          "data": {
            "text/plain": [
              "True"
            ]
          },
          "metadata": {},
          "execution_count": 46
        }
      ]
    },
    {
      "cell_type": "code",
      "source": [
        "p, q = True, False\n",
        "conj = p and q\n",
        "conj"
      ],
      "metadata": {
        "colab": {
          "base_uri": "https://localhost:8080/"
        },
        "id": "XpepPDtS5txn",
        "outputId": "adf19a1c-830b-4822-cb39-192939f8c50c"
      },
      "execution_count": null,
      "outputs": [
        {
          "output_type": "execute_result",
          "data": {
            "text/plain": [
              "False"
            ]
          },
          "metadata": {},
          "execution_count": 47
        }
      ]
    },
    {
      "cell_type": "code",
      "source": [
        "p, q = True, False\n",
        "disj = p or q\n",
        "disj"
      ],
      "metadata": {
        "colab": {
          "base_uri": "https://localhost:8080/"
        },
        "id": "kImyFIC16sHQ",
        "outputId": "239ae881-6718-4290-b3f6-19830d2765a8"
      },
      "execution_count": null,
      "outputs": [
        {
          "output_type": "execute_result",
          "data": {
            "text/plain": [
              "True"
            ]
          },
          "metadata": {},
          "execution_count": 48
        }
      ]
    },
    {
      "cell_type": "code",
      "source": [
        "p, q = True, False\n",
        "e = not (p and q)\n",
        "e"
      ],
      "metadata": {
        "colab": {
          "base_uri": "https://localhost:8080/"
        },
        "id": "2m18wDio7JTe",
        "outputId": "a21f19d5-eaba-4df2-fadc-540d9c8d6d65"
      },
      "execution_count": null,
      "outputs": [
        {
          "output_type": "execute_result",
          "data": {
            "text/plain": [
              "True"
            ]
          },
          "metadata": {},
          "execution_count": 49
        }
      ]
    },
    {
      "cell_type": "code",
      "source": [
        "p, q = True, False\n",
        "xor = (not p and q) or (p and not q)\n",
        "xor"
      ],
      "metadata": {
        "colab": {
          "base_uri": "https://localhost:8080/"
        },
        "id": "6TPMBigO7fkF",
        "outputId": "123a229a-4683-4e67-8a2a-88d36b63a349"
      },
      "execution_count": null,
      "outputs": [
        {
          "output_type": "execute_result",
          "data": {
            "text/plain": [
              "True"
            ]
          },
          "metadata": {},
          "execution_count": 50
        }
      ]
    },
    {
      "cell_type": "markdown",
      "source": [
        "### I/O\n",
        "It functions by presenting the inputted data through the use of the different codes\n",
        "* print - the output is the data that has been inputted; an output command\n",
        "* cnt - it represents count, or it is a counter; the declared value will be used in performing arithmetic operations like addition, subtraction, division, multiplication, and floor division\n",
        "* f - also used to call out the string, but it uses braces (it follows the format of C++ programming)\n",
        "* .format - it calls out the variables, so the output will be the inputted data on the variables\n",
        "* \\n- it is the command for entering or next line\n",
        "* \\t - it is the command for tab\n",
        "* input - this command produces an input field where you can put a text or a value and will return the evaluated result if the input is a valid Python expression "
      ],
      "metadata": {
        "id": "zQ6_GiRW708t"
      }
    },
    {
      "cell_type": "code",
      "source": [
        "print (\"Good Day\")"
      ],
      "metadata": {
        "colab": {
          "base_uri": "https://localhost:8080/"
        },
        "id": "VZi4_6rh8GlG",
        "outputId": "165b00c2-736b-45d8-f93e-8de0eb6a492b"
      },
      "execution_count": 33,
      "outputs": [
        {
          "output_type": "stream",
          "name": "stdout",
          "text": [
            "Good Day\n"
          ]
        }
      ]
    },
    {
      "cell_type": "code",
      "source": [
        "cnt = 3"
      ],
      "metadata": {
        "id": "K7GFTBHq8Mse"
      },
      "execution_count": 34,
      "outputs": []
    },
    {
      "cell_type": "code",
      "source": [
        "string = \"Good Day\"\n",
        "print(string,\", Current run count is:\", cnt)\n",
        "cnt += 5"
      ],
      "metadata": {
        "colab": {
          "base_uri": "https://localhost:8080/"
        },
        "id": "D7yFVw3j8Uq0",
        "outputId": "451b894d-0fbe-4f63-84ea-05a490367541"
      },
      "execution_count": 36,
      "outputs": [
        {
          "output_type": "stream",
          "name": "stdout",
          "text": [
            "Good Day , Current run count is: 8\n"
          ]
        }
      ]
    },
    {
      "cell_type": "code",
      "source": [
        "print(f\"{string}, Current count is: {cnt}\")"
      ],
      "metadata": {
        "colab": {
          "base_uri": "https://localhost:8080/"
        },
        "id": "RoRg1KNy8rt4",
        "outputId": "5c21119e-7e5f-42be-a2ef-5a6830653f87"
      },
      "execution_count": 37,
      "outputs": [
        {
          "output_type": "stream",
          "name": "stdout",
          "text": [
            "Good Day, Current count is: 13\n"
          ]
        }
      ]
    },
    {
      "cell_type": "code",
      "source": [
        "sem_grade = 93.9152708938\n",
        "name = \"White\"\n",
        "print(\"Hello {}, your semestral grade is: {}\".format(name, sem_grade))"
      ],
      "metadata": {
        "colab": {
          "base_uri": "https://localhost:8080/"
        },
        "id": "70bY3U7n_czu",
        "outputId": "4fafdece-a8e9-48d2-8459-e12e483c7995"
      },
      "execution_count": 39,
      "outputs": [
        {
          "output_type": "stream",
          "name": "stdout",
          "text": [
            "Hello White, your semestral grade is: 93.9152708938\n"
          ]
        }
      ]
    },
    {
      "cell_type": "code",
      "source": [
        "w_pg, w_mg, w_fg = 0.3, 0.3, 0.4\n",
        "print(\"The weights of your semestral grades are:\\\n",
        "\\n\\t{:.2%} for Prelims\\\n",
        "\\n\\t{:.2%} for Midterms, and\\\n",
        "\\n\\t{:.2%} for Finals.\" .format (w_pg, w_mg, w_fg))"
      ],
      "metadata": {
        "id": "fsn6pDY1-TLq",
        "colab": {
          "base_uri": "https://localhost:8080/"
        },
        "outputId": "191a1be9-cd7d-47f0-fe57-4b7405c61012"
      },
      "execution_count": 40,
      "outputs": [
        {
          "output_type": "stream",
          "name": "stdout",
          "text": [
            "The weights of your semestral grades are:\n",
            "\t30.00% for Prelims\n",
            "\t30.00% for Midterms, and\n",
            "\t40.00% for Finals.\n"
          ]
        }
      ]
    },
    {
      "cell_type": "code",
      "source": [
        "x = input(\"enter a number: \")\n",
        "x"
      ],
      "metadata": {
        "colab": {
          "base_uri": "https://localhost:8080/",
          "height": 53
        },
        "id": "K4JmT05OvSli",
        "outputId": "3d7a7e80-4e95-4027-f45a-34fd26d002e8"
      },
      "execution_count": 42,
      "outputs": [
        {
          "name": "stdout",
          "output_type": "stream",
          "text": [
            "enter a number: 29\n"
          ]
        },
        {
          "output_type": "execute_result",
          "data": {
            "application/vnd.google.colaboratory.intrinsic+json": {
              "type": "string"
            },
            "text/plain": [
              "'29'"
            ]
          },
          "metadata": {},
          "execution_count": 42
        }
      ]
    },
    {
      "cell_type": "code",
      "source": [
        "name = input(\"Name: \")\n",
        "pg = input(\"Enter prelim grade: \")\n",
        "mg = input(\"Enter midterm grade: \")\n",
        "fg = input(\"Enter finals grade: \")\n",
        "sem_grade = None\n",
        "print(\"Hello {}, your semestral grade is: {}\".format(name, sem_grade))"
      ],
      "metadata": {
        "colab": {
          "base_uri": "https://localhost:8080/"
        },
        "id": "F_vcRAmI0Hfw",
        "outputId": "a7083975-f1a1-488c-9b56-8af2b383792c"
      },
      "execution_count": 43,
      "outputs": [
        {
          "output_type": "stream",
          "name": "stdout",
          "text": [
            "Name: Purple\n",
            "Enter prelim grade: 97\n",
            "Enter midterm grade: 98\n",
            "Enter finals grade: 99\n",
            "Hello Purple, your semestral grade is: None\n"
          ]
        }
      ]
    },
    {
      "cell_type": "markdown",
      "source": [
        "#Looping Statement\n",
        "Statements are generally performed successively ; the first expression in a function is processed first, followed by the second, and so on. There may be instances when you need to run a section of code repeated [7].\n",
        "\n",
        "Programming languages have a variety of control structures that enable the creation of more complex execution routes.\n",
        "\n",
        "A loop is a statement that comprises commands that are repeated indefinitely until a certain condition is met. When a process must be performed numerous times, loops enable us to eliminate code duplication. By using loops, we may condense those hundred lines of code into a handful [7]."
      ],
      "metadata": {
        "id": "XZK7qiipwDAz"
      }
    },
    {
      "cell_type": "markdown",
      "source": [
        "##While\n",
        "In Python,  while loop is used to continually execute a sequence of statements until a specified condition is met. And when the condition is false, the line directly after the loop is run in the algorithm. It conducts a condition check prior to performing the loop body \n",
        "\n",
        "Furthermore, while loop is an example of an infinite iteration. The term \"indefinite iteration\" refers to the fact that the number of times the loop is run is not stated explicitly [8]."
      ],
      "metadata": {
        "id": "6Ia7MG1mwNmq"
      }
    },
    {
      "cell_type": "code",
      "source": [
        "## while loops\n",
        "i, j = 25, 500\n",
        "while(i<=j):\n",
        "    print (f\"{i}\\t|\\t{j}\")\n",
        "    i+=35"
      ],
      "metadata": {
        "colab": {
          "base_uri": "https://localhost:8080/"
        },
        "id": "ulc8hblMwPpj",
        "outputId": "4cd7bfd0-3606-4c87-cba8-a9d03612d5bc"
      },
      "execution_count": 50,
      "outputs": [
        {
          "output_type": "stream",
          "name": "stdout",
          "text": [
            "25\t|\t500\n",
            "60\t|\t500\n",
            "95\t|\t500\n",
            "130\t|\t500\n",
            "165\t|\t500\n",
            "200\t|\t500\n",
            "235\t|\t500\n",
            "270\t|\t500\n",
            "305\t|\t500\n",
            "340\t|\t500\n",
            "375\t|\t500\n",
            "410\t|\t500\n",
            "445\t|\t500\n",
            "480\t|\t500\n"
          ]
        }
      ]
    },
    {
      "cell_type": "markdown",
      "source": [
        "##For\n",
        "For loops are utilized when a piece of code has to be repeated a certain number of times. The for-loop is never used alone; it is always combined with an iterable object, such as a list or a range. The Python for statement iterates over the elements of a sequence in order, each time executing the block [9].\n",
        "\n",
        "In simple terms, for loop repeatedly runs a set of statements and simplifies the code that maintains the loop variable."
      ],
      "metadata": {
        "id": "Xg9nMobyxazK"
      }
    },
    {
      "cell_type": "code",
      "source": [
        "# for(int 1=0; i<10;, 1++){\n",
        "# printf(i)\n",
        "# }\n",
        "\n",
        "i=0\n",
        "for i in range(13):\n",
        "    print(i)"
      ],
      "metadata": {
        "colab": {
          "base_uri": "https://localhost:8080/"
        },
        "id": "2OZiaPJIxd2H",
        "outputId": "b59ef786-4df9-430c-c75b-0d73b2f0574e"
      },
      "execution_count": null,
      "outputs": [
        {
          "output_type": "stream",
          "name": "stdout",
          "text": [
            "0\n",
            "1\n",
            "2\n",
            "3\n",
            "4\n",
            "5\n",
            "6\n",
            "7\n",
            "8\n",
            "9\n",
            "10\n",
            "11\n",
            "12\n"
          ]
        }
      ]
    },
    {
      "cell_type": "code",
      "source": [
        "playlist = [\"Your Love\", \"Huling Sayaw\", \"Iris\"]\n",
        "print('Now Playing:\\n')\n",
        "for song in playlist:\n",
        "    print(song)"
      ],
      "metadata": {
        "colab": {
          "base_uri": "https://localhost:8080/"
        },
        "id": "JRgqIj1yyLQp",
        "outputId": "26f45df5-6be3-4e82-fcae-f282e8f89a70"
      },
      "execution_count": 51,
      "outputs": [
        {
          "output_type": "stream",
          "name": "stdout",
          "text": [
            "Now Playing:\n",
            "\n",
            "Your Love\n",
            "Huling Sayaw\n",
            "Iris\n"
          ]
        }
      ]
    },
    {
      "cell_type": "markdown",
      "source": [
        "# Flow Control\n",
        "The control flow of a program specifies the sequence in which its code is executed.\n",
        "Conditional statements, loops, and function calls all contribute to the control flow of a Python program. \n",
        "\n",
        "Control flow enables the conditional and/or repetitive execution of certain code blocks: these fundamental building blocks may be used to construct astonishingly complex systems. \n",
        "\n",
        "However, without it, a program is nothing more than a collection of sequentially executed statements [10]."
      ],
      "metadata": {
        "id": "TOt8igYvzFyh"
      }
    },
    {
      "cell_type": "markdown",
      "source": [
        "## Condition Statements\n",
        "Generally, conditional statements are referred to as decision-making statements. We must utilize these conditional statements to determine whether a certain block of code should be executed if the specified condition is true or false [11]. We can accomplish decision-making in Python by utilizing the following statements:\n",
        "\n",
        "* **if statements** -  it is of the most frequently utilized conditional expressions in programming languages. It determines whether or not particular statements should be performed. It tests for a specified condition; if the condition is true, the set of code contained inside the \" if \" block is run; otherwise, the code is not executed [11].\n",
        "\n",
        " When a Boolean statement translates to TRUE, the if condition tests it and runs the block of code.\n",
        "\n",
        "* **if-else statements -** The statement directly states that if a certain condition is true, the statements contained inside the \"if block\" should be executed; if the condition is false, the \"else\" block should be executed [11].\n",
        "\n",
        "* **nested if-else statements** - Nested \"if-else\" statements indicate the presence of a \"if\" or \"if-else\" statement within another if or if-else block. Python also has this functionality, which enables us to verify numerous conditions inside a single program [11].\n",
        "\n",
        "* **elif** - used to verify several conditions only if one of them is false."
      ],
      "metadata": {
        "id": "vRwShTjkzQCw"
      }
    },
    {
      "cell_type": "code",
      "source": [
        "numeral1, numeral2 = 17, 3\n",
        "if(numeral1==numeral2):\n",
        "  print(\"Yeyy\")\n",
        "elif(numeral1>numeral2):\n",
        "  print(\"Huhu\")\n",
        "else:\n",
        "  print(\"Awit\")"
      ],
      "metadata": {
        "colab": {
          "base_uri": "https://localhost:8080/"
        },
        "id": "8-fsiuxhzUTI",
        "outputId": "8988d52c-137b-4c9e-9094-8024296819b8"
      },
      "execution_count": null,
      "outputs": [
        {
          "output_type": "stream",
          "name": "stdout",
          "text": [
            "Huhu\n"
          ]
        }
      ]
    },
    {
      "cell_type": "code",
      "source": [
        "rank1, rank2 = 5, 4\n",
        "if(rank1>rank2):\n",
        "  print(\"Grandmaster\")\n",
        "elif(rank1<rank2):\n",
        "  print(\"Epic\")\n",
        "else:\n",
        "  print(\"Legend\")"
      ],
      "metadata": {
        "colab": {
          "base_uri": "https://localhost:8080/"
        },
        "id": "x1zGeAR8J0cF",
        "outputId": "e84bf043-b299-4234-dcbb-c82bc4f12bc5"
      },
      "execution_count": 53,
      "outputs": [
        {
          "output_type": "stream",
          "name": "stdout",
          "text": [
            "Grandmaster\n"
          ]
        }
      ]
    },
    {
      "cell_type": "markdown",
      "source": [
        "##Functions\n",
        "A function is a collection of connected statements that accomplish a certain task. Functions aid in the decomposition of our program into smaller, modular portions. Additionally, it eliminates duplication and makes the code more reusable [12].\n",
        "\n",
        "Entering and exiting are the two primary actions of functions that manage flow. When you call a function, the parent flow's execution is suspended. You remain inside the function's flow until it performs a return statement - or until it runs out of things to accomplish. This may be used to break out of almost any loop."
      ],
      "metadata": {
        "id": "OOp3Sgdp5itl"
      }
    },
    {
      "cell_type": "code",
      "source": [
        "# void DeleteUser(int userid){\n",
        "#     delete(userid);    \n",
        "# } \n",
        "\n",
        "def delete_user (userid):\n",
        "  print(\"Successfully deleted user: {}\".format(userid))\n",
        "\n",
        "def delete_all_users ():\n",
        "  print(\"RIP Users\")"
      ],
      "metadata": {
        "id": "F1jMg03A3Sge"
      },
      "execution_count": null,
      "outputs": []
    },
    {
      "cell_type": "code",
      "source": [
        "userid = \"Purple\"\n",
        "delete_user(\"Purple\")\n",
        "delete_all_users()"
      ],
      "metadata": {
        "colab": {
          "base_uri": "https://localhost:8080/"
        },
        "id": "Ab39MOFL47-l",
        "outputId": "4da2e5cf-b53a-4642-c53c-ec1333561065"
      },
      "execution_count": null,
      "outputs": [
        {
          "output_type": "stream",
          "name": "stdout",
          "text": [
            "Successfully deleted user: Purple\n",
            "RIP Users\n"
          ]
        }
      ]
    },
    {
      "cell_type": "code",
      "source": [
        "def add(addend1, addend2):\n",
        "  return addend1 + addend2\n",
        "\n",
        "def power_of_base3(exponent):\n",
        "  return 3**exponent"
      ],
      "metadata": {
        "id": "zXOOsuIF3kpV"
      },
      "execution_count": null,
      "outputs": []
    },
    {
      "cell_type": "code",
      "source": [
        "#addend1, addend2 = 36, 37\n",
        "#add(addend1, addend2)\n",
        "exponent = 6\n",
        "power_of_base3(exponent)"
      ],
      "metadata": {
        "colab": {
          "base_uri": "https://localhost:8080/"
        },
        "id": "9_cVpL-k360l",
        "outputId": "620f129c-3264-466b-c44f-b7834c81dbde"
      },
      "execution_count": null,
      "outputs": [
        {
          "output_type": "execute_result",
          "data": {
            "text/plain": [
              "729"
            ]
          },
          "metadata": {},
          "execution_count": 11
        }
      ]
    },
    {
      "cell_type": "code",
      "source": [
        "def subtract(left, right):\n",
        "  return left - right\n",
        "\n",
        "def power_of_base8(exponent):\n",
        "  return 8**exponent"
      ],
      "metadata": {
        "id": "gyVnCYfyMXYS"
      },
      "execution_count": 58,
      "outputs": []
    },
    {
      "cell_type": "code",
      "source": [
        "#left, right = 77, 19\n",
        "#subtract(left, right) \n",
        "exponent = 5 \n",
        "power_of_base8(exponent)"
      ],
      "metadata": {
        "colab": {
          "base_uri": "https://localhost:8080/"
        },
        "id": "LgmjmOjgNZi4",
        "outputId": "940486e4-455c-4bdd-a66f-c6fd5d002724"
      },
      "execution_count": 59,
      "outputs": [
        {
          "output_type": "execute_result",
          "data": {
            "text/plain": [
              "32768"
            ]
          },
          "metadata": {},
          "execution_count": 59
        }
      ]
    },
    {
      "cell_type": "markdown",
      "source": [
        "# Activity"
      ],
      "metadata": {
        "id": "DaDN6cE-Dlja"
      }
    },
    {
      "cell_type": "code",
      "source": [
        "Name_of_Student = input(\"Name_of_Student: \")\n",
        "Program = input(\"Program: \")\n",
        "Course = input(\"Course: \")\n",
        "Prelim =float(input(\"Enter Prelim Grade: \"))\n",
        "Midterm =float(input(\"Enter Midterm Grade: \"))\n",
        "Finals =float(input(\"Enter Final Grade: \"))\n",
        "Semestral_Grade = (Prelim*0.30)+(Midterm*0.30)+(Finals*0.40);\n",
        "Rounded_off_Sem_Grade = \"{:.2f}\".format(Semestral_Grade)\n",
        "print( \"-------------------------------------------------------------------------------------------------\")\n",
        "print(\"\\nProgram:{}\". format(Program))\n",
        "print(\"Greetings! {}, we would like to inform you that your semestral grade in {} is: {} \".format(Name_of_Student, Course, Rounded_off_Sem_Grade))\n",
        "if(Semestral_Grade > 70.00):\n",
        "  print(\"\\U0001F600\\U0001F600\\U0001F600\");\n",
        "  print(\"Congratulations you passed the course !!\")\n",
        "elif(Semestral_Grade == 70.00):\n",
        "  print(\"\\U0001F606\\U0001F606\\U0001F606\");\n",
        "  print(\"Congratulations you passed the course !!\")\n",
        "else:\n",
        "  print(\"\\U0001F62D\\U0001F606\\U0001F62D\");\n",
        "  print(\"We regret to hear that you failed this subject.\")"
      ],
      "metadata": {
        "id": "x4c9CPgfINGv",
        "colab": {
          "base_uri": "https://localhost:8080/"
        },
        "outputId": "3b5e2631-ac8a-48fe-ffaa-a5221db4e29f"
      },
      "execution_count": 65,
      "outputs": [
        {
          "output_type": "stream",
          "name": "stdout",
          "text": [
            "Name_of_Student: Ms. Gianne Portia O. Yaya\n",
            "Program: BS Chemical Engineering\n",
            "Course: Linear Algebra\n",
            "Enter Prelim Grade: 96\n",
            "Enter Midterm Grade: 95.71\n",
            "Enter Final Grade: 98.025\n",
            "-------------------------------------------------------------------------------------------------\n",
            "\n",
            "Program:BS Chemical Engineering\n",
            "Greetings! Ms. Gianne Portia O. Yaya, we would like to inform you that your semestral grade in Linear Algebra is: 96.72 \n",
            "😀😀😀\n",
            "Congratulations you passed the course !!\n"
          ]
        }
      ]
    }
  ]
}